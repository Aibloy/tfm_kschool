{
 "cells": [
  {
   "cell_type": "code",
   "execution_count": null,
   "metadata": {},
   "outputs": [],
   "source": [
    "\"\"\" \n",
    "import pickle\n",
    "import pandas as pd\n",
    "\n",
    "#Obtener lista de usuarios de base de datos original de twisty: \n",
    "usuarios = pd.read_json(\"TwiSty-ES.json\",orient=\"index\")[\"user_id\"].tolist()\n",
    "\n",
    "\n",
    "#Guardar usuarios en un pickle: \n",
    "with open(\"usuarios.pkl\",\"wb\") as file:\n",
    "    pickle.dump(usuarios,file)\n",
    "    \n",
    "#---------------------------------------------------------------------------------------------------\n",
    "#Crear lista de usuarios empty donde ir introduciendo los usuarios hechos: \n",
    "usuarios_done = []\n",
    "with open(\"usuarios_done.pkl\",\"wb\") as file:\n",
    "    pickle.dump(usuarios_done,file)\n",
    "    \n",
    "\n",
    "with open(\"usuarios.pkl\",\"rb\") as f:\n",
    "    usuarios = pickle.load(f)\n",
    "\n",
    "# Crear diccionario empty con los ID de usuarios como claves, donde ir guardando sus tweets recogidos:\n",
    "tweets = {}\n",
    "for i in usuarios:\n",
    "    tweets[i] = None\n",
    "    \n",
    "with open('tweets.json',\"w\") as file:\n",
    "    json.dump(tweets, file)  \n",
    "    \n",
    "\"\"\""
   ]
  },
  {
   "cell_type": "code",
   "execution_count": 20,
   "metadata": {
    "ExecuteTime": {
     "end_time": "2020-08-23T16:50:36.010712Z",
     "start_time": "2020-08-23T16:50:35.941514Z"
    }
   },
   "outputs": [],
   "source": [
    "import tweepy as tw \n",
    "import json\n",
    "import pandas as pd\n",
    "import pickle\n",
    "\n",
    "#Obtener claves para conectarse a la api de Twitter:\n",
    "with open(\"api_keys.txt\",\"r\") as file:      #Las claves deben estar en el archivo .txt\n",
    "    for line in file:\n",
    "        exec(line)\n",
    "    claves = tw.OAuthHandler(consumer_key, consumer_secret)\n",
    "    claves.set_access_token(access_token, access_token_secret)\n",
    "    api = tw.API(claves, wait_on_rate_limit=True)\n",
    "\n",
    "def get_tweets(user,N):\n",
    "    \"\"\" Obtener -al menos- N Tweets de un usuario\"\"\"\n",
    "    try: # Si el usuario no existe o es privado:\n",
    "        tweets = api.user_timeline(user_id=user, count=200, include_rts=False, tweet_mode='extended')\n",
    "        corpus = [tweet.full_text for tweet in tweets]\n",
    "        oldest = tweets[-1].id\n",
    "    except:\n",
    "        corpus = []\n",
    "    if len(corpus) != 0: \n",
    "        try: # Si no se pueden obtener mas tweets: \n",
    "            while len(corpus) < N:\n",
    "                tweets_news = api.user_timeline(user_id=user, count=200, include_rts=False, tweet_mode='extended', max_id = oldest -1 )\n",
    "                new_corpus = [tweet.full_text for tweet in tweets_news]\n",
    "                oldest = tweets_news[-1].id\n",
    "                corpus.extend(new_corpus) \n",
    "        except:\n",
    "            pass\n",
    "        \n",
    "    return corpus \n",
    "\n",
    "def get_data(N):\n",
    "\n",
    "    #Abrir listas que contienen los usuarios buscados y por buscar y diccionario donde guardar los tweets\n",
    "    with open(\"usuarios.pkl\",\"rb\") as f1, open (\"usuarios_done.pkl\",\"rb\") as f2, open(\"tweets.json\") as f3:\n",
    "        usuarios = pickle.load(f1)\n",
    "        usuarios_done=pickle.load(f2)\n",
    "        tweets=json.load(f3)\n",
    "\n",
    "    contador = 0\n",
    "        \n",
    "    for user in [user for user in usuarios if user not in usuarios_done]:\n",
    "        contador +=1\n",
    "        corpus_user = get_tweets(user,2000)             # <--------------- N tweets\n",
    "        tweets[user] = corpus_user\n",
    "        total = len(corpus_user)\n",
    "        print(f\"Del usuario {contador} de {N} se han recogido {total} Tweets\")\n",
    "        usuarios_done.append(user)\n",
    "        \n",
    "        if contador ==N:\n",
    "            break\n",
    "            \n",
    "            \n",
    "    #Guardar cambios:\n",
    "    with open(\"usuarios_done.pkl\",\"wb\") as f1, open(\"tweets.json\",\"w\") as f2:\n",
    "        pickle.dump(usuarios_done,f1)\n",
    "        json.dump(tweets,f2)\n",
    "        \n",
    "    "
   ]
  },
  {
   "cell_type": "code",
   "execution_count": 21,
   "metadata": {
    "ExecuteTime": {
     "end_time": "2020-08-23T16:54:03.841243Z",
     "start_time": "2020-08-23T16:51:12.621566Z"
    },
    "scrolled": true
   },
   "outputs": [
    {
     "name": "stdout",
     "output_type": "stream",
     "text": [
      "Del usuario 1 de 50 se han recogido 1533 Tweets\n",
      "Del usuario 2 de 50 se han recogido 1517 Tweets\n",
      "Del usuario 3 de 50 se han recogido 0 Tweets\n",
      "Del usuario 4 de 50 se han recogido 2132 Tweets\n",
      "Del usuario 5 de 50 se han recogido 853 Tweets\n",
      "Del usuario 6 de 50 se han recogido 0 Tweets\n",
      "Del usuario 7 de 50 se han recogido 897 Tweets\n",
      "Del usuario 8 de 50 se han recogido 2058 Tweets\n",
      "Del usuario 9 de 50 se han recogido 0 Tweets\n",
      "Del usuario 10 de 50 se han recogido 690 Tweets\n",
      "Del usuario 11 de 50 se han recogido 2014 Tweets\n",
      "Del usuario 12 de 50 se han recogido 2076 Tweets\n"
     ]
    }
   ],
   "source": [
    "get_data(50)"
   ]
  },
  {
   "cell_type": "markdown",
   "metadata": {},
   "source": [
    "2 horas y 45m para mil "
   ]
  },
  {
   "cell_type": "code",
   "execution_count": 1,
   "metadata": {
    "ExecuteTime": {
     "end_time": "2020-08-25T08:52:06.858195Z",
     "start_time": "2020-08-25T08:51:51.092357Z"
    },
    "code_folding": []
   },
   "outputs": [
    {
     "name": "stdout",
     "output_type": "stream",
     "text": [
      "Total de Tweets recopilados: 12995504\n",
      "Total de usuarios recopilados -No Empty- : 8900\n",
      "Total de usuarios intentados: 10772\n"
     ]
    }
   ],
   "source": [
    "\n",
    "# Total de usuarios: 10772\n",
    "import pickle\n",
    "with open(\"tweets.json\", \"r\") as f1, open(\"usuarios_done.pkl\",\"rb\") as f2:\n",
    "    tweets = json.load(f1)\n",
    "    usuarios_done = pickle.load(f2)\n",
    "    f1.close()\n",
    "    f2.close()\n",
    "    \n",
    "total = []\n",
    "for i in list(tweets):\n",
    "    try:\n",
    "        n = len(tweets[i])\n",
    "    except:\n",
    "        n = 0\n",
    "    total.append(n)\n",
    "\n",
    "print(f\"Total de Tweets recopilados: {sum(total)}\")\n",
    "print(f\"Total de usuarios recopilados -No Empty- : {len([x for x in total if x!=0])}\")   \n",
    "print(f\"Total de usuarios intentados: {len(usuarios_done)}\")\n"
   ]
  },
  {
   "cell_type": "code",
   "execution_count": null,
   "metadata": {},
   "outputs": [],
   "source": []
  }
 ],
 "metadata": {
  "hide_input": false,
  "kernelspec": {
   "display_name": "Python 3",
   "language": "python",
   "name": "python3"
  },
  "language_info": {
   "codemirror_mode": {
    "name": "ipython",
    "version": 3
   },
   "file_extension": ".py",
   "mimetype": "text/x-python",
   "name": "python",
   "nbconvert_exporter": "python",
   "pygments_lexer": "ipython3",
   "version": "3.7.6"
  },
  "toc": {
   "base_numbering": 1,
   "nav_menu": {},
   "number_sections": true,
   "sideBar": true,
   "skip_h1_title": false,
   "title_cell": "Table of Contents",
   "title_sidebar": "Contents",
   "toc_cell": false,
   "toc_position": {},
   "toc_section_display": true,
   "toc_window_display": false
  },
  "varInspector": {
   "cols": {
    "lenName": 16,
    "lenType": 16,
    "lenVar": 40
   },
   "kernels_config": {
    "python": {
     "delete_cmd_postfix": "",
     "delete_cmd_prefix": "del ",
     "library": "var_list.py",
     "varRefreshCmd": "print(var_dic_list())"
    },
    "r": {
     "delete_cmd_postfix": ") ",
     "delete_cmd_prefix": "rm(",
     "library": "var_list.r",
     "varRefreshCmd": "cat(var_dic_list()) "
    }
   },
   "position": {
    "height": "517.5px",
    "left": "1349px",
    "right": "20px",
    "top": "120px",
    "width": "338.496px"
   },
   "types_to_exclude": [
    "module",
    "function",
    "builtin_function_or_method",
    "instance",
    "_Feature"
   ],
   "window_display": true
  }
 },
 "nbformat": 4,
 "nbformat_minor": 4
}
