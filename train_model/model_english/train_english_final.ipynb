{
 "cells": [
  {
   "cell_type": "code",
   "execution_count": 1,
   "metadata": {
    "ExecuteTime": {
     "end_time": "2020-09-08T14:38:47.318170Z",
     "start_time": "2020-09-08T14:38:39.360852Z"
    }
   },
   "outputs": [
    {
     "data": {
      "text/html": [
       "<div>\n",
       "<style scoped>\n",
       "    .dataframe tbody tr th:only-of-type {\n",
       "        vertical-align: middle;\n",
       "    }\n",
       "\n",
       "    .dataframe tbody tr th {\n",
       "        vertical-align: top;\n",
       "    }\n",
       "\n",
       "    .dataframe thead th {\n",
       "        text-align: right;\n",
       "    }\n",
       "</style>\n",
       "<table border=\"1\" class=\"dataframe\">\n",
       "  <thead>\n",
       "    <tr style=\"text-align: right;\">\n",
       "      <th></th>\n",
       "      <th>type</th>\n",
       "      <th>comment</th>\n",
       "      <th>clean_comment</th>\n",
       "      <th>word_count</th>\n",
       "    </tr>\n",
       "  </thead>\n",
       "  <tbody>\n",
       "    <tr>\n",
       "      <th>0</th>\n",
       "      <td>infj</td>\n",
       "      <td>the thing about dogs, they're better than peop...</td>\n",
       "      <td>the thing about dogs they re better than peopl...</td>\n",
       "      <td>655</td>\n",
       "    </tr>\n",
       "    <tr>\n",
       "      <th>1</th>\n",
       "      <td>enfp</td>\n",
       "      <td>haha he's only 4 years older than me, so i hav...</td>\n",
       "      <td>haha he s only years older than me so i have a...</td>\n",
       "      <td>967</td>\n",
       "    </tr>\n",
       "    <tr>\n",
       "      <th>2</th>\n",
       "      <td>enfp</td>\n",
       "      <td>leahomme  he was tested for university  lemoni...</td>\n",
       "      <td>leahomme he was tested for university lemonice...</td>\n",
       "      <td>1241</td>\n",
       "    </tr>\n",
       "    <tr>\n",
       "      <th>3</th>\n",
       "      <td>istp</td>\n",
       "      <td>you need to come to canada! ||| you forgot thi...</td>\n",
       "      <td>you need to come to canada you forgot this.......</td>\n",
       "      <td>642</td>\n",
       "    </tr>\n",
       "    <tr>\n",
       "      <th>4</th>\n",
       "      <td>intp</td>\n",
       "      <td>'my ex invited me to her cheese and wine party...</td>\n",
       "      <td>my ex invited me to her cheese and wine party...</td>\n",
       "      <td>1478</td>\n",
       "    </tr>\n",
       "  </tbody>\n",
       "</table>\n",
       "</div>"
      ],
      "text/plain": [
       "   type                                            comment  \\\n",
       "0  infj  the thing about dogs, they're better than peop...   \n",
       "1  enfp  haha he's only 4 years older than me, so i hav...   \n",
       "2  enfp  leahomme  he was tested for university  lemoni...   \n",
       "3  istp  you need to come to canada! ||| you forgot thi...   \n",
       "4  intp  'my ex invited me to her cheese and wine party...   \n",
       "\n",
       "                                       clean_comment  word_count  \n",
       "0  the thing about dogs they re better than peopl...         655  \n",
       "1  haha he s only years older than me so i have a...         967  \n",
       "2  leahomme he was tested for university lemonice...        1241  \n",
       "3  you need to come to canada you forgot this.......         642  \n",
       "4   my ex invited me to her cheese and wine party...        1478  "
      ]
     },
     "execution_count": 1,
     "metadata": {},
     "output_type": "execute_result"
    }
   ],
   "source": [
    "ruta = \"../data/data_english/\"\n",
    "import pandas as pd \n",
    "data = pd.read_csv(ruta+\"data.csv\")\n",
    "data.head()"
   ]
  },
  {
   "cell_type": "code",
   "execution_count": 2,
   "metadata": {
    "ExecuteTime": {
     "end_time": "2020-09-08T14:38:50.839364Z",
     "start_time": "2020-09-08T14:38:50.485859Z"
    }
   },
   "outputs": [
    {
     "data": {
      "image/png": "[encoded data removed]",
      "text/plain": [
       "<Figure size 432x288 with 1 Axes>"
      ]
     },
     "metadata": {
      "needs_background": "light"
     },
     "output_type": "display_data"
    }
   ],
   "source": [
    "data[\"type\"].value_counts().plot(kind=\"bar\");"
   ]
  },
  {
   "cell_type": "code",
   "execution_count": 3,
   "metadata": {
    "ExecuteTime": {
     "end_time": "2020-09-08T14:38:52.792723Z",
     "start_time": "2020-09-08T14:38:52.708151Z"
    }
   },
   "outputs": [
    {
     "data": {
      "image/png": "[encoded data removed]",
      "text/plain": [
       "<Figure size 432x288 with 1 Axes>"
      ]
     },
     "metadata": {
      "needs_background": "light"
     },
     "output_type": "display_data"
    }
   ],
   "source": [
    "data[\"type\"].apply(lambda x: x[0]).value_counts().plot(kind=\"bar\");"
   ]
  },
  {
   "cell_type": "markdown",
   "metadata": {},
   "source": [
    "### Code texts"
   ]
  },
  {
   "cell_type": "code",
   "execution_count": null,
   "metadata": {},
   "outputs": [],
   "source": [
    "from sklearn.feature_extraction.text import CountVectorizer\n",
    "vect = CountVectorizer(max_features=5000, ngram_range=(1,3))\n",
    "X_cv = vect.fit_transform(data[\"clean_comment\"])\n",
    "X_cv = pd.DataFrame(X_cv.toarray(), columns = vect.get_feature_names())"
   ]
  },
  {
   "cell_type": "code",
   "execution_count": 9,
   "metadata": {
    "ExecuteTime": {
     "end_time": "2020-09-08T14:44:04.026147Z",
     "start_time": "2020-09-08T14:44:04.013209Z"
    }
   },
   "outputs": [
    {
     "data": {
      "text/html": [
       "<div>\n",
       "<style scoped>\n",
       "    .dataframe tbody tr th:only-of-type {\n",
       "        vertical-align: middle;\n",
       "    }\n",
       "\n",
       "    .dataframe tbody tr th {\n",
       "        vertical-align: top;\n",
       "    }\n",
       "\n",
       "    .dataframe thead th {\n",
       "        text-align: right;\n",
       "    }\n",
       "</style>\n",
       "<table border=\"1\" class=\"dataframe\">\n",
       "  <thead>\n",
       "    <tr style=\"text-align: right;\">\n",
       "      <th></th>\n",
       "      <th>ability</th>\n",
       "      <th>ability to</th>\n",
       "      <th>able</th>\n",
       "      <th>able to</th>\n",
       "      <th>about</th>\n",
       "      <th>about being</th>\n",
       "      <th>about her</th>\n",
       "      <th>about how</th>\n",
       "      <th>about it</th>\n",
       "      <th>about me</th>\n",
       "      <th>...</th>\n",
       "      <th>your mind</th>\n",
       "      <th>your own</th>\n",
       "      <th>your post</th>\n",
       "      <th>your type</th>\n",
       "      <th>yours</th>\n",
       "      <th>yourself</th>\n",
       "      <th>youtube</th>\n",
       "      <th>yup</th>\n",
       "      <th>zero</th>\n",
       "      <th>zone</th>\n",
       "    </tr>\n",
       "  </thead>\n",
       "  <tbody>\n",
       "    <tr>\n",
       "      <th>0</th>\n",
       "      <td>0</td>\n",
       "      <td>0</td>\n",
       "      <td>1</td>\n",
       "      <td>1</td>\n",
       "      <td>3</td>\n",
       "      <td>0</td>\n",
       "      <td>0</td>\n",
       "      <td>0</td>\n",
       "      <td>0</td>\n",
       "      <td>0</td>\n",
       "      <td>...</td>\n",
       "      <td>0</td>\n",
       "      <td>0</td>\n",
       "      <td>0</td>\n",
       "      <td>0</td>\n",
       "      <td>0</td>\n",
       "      <td>0</td>\n",
       "      <td>0</td>\n",
       "      <td>0</td>\n",
       "      <td>0</td>\n",
       "      <td>0</td>\n",
       "    </tr>\n",
       "    <tr>\n",
       "      <th>1</th>\n",
       "      <td>0</td>\n",
       "      <td>0</td>\n",
       "      <td>1</td>\n",
       "      <td>1</td>\n",
       "      <td>4</td>\n",
       "      <td>0</td>\n",
       "      <td>0</td>\n",
       "      <td>0</td>\n",
       "      <td>0</td>\n",
       "      <td>0</td>\n",
       "      <td>...</td>\n",
       "      <td>0</td>\n",
       "      <td>0</td>\n",
       "      <td>0</td>\n",
       "      <td>0</td>\n",
       "      <td>0</td>\n",
       "      <td>0</td>\n",
       "      <td>0</td>\n",
       "      <td>0</td>\n",
       "      <td>0</td>\n",
       "      <td>0</td>\n",
       "    </tr>\n",
       "    <tr>\n",
       "      <th>2</th>\n",
       "      <td>0</td>\n",
       "      <td>0</td>\n",
       "      <td>1</td>\n",
       "      <td>1</td>\n",
       "      <td>2</td>\n",
       "      <td>0</td>\n",
       "      <td>0</td>\n",
       "      <td>0</td>\n",
       "      <td>0</td>\n",
       "      <td>0</td>\n",
       "      <td>...</td>\n",
       "      <td>0</td>\n",
       "      <td>0</td>\n",
       "      <td>0</td>\n",
       "      <td>0</td>\n",
       "      <td>0</td>\n",
       "      <td>1</td>\n",
       "      <td>1</td>\n",
       "      <td>0</td>\n",
       "      <td>0</td>\n",
       "      <td>0</td>\n",
       "    </tr>\n",
       "    <tr>\n",
       "      <th>3</th>\n",
       "      <td>0</td>\n",
       "      <td>0</td>\n",
       "      <td>0</td>\n",
       "      <td>0</td>\n",
       "      <td>1</td>\n",
       "      <td>0</td>\n",
       "      <td>0</td>\n",
       "      <td>0</td>\n",
       "      <td>0</td>\n",
       "      <td>0</td>\n",
       "      <td>...</td>\n",
       "      <td>0</td>\n",
       "      <td>0</td>\n",
       "      <td>0</td>\n",
       "      <td>0</td>\n",
       "      <td>0</td>\n",
       "      <td>0</td>\n",
       "      <td>0</td>\n",
       "      <td>0</td>\n",
       "      <td>0</td>\n",
       "      <td>0</td>\n",
       "    </tr>\n",
       "    <tr>\n",
       "      <th>4</th>\n",
       "      <td>0</td>\n",
       "      <td>0</td>\n",
       "      <td>0</td>\n",
       "      <td>0</td>\n",
       "      <td>3</td>\n",
       "      <td>0</td>\n",
       "      <td>0</td>\n",
       "      <td>1</td>\n",
       "      <td>0</td>\n",
       "      <td>0</td>\n",
       "      <td>...</td>\n",
       "      <td>0</td>\n",
       "      <td>0</td>\n",
       "      <td>1</td>\n",
       "      <td>0</td>\n",
       "      <td>0</td>\n",
       "      <td>1</td>\n",
       "      <td>2</td>\n",
       "      <td>0</td>\n",
       "      <td>0</td>\n",
       "      <td>0</td>\n",
       "    </tr>\n",
       "  </tbody>\n",
       "</table>\n",
       "<p>5 rows × 5000 columns</p>\n",
       "</div>"
      ],
      "text/plain": [
       "   ability  ability to  able  able to  about  about being  about her  \\\n",
       "0        0           0     1        1      3            0          0   \n",
       "1        0           0     1        1      4            0          0   \n",
       "2        0           0     1        1      2            0          0   \n",
       "3        0           0     0        0      1            0          0   \n",
       "4        0           0     0        0      3            0          0   \n",
       "\n",
       "   about how  about it  about me  ...  your mind  your own  your post  \\\n",
       "0          0         0         0  ...          0         0          0   \n",
       "1          0         0         0  ...          0         0          0   \n",
       "2          0         0         0  ...          0         0          0   \n",
       "3          0         0         0  ...          0         0          0   \n",
       "4          1         0         0  ...          0         0          1   \n",
       "\n",
       "   your type  yours  yourself  youtube  yup  zero  zone  \n",
       "0          0      0         0        0    0     0     0  \n",
       "1          0      0         0        0    0     0     0  \n",
       "2          0      0         1        1    0     0     0  \n",
       "3          0      0         0        0    0     0     0  \n",
       "4          0      0         1        2    0     0     0  \n",
       "\n",
       "[5 rows x 5000 columns]"
      ]
     },
     "execution_count": 9,
     "metadata": {},
     "output_type": "execute_result"
    }
   ],
   "source": [
    "X_cv.head()"
   ]
  },
  {
   "cell_type": "code",
   "execution_count": 17,
   "metadata": {
    "ExecuteTime": {
     "end_time": "2020-09-08T16:12:29.766797Z",
     "start_time": "2020-09-08T16:07:34.948219Z"
    }
   },
   "outputs": [],
   "source": [
    "from sklearn.feature_extraction.text import TfidfVectorizer\n",
    "vect = TfidfVectorizer(max_features=5000, ngram_range=(1,3))\n",
    "X_tfidf = vect.fit_transform(data[\"clean_comment\"])\n",
    "X_tfidf = pd.DataFrame(X_tfidf.toarray(), columns = vect.get_feature_names())"
   ]
  },
  {
   "cell_type": "code",
   "execution_count": 18,
   "metadata": {
    "ExecuteTime": {
     "end_time": "2020-09-08T16:12:30.802948Z",
     "start_time": "2020-09-08T16:12:30.732750Z"
    }
   },
   "outputs": [
    {
     "data": {
      "text/html": [
       "<div>\n",
       "<style scoped>\n",
       "    .dataframe tbody tr th:only-of-type {\n",
       "        vertical-align: middle;\n",
       "    }\n",
       "\n",
       "    .dataframe tbody tr th {\n",
       "        vertical-align: top;\n",
       "    }\n",
       "\n",
       "    .dataframe thead th {\n",
       "        text-align: right;\n",
       "    }\n",
       "</style>\n",
       "<table border=\"1\" class=\"dataframe\">\n",
       "  <thead>\n",
       "    <tr style=\"text-align: right;\">\n",
       "      <th></th>\n",
       "      <th>ability</th>\n",
       "      <th>ability to</th>\n",
       "      <th>able</th>\n",
       "      <th>able to</th>\n",
       "      <th>about</th>\n",
       "      <th>about being</th>\n",
       "      <th>about her</th>\n",
       "      <th>about how</th>\n",
       "      <th>about it</th>\n",
       "      <th>about me</th>\n",
       "      <th>...</th>\n",
       "      <th>your mind</th>\n",
       "      <th>your own</th>\n",
       "      <th>your post</th>\n",
       "      <th>your type</th>\n",
       "      <th>yours</th>\n",
       "      <th>yourself</th>\n",
       "      <th>youtube</th>\n",
       "      <th>yup</th>\n",
       "      <th>zero</th>\n",
       "      <th>zone</th>\n",
       "    </tr>\n",
       "  </thead>\n",
       "  <tbody>\n",
       "    <tr>\n",
       "      <th>0</th>\n",
       "      <td>0.0</td>\n",
       "      <td>0.0</td>\n",
       "      <td>0.028208</td>\n",
       "      <td>0.028522</td>\n",
       "      <td>0.039800</td>\n",
       "      <td>0.0</td>\n",
       "      <td>0.0</td>\n",
       "      <td>0.000000</td>\n",
       "      <td>0.0</td>\n",
       "      <td>0.0</td>\n",
       "      <td>...</td>\n",
       "      <td>0.0</td>\n",
       "      <td>0.0</td>\n",
       "      <td>0.000000</td>\n",
       "      <td>0.0</td>\n",
       "      <td>0.0</td>\n",
       "      <td>0.000000</td>\n",
       "      <td>0.000000</td>\n",
       "      <td>0.0</td>\n",
       "      <td>0.0</td>\n",
       "      <td>0.0</td>\n",
       "    </tr>\n",
       "    <tr>\n",
       "      <th>1</th>\n",
       "      <td>0.0</td>\n",
       "      <td>0.0</td>\n",
       "      <td>0.020743</td>\n",
       "      <td>0.020975</td>\n",
       "      <td>0.039024</td>\n",
       "      <td>0.0</td>\n",
       "      <td>0.0</td>\n",
       "      <td>0.000000</td>\n",
       "      <td>0.0</td>\n",
       "      <td>0.0</td>\n",
       "      <td>...</td>\n",
       "      <td>0.0</td>\n",
       "      <td>0.0</td>\n",
       "      <td>0.000000</td>\n",
       "      <td>0.0</td>\n",
       "      <td>0.0</td>\n",
       "      <td>0.000000</td>\n",
       "      <td>0.000000</td>\n",
       "      <td>0.0</td>\n",
       "      <td>0.0</td>\n",
       "      <td>0.0</td>\n",
       "    </tr>\n",
       "    <tr>\n",
       "      <th>2</th>\n",
       "      <td>0.0</td>\n",
       "      <td>0.0</td>\n",
       "      <td>0.018588</td>\n",
       "      <td>0.018795</td>\n",
       "      <td>0.017484</td>\n",
       "      <td>0.0</td>\n",
       "      <td>0.0</td>\n",
       "      <td>0.000000</td>\n",
       "      <td>0.0</td>\n",
       "      <td>0.0</td>\n",
       "      <td>...</td>\n",
       "      <td>0.0</td>\n",
       "      <td>0.0</td>\n",
       "      <td>0.000000</td>\n",
       "      <td>0.0</td>\n",
       "      <td>0.0</td>\n",
       "      <td>0.018035</td>\n",
       "      <td>0.027791</td>\n",
       "      <td>0.0</td>\n",
       "      <td>0.0</td>\n",
       "      <td>0.0</td>\n",
       "    </tr>\n",
       "    <tr>\n",
       "      <th>3</th>\n",
       "      <td>0.0</td>\n",
       "      <td>0.0</td>\n",
       "      <td>0.000000</td>\n",
       "      <td>0.000000</td>\n",
       "      <td>0.012794</td>\n",
       "      <td>0.0</td>\n",
       "      <td>0.0</td>\n",
       "      <td>0.000000</td>\n",
       "      <td>0.0</td>\n",
       "      <td>0.0</td>\n",
       "      <td>...</td>\n",
       "      <td>0.0</td>\n",
       "      <td>0.0</td>\n",
       "      <td>0.000000</td>\n",
       "      <td>0.0</td>\n",
       "      <td>0.0</td>\n",
       "      <td>0.000000</td>\n",
       "      <td>0.000000</td>\n",
       "      <td>0.0</td>\n",
       "      <td>0.0</td>\n",
       "      <td>0.0</td>\n",
       "    </tr>\n",
       "    <tr>\n",
       "      <th>4</th>\n",
       "      <td>0.0</td>\n",
       "      <td>0.0</td>\n",
       "      <td>0.000000</td>\n",
       "      <td>0.000000</td>\n",
       "      <td>0.021334</td>\n",
       "      <td>0.0</td>\n",
       "      <td>0.0</td>\n",
       "      <td>0.021416</td>\n",
       "      <td>0.0</td>\n",
       "      <td>0.0</td>\n",
       "      <td>...</td>\n",
       "      <td>0.0</td>\n",
       "      <td>0.0</td>\n",
       "      <td>0.025165</td>\n",
       "      <td>0.0</td>\n",
       "      <td>0.0</td>\n",
       "      <td>0.014670</td>\n",
       "      <td>0.045213</td>\n",
       "      <td>0.0</td>\n",
       "      <td>0.0</td>\n",
       "      <td>0.0</td>\n",
       "    </tr>\n",
       "  </tbody>\n",
       "</table>\n",
       "<p>5 rows × 5000 columns</p>\n",
       "</div>"
      ],
      "text/plain": [
       "   ability  ability to      able   able to     about  about being  about her  \\\n",
       "0      0.0         0.0  0.028208  0.028522  0.039800          0.0        0.0   \n",
       "1      0.0         0.0  0.020743  0.020975  0.039024          0.0        0.0   \n",
       "2      0.0         0.0  0.018588  0.018795  0.017484          0.0        0.0   \n",
       "3      0.0         0.0  0.000000  0.000000  0.012794          0.0        0.0   \n",
       "4      0.0         0.0  0.000000  0.000000  0.021334          0.0        0.0   \n",
       "\n",
       "   about how  about it  about me  ...  your mind  your own  your post  \\\n",
       "0   0.000000       0.0       0.0  ...        0.0       0.0   0.000000   \n",
       "1   0.000000       0.0       0.0  ...        0.0       0.0   0.000000   \n",
       "2   0.000000       0.0       0.0  ...        0.0       0.0   0.000000   \n",
       "3   0.000000       0.0       0.0  ...        0.0       0.0   0.000000   \n",
       "4   0.021416       0.0       0.0  ...        0.0       0.0   0.025165   \n",
       "\n",
       "   your type  yours  yourself   youtube  yup  zero  zone  \n",
       "0        0.0    0.0  0.000000  0.000000  0.0   0.0   0.0  \n",
       "1        0.0    0.0  0.000000  0.000000  0.0   0.0   0.0  \n",
       "2        0.0    0.0  0.018035  0.027791  0.0   0.0   0.0  \n",
       "3        0.0    0.0  0.000000  0.000000  0.0   0.0   0.0  \n",
       "4        0.0    0.0  0.014670  0.045213  0.0   0.0   0.0  \n",
       "\n",
       "[5 rows x 5000 columns]"
      ]
     },
     "execution_count": 18,
     "metadata": {},
     "output_type": "execute_result"
    }
   ],
   "source": [
    "X_tfidf.head()"
   ]
  },
  {
   "cell_type": "code",
   "execution_count": 7,
   "metadata": {
    "ExecuteTime": {
     "end_time": "2020-09-08T14:43:44.061346Z",
     "start_time": "2020-09-08T14:42:57.075375Z"
    }
   },
   "outputs": [],
   "source": [
    "import sys\n",
    "sys.path.append('../Utilities/')\n",
    "from LIWC.LIWC_EN import LIWC_ENGLISH\n",
    "X_LIWC = LIWC_ENGLISH(data[\"clean_comment\"])"
   ]
  },
  {
   "cell_type": "code",
   "execution_count": 8,
   "metadata": {
    "ExecuteTime": {
     "end_time": "2020-09-08T14:43:57.434309Z",
     "start_time": "2020-09-08T14:43:57.415358Z"
    }
   },
   "outputs": [
    {
     "data": {
      "text/html": [
       "<div>\n",
       "<style scoped>\n",
       "    .dataframe tbody tr th:only-of-type {\n",
       "        vertical-align: middle;\n",
       "    }\n",
       "\n",
       "    .dataframe tbody tr th {\n",
       "        vertical-align: top;\n",
       "    }\n",
       "\n",
       "    .dataframe thead th {\n",
       "        text-align: right;\n",
       "    }\n",
       "</style>\n",
       "<table border=\"1\" class=\"dataframe\">\n",
       "  <thead>\n",
       "    <tr style=\"text-align: right;\">\n",
       "      <th></th>\n",
       "      <th>function (Function Words)</th>\n",
       "      <th>pronoun (Pronouns)</th>\n",
       "      <th>ppron (Personal Pronouns)</th>\n",
       "      <th>i (I)</th>\n",
       "      <th>we (We)</th>\n",
       "      <th>you (You)</th>\n",
       "      <th>shehe (SheHe)</th>\n",
       "      <th>they (They)</th>\n",
       "      <th>ipron (Impersonal Pronouns)</th>\n",
       "      <th>article (Articles)</th>\n",
       "      <th>...</th>\n",
       "      <th>home (Home)</th>\n",
       "      <th>money (Money)</th>\n",
       "      <th>relig (Religion)</th>\n",
       "      <th>death (Death)</th>\n",
       "      <th>informal (Informal Language)</th>\n",
       "      <th>swear (Swear)</th>\n",
       "      <th>netspeak (Netspeak)</th>\n",
       "      <th>assent (Assent)</th>\n",
       "      <th>nonflu (Nonfluencies)</th>\n",
       "      <th>filler (Filler Words)</th>\n",
       "    </tr>\n",
       "  </thead>\n",
       "  <tbody>\n",
       "    <tr>\n",
       "      <th>0</th>\n",
       "      <td>0.462595</td>\n",
       "      <td>0.149618</td>\n",
       "      <td>0.080916</td>\n",
       "      <td>0.047328</td>\n",
       "      <td>0.001527</td>\n",
       "      <td>0.024427</td>\n",
       "      <td>0.004580</td>\n",
       "      <td>0.003053</td>\n",
       "      <td>0.068702</td>\n",
       "      <td>0.067176</td>\n",
       "      <td>...</td>\n",
       "      <td>0.000000</td>\n",
       "      <td>0.003053</td>\n",
       "      <td>0.001527</td>\n",
       "      <td>0.003053</td>\n",
       "      <td>0.013740</td>\n",
       "      <td>0.003053</td>\n",
       "      <td>0.003053</td>\n",
       "      <td>0.004580</td>\n",
       "      <td>0.003053</td>\n",
       "      <td>0.000000</td>\n",
       "    </tr>\n",
       "    <tr>\n",
       "      <th>1</th>\n",
       "      <td>0.558428</td>\n",
       "      <td>0.194416</td>\n",
       "      <td>0.125129</td>\n",
       "      <td>0.083764</td>\n",
       "      <td>0.003102</td>\n",
       "      <td>0.014478</td>\n",
       "      <td>0.012410</td>\n",
       "      <td>0.011375</td>\n",
       "      <td>0.069286</td>\n",
       "      <td>0.055843</td>\n",
       "      <td>...</td>\n",
       "      <td>0.000000</td>\n",
       "      <td>0.006205</td>\n",
       "      <td>0.008273</td>\n",
       "      <td>0.001034</td>\n",
       "      <td>0.013444</td>\n",
       "      <td>0.007239</td>\n",
       "      <td>0.001034</td>\n",
       "      <td>0.002068</td>\n",
       "      <td>0.003102</td>\n",
       "      <td>0.000000</td>\n",
       "    </tr>\n",
       "    <tr>\n",
       "      <th>2</th>\n",
       "      <td>0.478646</td>\n",
       "      <td>0.155520</td>\n",
       "      <td>0.104754</td>\n",
       "      <td>0.072522</td>\n",
       "      <td>0.012087</td>\n",
       "      <td>0.016116</td>\n",
       "      <td>0.003223</td>\n",
       "      <td>0.000806</td>\n",
       "      <td>0.050766</td>\n",
       "      <td>0.047542</td>\n",
       "      <td>...</td>\n",
       "      <td>0.008864</td>\n",
       "      <td>0.005641</td>\n",
       "      <td>0.001612</td>\n",
       "      <td>0.000000</td>\n",
       "      <td>0.019339</td>\n",
       "      <td>0.000806</td>\n",
       "      <td>0.010475</td>\n",
       "      <td>0.006446</td>\n",
       "      <td>0.000000</td>\n",
       "      <td>0.001612</td>\n",
       "    </tr>\n",
       "    <tr>\n",
       "      <th>3</th>\n",
       "      <td>0.482866</td>\n",
       "      <td>0.154206</td>\n",
       "      <td>0.102804</td>\n",
       "      <td>0.057632</td>\n",
       "      <td>0.003115</td>\n",
       "      <td>0.032710</td>\n",
       "      <td>0.006231</td>\n",
       "      <td>0.003115</td>\n",
       "      <td>0.051402</td>\n",
       "      <td>0.062305</td>\n",
       "      <td>...</td>\n",
       "      <td>0.003115</td>\n",
       "      <td>0.017134</td>\n",
       "      <td>0.000000</td>\n",
       "      <td>0.003115</td>\n",
       "      <td>0.018692</td>\n",
       "      <td>0.003115</td>\n",
       "      <td>0.006231</td>\n",
       "      <td>0.004673</td>\n",
       "      <td>0.004673</td>\n",
       "      <td>0.001558</td>\n",
       "    </tr>\n",
       "    <tr>\n",
       "      <th>4</th>\n",
       "      <td>0.531123</td>\n",
       "      <td>0.173207</td>\n",
       "      <td>0.121110</td>\n",
       "      <td>0.081867</td>\n",
       "      <td>0.002706</td>\n",
       "      <td>0.016238</td>\n",
       "      <td>0.008796</td>\n",
       "      <td>0.011502</td>\n",
       "      <td>0.051421</td>\n",
       "      <td>0.051421</td>\n",
       "      <td>...</td>\n",
       "      <td>0.001353</td>\n",
       "      <td>0.002030</td>\n",
       "      <td>0.000000</td>\n",
       "      <td>0.000000</td>\n",
       "      <td>0.006766</td>\n",
       "      <td>0.000000</td>\n",
       "      <td>0.000000</td>\n",
       "      <td>0.001353</td>\n",
       "      <td>0.004060</td>\n",
       "      <td>0.000000</td>\n",
       "    </tr>\n",
       "  </tbody>\n",
       "</table>\n",
       "<p>5 rows × 73 columns</p>\n",
       "</div>"
      ],
      "text/plain": [
       "   function (Function Words)  pronoun (Pronouns)  ppron (Personal Pronouns)  \\\n",
       "0                   0.462595            0.149618                   0.080916   \n",
       "1                   0.558428            0.194416                   0.125129   \n",
       "2                   0.478646            0.155520                   0.104754   \n",
       "3                   0.482866            0.154206                   0.102804   \n",
       "4                   0.531123            0.173207                   0.121110   \n",
       "\n",
       "      i (I)   we (We)  you (You)  shehe (SheHe)  they (They)  \\\n",
       "0  0.047328  0.001527   0.024427       0.004580     0.003053   \n",
       "1  0.083764  0.003102   0.014478       0.012410     0.011375   \n",
       "2  0.072522  0.012087   0.016116       0.003223     0.000806   \n",
       "3  0.057632  0.003115   0.032710       0.006231     0.003115   \n",
       "4  0.081867  0.002706   0.016238       0.008796     0.011502   \n",
       "\n",
       "   ipron (Impersonal Pronouns)  article (Articles)  ...  home (Home)  \\\n",
       "0                     0.068702            0.067176  ...     0.000000   \n",
       "1                     0.069286            0.055843  ...     0.000000   \n",
       "2                     0.050766            0.047542  ...     0.008864   \n",
       "3                     0.051402            0.062305  ...     0.003115   \n",
       "4                     0.051421            0.051421  ...     0.001353   \n",
       "\n",
       "   money (Money)  relig (Religion)  death (Death)  \\\n",
       "0       0.003053          0.001527       0.003053   \n",
       "1       0.006205          0.008273       0.001034   \n",
       "2       0.005641          0.001612       0.000000   \n",
       "3       0.017134          0.000000       0.003115   \n",
       "4       0.002030          0.000000       0.000000   \n",
       "\n",
       "   informal (Informal Language)  swear (Swear)  netspeak (Netspeak)  \\\n",
       "0                      0.013740       0.003053             0.003053   \n",
       "1                      0.013444       0.007239             0.001034   \n",
       "2                      0.019339       0.000806             0.010475   \n",
       "3                      0.018692       0.003115             0.006231   \n",
       "4                      0.006766       0.000000             0.000000   \n",
       "\n",
       "   assent (Assent)  nonflu (Nonfluencies)  filler (Filler Words)  \n",
       "0         0.004580               0.003053               0.000000  \n",
       "1         0.002068               0.003102               0.000000  \n",
       "2         0.006446               0.000000               0.001612  \n",
       "3         0.004673               0.004673               0.001558  \n",
       "4         0.001353               0.004060               0.000000  \n",
       "\n",
       "[5 rows x 73 columns]"
      ]
     },
     "execution_count": 8,
     "metadata": {},
     "output_type": "execute_result"
    }
   ],
   "source": [
    "X_LIWC.head()"
   ]
  },
  {
   "cell_type": "markdown",
   "metadata": {},
   "source": [
    "### Stratified K Fold 5 with LGBM \"balanced\" and roc_auc score "
   ]
  },
  {
   "cell_type": "code",
   "execution_count": 19,
   "metadata": {
    "ExecuteTime": {
     "end_time": "2020-09-08T16:14:55.494177Z",
     "start_time": "2020-09-08T16:14:55.480212Z"
    }
   },
   "outputs": [],
   "source": [
    "dict_code = {'i':0, 'e':1, 'n':0, 's':1, 'f':0, 't':1, 'j':0, 'p':1}\n",
    "def code(tipo):\n",
    "    \"\"\"{'i':0, 'e':1, 'n':0, 's':1, 'f':0, 't':1, 'j':0, 'p':1} \"\"\"\n",
    "    return [dict_code[l] for l in tipo]\n",
    "\n",
    "from lightgbm import LGBMClassifier\n",
    "from sklearn.metrics import roc_auc_score\n",
    "from sklearn.model_selection import StratifiedKFold\n",
    "from tqdm.notebook import tqdm\n",
    "def LGBM_KFOLD(splits,X,Y):\n",
    "    \n",
    "    kfold = StratifiedKFold(n_splits=splits, shuffle=True, random_state=42)\n",
    "\n",
    "    f = 0\n",
    "    scores = {}\n",
    "    for i in range(4):\n",
    "        scores[f\"Y_{i}\"] = []\n",
    "    \n",
    "    for train, test in kfold.split(X,Y):\n",
    "        f+=1\n",
    "    \n",
    "        X_train,X_test = X.iloc[train].values,X.iloc[test].values\n",
    "        Y_train,Y_test = Y.iloc[train],Y.iloc[test]\n",
    "        \n",
    "        for i in tqdm(range(4)):\n",
    "            Y_n_train = [code(x)[i] for x in Y_train]\n",
    "            Y_n_test = [code(x)[i] for x in Y_test]\n",
    "            \n",
    "            model = LGBMClassifier(class_weight=\"balanced\")\n",
    "            model.fit(X_train,Y_n_train)\n",
    "            Y_pred = model.predict_proba(X_test)[:,1]\n",
    "            score = roc_auc_score(Y_n_test,Y_pred)\n",
    "            \n",
    "            scores[f\"Y_{i}\"].append(score)\n",
    "\n",
    "        print(f\"KFOLD {f} Done\")\n",
    "    \n",
    "    return pd.DataFrame(scores)  "
   ]
  },
  {
   "cell_type": "markdown",
   "metadata": {},
   "source": [
    "# CV"
   ]
  },
  {
   "cell_type": "code",
   "execution_count": 11,
   "metadata": {
    "ExecuteTime": {
     "end_time": "2020-09-08T14:48:17.406715Z",
     "start_time": "2020-09-08T14:44:11.296598Z"
    }
   },
   "outputs": [
    {
     "data": {
      "application/vnd.jupyter.widget-view+json": {
       "model_id": "e7d252085c104062bcd3bd8b4b4777f6",
       "version_major": 2,
       "version_minor": 0
      },
      "text/plain": [
       "HBox(children=(FloatProgress(value=0.0, max=4.0), HTML(value='')))"
      ]
     },
     "metadata": {},
     "output_type": "display_data"
    },
    {
     "name": "stdout",
     "output_type": "stream",
     "text": [
      "\n",
      "KFOLD 1 Done\n"
     ]
    },
    {
     "data": {
      "application/vnd.jupyter.widget-view+json": {
       "model_id": "5ee6fcd8eea64d17a3f906a7e0be9530",
       "version_major": 2,
       "version_minor": 0
      },
      "text/plain": [
       "HBox(children=(FloatProgress(value=0.0, max=4.0), HTML(value='')))"
      ]
     },
     "metadata": {},
     "output_type": "display_data"
    },
    {
     "name": "stdout",
     "output_type": "stream",
     "text": [
      "\n",
      "KFOLD 2 Done\n"
     ]
    },
    {
     "data": {
      "application/vnd.jupyter.widget-view+json": {
       "model_id": "10522530f1dd4bfbb7f9a64c2f625824",
       "version_major": 2,
       "version_minor": 0
      },
      "text/plain": [
       "HBox(children=(FloatProgress(value=0.0, max=4.0), HTML(value='')))"
      ]
     },
     "metadata": {},
     "output_type": "display_data"
    },
    {
     "name": "stdout",
     "output_type": "stream",
     "text": [
      "\n",
      "KFOLD 3 Done\n"
     ]
    },
    {
     "data": {
      "application/vnd.jupyter.widget-view+json": {
       "model_id": "7b08e150c97343de8469b1b20255b943",
       "version_major": 2,
       "version_minor": 0
      },
      "text/plain": [
       "HBox(children=(FloatProgress(value=0.0, max=4.0), HTML(value='')))"
      ]
     },
     "metadata": {},
     "output_type": "display_data"
    },
    {
     "name": "stdout",
     "output_type": "stream",
     "text": [
      "\n",
      "KFOLD 4 Done\n"
     ]
    },
    {
     "data": {
      "application/vnd.jupyter.widget-view+json": {
       "model_id": "0381b496cd0d443aa5af5e667e915692",
       "version_major": 2,
       "version_minor": 0
      },
      "text/plain": [
       "HBox(children=(FloatProgress(value=0.0, max=4.0), HTML(value='')))"
      ]
     },
     "metadata": {},
     "output_type": "display_data"
    },
    {
     "name": "stdout",
     "output_type": "stream",
     "text": [
      "\n",
      "KFOLD 5 Done\n",
      "            Y_0       Y_1       Y_2       Y_3\n",
      "count  5.000000  5.000000  5.000000  5.000000\n",
      "mean   0.662692  0.656516  0.791028  0.640405\n",
      "std    0.008634  0.009402  0.004615  0.006911\n",
      "min    0.655466  0.645022  0.783133  0.634308\n",
      "25%    0.656997  0.651741  0.790909  0.635176\n",
      "50%    0.657104  0.655105  0.792721  0.638239\n",
      "75%    0.669601  0.660868  0.794132  0.643230\n",
      "max    0.674291  0.669846  0.794244  0.651075\n"
     ]
    },
    {
     "data": {
      "text/html": [
       "<div>\n",
       "<style scoped>\n",
       "    .dataframe tbody tr th:only-of-type {\n",
       "        vertical-align: middle;\n",
       "    }\n",
       "\n",
       "    .dataframe tbody tr th {\n",
       "        vertical-align: top;\n",
       "    }\n",
       "\n",
       "    .dataframe thead th {\n",
       "        text-align: right;\n",
       "    }\n",
       "</style>\n",
       "<table border=\"1\" class=\"dataframe\">\n",
       "  <thead>\n",
       "    <tr style=\"text-align: right;\">\n",
       "      <th></th>\n",
       "      <th>Y_0</th>\n",
       "      <th>Y_1</th>\n",
       "      <th>Y_2</th>\n",
       "      <th>Y_3</th>\n",
       "    </tr>\n",
       "  </thead>\n",
       "  <tbody>\n",
       "    <tr>\n",
       "      <th>0</th>\n",
       "      <td>0.657104</td>\n",
       "      <td>0.655105</td>\n",
       "      <td>0.794132</td>\n",
       "      <td>0.635176</td>\n",
       "    </tr>\n",
       "    <tr>\n",
       "      <th>1</th>\n",
       "      <td>0.656997</td>\n",
       "      <td>0.660868</td>\n",
       "      <td>0.790909</td>\n",
       "      <td>0.638239</td>\n",
       "    </tr>\n",
       "    <tr>\n",
       "      <th>2</th>\n",
       "      <td>0.655466</td>\n",
       "      <td>0.651741</td>\n",
       "      <td>0.792721</td>\n",
       "      <td>0.651075</td>\n",
       "    </tr>\n",
       "    <tr>\n",
       "      <th>3</th>\n",
       "      <td>0.674291</td>\n",
       "      <td>0.645022</td>\n",
       "      <td>0.783133</td>\n",
       "      <td>0.634308</td>\n",
       "    </tr>\n",
       "    <tr>\n",
       "      <th>4</th>\n",
       "      <td>0.669601</td>\n",
       "      <td>0.669846</td>\n",
       "      <td>0.794244</td>\n",
       "      <td>0.643230</td>\n",
       "    </tr>\n",
       "  </tbody>\n",
       "</table>\n",
       "</div>"
      ],
      "text/plain": [
       "        Y_0       Y_1       Y_2       Y_3\n",
       "0  0.657104  0.655105  0.794132  0.635176\n",
       "1  0.656997  0.660868  0.790909  0.638239\n",
       "2  0.655466  0.651741  0.792721  0.651075\n",
       "3  0.674291  0.645022  0.783133  0.634308\n",
       "4  0.669601  0.669846  0.794244  0.643230"
      ]
     },
     "execution_count": 11,
     "metadata": {},
     "output_type": "execute_result"
    }
   ],
   "source": [
    "resultados = LGBM_KFOLD(5, X_cv,data[\"type\"])\n",
    "print(resultados.describe())\n",
    "resultados"
   ]
  },
  {
   "cell_type": "markdown",
   "metadata": {},
   "source": [
    "# TF"
   ]
  },
  {
   "cell_type": "code",
   "execution_count": 21,
   "metadata": {
    "ExecuteTime": {
     "end_time": "2020-09-08T16:38:03.764619Z",
     "start_time": "2020-09-08T16:15:22.004365Z"
    }
   },
   "outputs": [
    {
     "data": {
      "application/vnd.jupyter.widget-view+json": {
       "model_id": "2d3fb7ec4dce4a9790b0cc5dc4a038c6",
       "version_major": 2,
       "version_minor": 0
      },
      "text/plain": [
       "HBox(children=(FloatProgress(value=0.0, max=4.0), HTML(value='')))"
      ]
     },
     "metadata": {},
     "output_type": "display_data"
    },
    {
     "name": "stdout",
     "output_type": "stream",
     "text": [
      "\n",
      "KFOLD 1 Done\n"
     ]
    },
    {
     "data": {
      "application/vnd.jupyter.widget-view+json": {
       "model_id": "655a9fd3b3ee439ca8c4fe051b256ada",
       "version_major": 2,
       "version_minor": 0
      },
      "text/plain": [
       "HBox(children=(FloatProgress(value=0.0, max=4.0), HTML(value='')))"
      ]
     },
     "metadata": {},
     "output_type": "display_data"
    },
    {
     "name": "stdout",
     "output_type": "stream",
     "text": [
      "\n",
      "KFOLD 2 Done\n"
     ]
    },
    {
     "data": {
      "application/vnd.jupyter.widget-view+json": {
       "model_id": "8faa060b07b6484dbcf1cda67ba9ef1e",
       "version_major": 2,
       "version_minor": 0
      },
      "text/plain": [
       "HBox(children=(FloatProgress(value=0.0, max=4.0), HTML(value='')))"
      ]
     },
     "metadata": {},
     "output_type": "display_data"
    },
    {
     "name": "stdout",
     "output_type": "stream",
     "text": [
      "\n",
      "KFOLD 3 Done\n"
     ]
    },
    {
     "data": {
      "application/vnd.jupyter.widget-view+json": {
       "model_id": "2ed5c6700891409d9fe091e71740cbf3",
       "version_major": 2,
       "version_minor": 0
      },
      "text/plain": [
       "HBox(children=(FloatProgress(value=0.0, max=4.0), HTML(value='')))"
      ]
     },
     "metadata": {},
     "output_type": "display_data"
    },
    {
     "name": "stdout",
     "output_type": "stream",
     "text": [
      "\n",
      "KFOLD 4 Done\n"
     ]
    },
    {
     "data": {
      "application/vnd.jupyter.widget-view+json": {
       "model_id": "e89b995c24044698a7e9463d388b7f8b",
       "version_major": 2,
       "version_minor": 0
      },
      "text/plain": [
       "HBox(children=(FloatProgress(value=0.0, max=4.0), HTML(value='')))"
      ]
     },
     "metadata": {},
     "output_type": "display_data"
    },
    {
     "name": "stdout",
     "output_type": "stream",
     "text": [
      "\n",
      "KFOLD 5 Done\n",
      "            Y_0       Y_1       Y_2       Y_3\n",
      "count  5.000000  5.000000  5.000000  5.000000\n",
      "mean   0.656171  0.656572  0.788312  0.635755\n",
      "std    0.003852  0.007248  0.006223  0.003224\n",
      "min    0.652139  0.646666  0.778421  0.633300\n",
      "25%    0.652255  0.651005  0.787839  0.634364\n",
      "50%    0.657655  0.661120  0.788194  0.634590\n",
      "75%    0.657872  0.661463  0.792576  0.635121\n",
      "max    0.660932  0.662605  0.794529  0.641400\n"
     ]
    },
    {
     "data": {
      "text/html": [
       "<div>\n",
       "<style scoped>\n",
       "    .dataframe tbody tr th:only-of-type {\n",
       "        vertical-align: middle;\n",
       "    }\n",
       "\n",
       "    .dataframe tbody tr th {\n",
       "        vertical-align: top;\n",
       "    }\n",
       "\n",
       "    .dataframe thead th {\n",
       "        text-align: right;\n",
       "    }\n",
       "</style>\n",
       "<table border=\"1\" class=\"dataframe\">\n",
       "  <thead>\n",
       "    <tr style=\"text-align: right;\">\n",
       "      <th></th>\n",
       "      <th>Y_0</th>\n",
       "      <th>Y_1</th>\n",
       "      <th>Y_2</th>\n",
       "      <th>Y_3</th>\n",
       "    </tr>\n",
       "  </thead>\n",
       "  <tbody>\n",
       "    <tr>\n",
       "      <th>0</th>\n",
       "      <td>0.657655</td>\n",
       "      <td>0.661463</td>\n",
       "      <td>0.787839</td>\n",
       "      <td>0.641400</td>\n",
       "    </tr>\n",
       "    <tr>\n",
       "      <th>1</th>\n",
       "      <td>0.652255</td>\n",
       "      <td>0.661120</td>\n",
       "      <td>0.788194</td>\n",
       "      <td>0.635121</td>\n",
       "    </tr>\n",
       "    <tr>\n",
       "      <th>2</th>\n",
       "      <td>0.657872</td>\n",
       "      <td>0.651005</td>\n",
       "      <td>0.794529</td>\n",
       "      <td>0.633300</td>\n",
       "    </tr>\n",
       "    <tr>\n",
       "      <th>3</th>\n",
       "      <td>0.660932</td>\n",
       "      <td>0.646666</td>\n",
       "      <td>0.778421</td>\n",
       "      <td>0.634590</td>\n",
       "    </tr>\n",
       "    <tr>\n",
       "      <th>4</th>\n",
       "      <td>0.652139</td>\n",
       "      <td>0.662605</td>\n",
       "      <td>0.792576</td>\n",
       "      <td>0.634364</td>\n",
       "    </tr>\n",
       "  </tbody>\n",
       "</table>\n",
       "</div>"
      ],
      "text/plain": [
       "        Y_0       Y_1       Y_2       Y_3\n",
       "0  0.657655  0.661463  0.787839  0.641400\n",
       "1  0.652255  0.661120  0.788194  0.635121\n",
       "2  0.657872  0.651005  0.794529  0.633300\n",
       "3  0.660932  0.646666  0.778421  0.634590\n",
       "4  0.652139  0.662605  0.792576  0.634364"
      ]
     },
     "execution_count": 21,
     "metadata": {},
     "output_type": "execute_result"
    }
   ],
   "source": [
    "resultados = LGBM_KFOLD(5, X_tfidf,data[\"type\"])\n",
    "print(resultados.describe())\n",
    "resultados"
   ]
  },
  {
   "cell_type": "markdown",
   "metadata": {},
   "source": [
    "# LIWC"
   ]
  },
  {
   "cell_type": "code",
   "execution_count": 13,
   "metadata": {
    "ExecuteTime": {
     "end_time": "2020-09-08T14:53:13.262337Z",
     "start_time": "2020-09-08T14:52:50.980873Z"
    }
   },
   "outputs": [
    {
     "data": {
      "application/vnd.jupyter.widget-view+json": {
       "model_id": "3a9b67c0444f401fbbf047010e351061",
       "version_major": 2,
       "version_minor": 0
      },
      "text/plain": [
       "HBox(children=(FloatProgress(value=0.0, max=4.0), HTML(value='')))"
      ]
     },
     "metadata": {},
     "output_type": "display_data"
    },
    {
     "name": "stdout",
     "output_type": "stream",
     "text": [
      "\n",
      "KFOLD 1 Done\n"
     ]
    },
    {
     "data": {
      "application/vnd.jupyter.widget-view+json": {
       "model_id": "cfef0fa58e11423a88d21f4fab3ef4bf",
       "version_major": 2,
       "version_minor": 0
      },
      "text/plain": [
       "HBox(children=(FloatProgress(value=0.0, max=4.0), HTML(value='')))"
      ]
     },
     "metadata": {},
     "output_type": "display_data"
    },
    {
     "name": "stdout",
     "output_type": "stream",
     "text": [
      "\n",
      "KFOLD 2 Done\n"
     ]
    },
    {
     "data": {
      "application/vnd.jupyter.widget-view+json": {
       "model_id": "5138a88931164c8ca64828f481d304c8",
       "version_major": 2,
       "version_minor": 0
      },
      "text/plain": [
       "HBox(children=(FloatProgress(value=0.0, max=4.0), HTML(value='')))"
      ]
     },
     "metadata": {},
     "output_type": "display_data"
    },
    {
     "name": "stdout",
     "output_type": "stream",
     "text": [
      "\n",
      "KFOLD 3 Done\n"
     ]
    },
    {
     "data": {
      "application/vnd.jupyter.widget-view+json": {
       "model_id": "9f6c78b3c4964e289919de01a91ef1e4",
       "version_major": 2,
       "version_minor": 0
      },
      "text/plain": [
       "HBox(children=(FloatProgress(value=0.0, max=4.0), HTML(value='')))"
      ]
     },
     "metadata": {},
     "output_type": "display_data"
    },
    {
     "name": "stdout",
     "output_type": "stream",
     "text": [
      "\n",
      "KFOLD 4 Done\n"
     ]
    },
    {
     "data": {
      "application/vnd.jupyter.widget-view+json": {
       "model_id": "a1a0670af0aa4fe8b0c6f307b3e818c7",
       "version_major": 2,
       "version_minor": 0
      },
      "text/plain": [
       "HBox(children=(FloatProgress(value=0.0, max=4.0), HTML(value='')))"
      ]
     },
     "metadata": {},
     "output_type": "display_data"
    },
    {
     "name": "stdout",
     "output_type": "stream",
     "text": [
      "\n",
      "KFOLD 5 Done\n",
      "            Y_0       Y_1       Y_2       Y_3\n",
      "count  5.000000  5.000000  5.000000  5.000000\n",
      "mean   0.630212  0.606550  0.750429  0.587492\n",
      "std    0.010028  0.007199  0.010193  0.008299\n",
      "min    0.617123  0.596472  0.740635  0.576873\n",
      "25%    0.626909  0.601960  0.741291  0.582383\n",
      "50%    0.627661  0.609165  0.748372  0.588345\n",
      "75%    0.635554  0.610959  0.758504  0.591372\n",
      "max    0.643811  0.614193  0.763341  0.598485\n"
     ]
    },
    {
     "data": {
      "text/html": [
       "<div>\n",
       "<style scoped>\n",
       "    .dataframe tbody tr th:only-of-type {\n",
       "        vertical-align: middle;\n",
       "    }\n",
       "\n",
       "    .dataframe tbody tr th {\n",
       "        vertical-align: top;\n",
       "    }\n",
       "\n",
       "    .dataframe thead th {\n",
       "        text-align: right;\n",
       "    }\n",
       "</style>\n",
       "<table border=\"1\" class=\"dataframe\">\n",
       "  <thead>\n",
       "    <tr style=\"text-align: right;\">\n",
       "      <th></th>\n",
       "      <th>Y_0</th>\n",
       "      <th>Y_1</th>\n",
       "      <th>Y_2</th>\n",
       "      <th>Y_3</th>\n",
       "    </tr>\n",
       "  </thead>\n",
       "  <tbody>\n",
       "    <tr>\n",
       "      <th>0</th>\n",
       "      <td>0.635554</td>\n",
       "      <td>0.610959</td>\n",
       "      <td>0.748372</td>\n",
       "      <td>0.576873</td>\n",
       "    </tr>\n",
       "    <tr>\n",
       "      <th>1</th>\n",
       "      <td>0.626909</td>\n",
       "      <td>0.601960</td>\n",
       "      <td>0.740635</td>\n",
       "      <td>0.582383</td>\n",
       "    </tr>\n",
       "    <tr>\n",
       "      <th>2</th>\n",
       "      <td>0.617123</td>\n",
       "      <td>0.614193</td>\n",
       "      <td>0.763341</td>\n",
       "      <td>0.591372</td>\n",
       "    </tr>\n",
       "    <tr>\n",
       "      <th>3</th>\n",
       "      <td>0.643811</td>\n",
       "      <td>0.609165</td>\n",
       "      <td>0.741291</td>\n",
       "      <td>0.598485</td>\n",
       "    </tr>\n",
       "    <tr>\n",
       "      <th>4</th>\n",
       "      <td>0.627661</td>\n",
       "      <td>0.596472</td>\n",
       "      <td>0.758504</td>\n",
       "      <td>0.588345</td>\n",
       "    </tr>\n",
       "  </tbody>\n",
       "</table>\n",
       "</div>"
      ],
      "text/plain": [
       "        Y_0       Y_1       Y_2       Y_3\n",
       "0  0.635554  0.610959  0.748372  0.576873\n",
       "1  0.626909  0.601960  0.740635  0.582383\n",
       "2  0.617123  0.614193  0.763341  0.591372\n",
       "3  0.643811  0.609165  0.741291  0.598485\n",
       "4  0.627661  0.596472  0.758504  0.588345"
      ]
     },
     "execution_count": 13,
     "metadata": {},
     "output_type": "execute_result"
    }
   ],
   "source": [
    "resultados = LGBM_KFOLD(5, X_LIWC,data[\"type\"])\n",
    "print(resultados.describe())\n",
    "resultados"
   ]
  },
  {
   "cell_type": "markdown",
   "metadata": {},
   "source": [
    "# Train and Save models"
   ]
  },
  {
   "cell_type": "code",
   "execution_count": 22,
   "metadata": {
    "ExecuteTime": {
     "end_time": "2020-09-08T16:47:05.225313Z",
     "start_time": "2020-09-08T16:44:51.846103Z"
    }
   },
   "outputs": [],
   "source": [
    "from sklearn.feature_extraction.text import CountVectorizer\n",
    "vect = CountVectorizer(max_features=5000, ngram_range=(1,3))\n",
    "X = vect.fit_transform(data[\"clean_comment\"])\n",
    "X = pd.DataFrame(X.toarray(), columns = vect.get_feature_names())"
   ]
  },
  {
   "cell_type": "code",
   "execution_count": 24,
   "metadata": {
    "ExecuteTime": {
     "end_time": "2020-09-08T17:01:23.960685Z",
     "start_time": "2020-09-08T17:01:12.566998Z"
    }
   },
   "outputs": [],
   "source": [
    "import pickle \n",
    "pickle.dump(vect, open( \"count_vectorizer_english.pkl\", \"wb\" ) )   # Save countvectorizer vect"
   ]
  },
  {
   "cell_type": "code",
   "execution_count": 25,
   "metadata": {
    "ExecuteTime": {
     "end_time": "2020-09-08T17:02:22.090658Z",
     "start_time": "2020-09-08T17:01:24.063196Z"
    }
   },
   "outputs": [
    {
     "name": "stdout",
     "output_type": "stream",
     "text": [
      "Done 0\n",
      "Done 1\n",
      "Done 2\n",
      "Done 3\n"
     ]
    }
   ],
   "source": [
    "from lightgbm import LGBMClassifier\n",
    "for i in range(4):\n",
    "    model =  LGBMClassifier(class_weight=\"balanced\")\n",
    "    model.fit(X.values,[x[i] for x in data[\"type\"]])\n",
    "    pickle.dump(model, open(f\"LGBM_ENGLISH_{i}.pkl\",\"wb\"))  \n",
    "    print(f\"Done {i}\")"
   ]
  },
  {
   "cell_type": "code",
   "execution_count": 31,
   "metadata": {
    "ExecuteTime": {
     "end_time": "2020-09-08T17:10:01.436998Z",
     "start_time": "2020-09-08T17:09:56.612898Z"
    }
   },
   "outputs": [],
   "source": [
    "import pickle \n",
    "def models():\n",
    "    models = {}\n",
    "    models[\"english\"] = {}\n",
    "    models[\"english\"][\"vect\"] = pickle.load( open( \"count_vectorizer_english.pkl\", \"rb\" ) )\n",
    "    \n",
    "    for i in range(4):\n",
    "\n",
    "        models[\"english\"][f\"LGBM{i}\"] = pickle.load(open(f\"LGBM_ENGLISH_{i}.pkl\",\"rb\") )\n",
    "        \n",
    "    return models \n",
    "\n",
    "\n",
    "modelos = models()"
   ]
  },
  {
   "cell_type": "code",
   "execution_count": 39,
   "metadata": {
    "ExecuteTime": {
     "end_time": "2020-09-08T17:11:42.836255Z",
     "start_time": "2020-09-08T17:11:42.830030Z"
    }
   },
   "outputs": [],
   "source": [
    "def get_personality(text,language, modelos):\n",
    "    \"\"\"['e' 'i']\n",
    "    ['n' 's']\n",
    "    ['f' 't']\n",
    "    ['j' 'p']\"\"\"\n",
    "\n",
    "    personality = []\n",
    "    text_coded = modelos[language][\"vect\"].transform([text]).toarray()\n",
    "\n",
    "    for i in range(4):\n",
    "        model = modelos[language][f\"LGBM{i}\"]\n",
    "        y_pred = model.predict_proba(text_coded)\n",
    "        personality.append(y_pred)\n",
    "        print(model.classes_)\n",
    "            \n",
    "    return personality"
   ]
  },
  {
   "cell_type": "code",
   "execution_count": 1,
   "metadata": {
    "ExecuteTime": {
     "end_time": "2020-09-09T10:37:04.729554Z",
     "start_time": "2020-09-09T10:36:55.374486Z"
    }
   },
   "outputs": [],
   "source": [
    "import pickle\n",
    "vect = pickle.load( open( f\"count_vectorizer_english.pkl\", \"rb\" ) )"
   ]
  },
  {
   "cell_type": "code",
   "execution_count": null,
   "metadata": {
    "ExecuteTime": {
     "start_time": "2020-09-09T10:40:38.646Z"
    }
   },
   "outputs": [],
   "source": [
    "from sklearn.externals import joblib\n",
    "joblib.dump(vect, 'prueba.pkl')"
   ]
  },
  {
   "cell_type": "code",
   "execution_count": null,
   "metadata": {},
   "outputs": [],
   "source": [
    "joblib.load(\"prueba.pkl\")"
   ]
  },
  {
   "cell_type": "code",
   "execution_count": null,
   "metadata": {
    "ExecuteTime": {
     "start_time": "2020-09-09T10:41:51.787Z"
    }
   },
   "outputs": [],
   "source": [
    "import joblib\n",
    "joblib.load(\"prueba.pkl\")"
   ]
  }
 ],
 "metadata": {
  "hide_input": false,
  "kernelspec": {
   "display_name": "Python 3",
   "language": "python",
   "name": "python3"
  },
  "language_info": {
   "codemirror_mode": {
    "name": "ipython",
    "version": 3
   },
   "file_extension": ".py",
   "mimetype": "text/x-python",
   "name": "python",
   "nbconvert_exporter": "python",
   "pygments_lexer": "ipython3",
   "version": "3.7.6"
  },
  "toc": {
   "base_numbering": 1,
   "nav_menu": {},
   "number_sections": true,
   "sideBar": true,
   "skip_h1_title": false,
   "title_cell": "Table of Contents",
   "title_sidebar": "Contents",
   "toc_cell": false,
   "toc_position": {},
   "toc_section_display": true,
   "toc_window_display": false
  },
  "varInspector": {
   "cols": {
    "lenName": 16,
    "lenType": 16,
    "lenVar": 40
   },
   "kernels_config": {
    "python": {
     "delete_cmd_postfix": "",
     "delete_cmd_prefix": "del ",
     "library": "var_list.py",
     "varRefreshCmd": "print(var_dic_list())"
    },
    "r": {
     "delete_cmd_postfix": ") ",
     "delete_cmd_prefix": "rm(",
     "library": "var_list.r",
     "varRefreshCmd": "cat(var_dic_list()) "
    }
   },
   "position": {
    "height": "369.492px",
    "left": "1361.02px",
    "right": "20px",
    "top": "119px",
    "width": "326.465px"
   },
   "types_to_exclude": [
    "module",
    "function",
    "builtin_function_or_method",
    "instance",
    "_Feature"
   ],
   "window_display": true
  }
 },
 "nbformat": 4,
 "nbformat_minor": 4
}
