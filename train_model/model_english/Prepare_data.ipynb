{
 "cells": [
  {
   "cell_type": "markdown",
   "metadata": {},
   "source": [
    "# Data_Reddit"
   ]
  },
  {
   "cell_type": "code",
   "execution_count": 1,
   "metadata": {
    "ExecuteTime": {
     "end_time": "2020-09-04T16:38:12.609220Z",
     "start_time": "2020-09-04T16:36:51.541807Z"
    }
   },
   "outputs": [
    {
     "data": {
      "text/html": [
       "<div>\n",
       "<style scoped>\n",
       "    .dataframe tbody tr th:only-of-type {\n",
       "        vertical-align: middle;\n",
       "    }\n",
       "\n",
       "    .dataframe tbody tr th {\n",
       "        vertical-align: top;\n",
       "    }\n",
       "\n",
       "    .dataframe thead th {\n",
       "        text-align: right;\n",
       "    }\n",
       "</style>\n",
       "<table border=\"1\" class=\"dataframe\">\n",
       "  <thead>\n",
       "    <tr style=\"text-align: right;\">\n",
       "      <th></th>\n",
       "      <th>author</th>\n",
       "      <th>type</th>\n",
       "      <th>comment</th>\n",
       "    </tr>\n",
       "  </thead>\n",
       "  <tbody>\n",
       "    <tr>\n",
       "      <th>0</th>\n",
       "      <td>MetricExpansion</td>\n",
       "      <td>entp</td>\n",
       "      <td>Those stats come from the test. [Echoing the c...</td>\n",
       "    </tr>\n",
       "    <tr>\n",
       "      <th>1</th>\n",
       "      <td>MetricExpansion</td>\n",
       "      <td>entp</td>\n",
       "      <td>That's great to hear! I hope you know that, de...</td>\n",
       "    </tr>\n",
       "    <tr>\n",
       "      <th>2</th>\n",
       "      <td>MetricExpansion</td>\n",
       "      <td>entp</td>\n",
       "      <td>I can totally agree on reticence! With respect...</td>\n",
       "    </tr>\n",
       "    <tr>\n",
       "      <th>3</th>\n",
       "      <td>MetricExpansion</td>\n",
       "      <td>entp</td>\n",
       "      <td>I took it several times. I'm typed as TYPE_MEN...</td>\n",
       "    </tr>\n",
       "    <tr>\n",
       "      <th>4</th>\n",
       "      <td>MetricExpansion</td>\n",
       "      <td>entp</td>\n",
       "      <td>Gawd it's like we don't even need drugs to be ...</td>\n",
       "    </tr>\n",
       "  </tbody>\n",
       "</table>\n",
       "</div>"
      ],
      "text/plain": [
       "            author  type                                            comment\n",
       "0  MetricExpansion  entp  Those stats come from the test. [Echoing the c...\n",
       "1  MetricExpansion  entp  That's great to hear! I hope you know that, de...\n",
       "2  MetricExpansion  entp  I can totally agree on reticence! With respect...\n",
       "3  MetricExpansion  entp  I took it several times. I'm typed as TYPE_MEN...\n",
       "4  MetricExpansion  entp  Gawd it's like we don't even need drugs to be ..."
      ]
     },
     "execution_count": 1,
     "metadata": {},
     "output_type": "execute_result"
    }
   ],
   "source": [
    "import warnings\n",
    "warnings.filterwarnings(\"ignore\")\n",
    "\n",
    "import pandas as pd \n",
    "data = pd.read_csv(\"../data/data_english/mbti_reddit.csv\", usecols=[\"comment\",\"type\",\"author\"])\n",
    "data.head()"
   ]
  },
  {
   "cell_type": "code",
   "execution_count": 2,
   "metadata": {
    "ExecuteTime": {
     "end_time": "2020-09-04T16:39:55.584601Z",
     "start_time": "2020-09-04T16:38:12.698980Z"
    }
   },
   "outputs": [
    {
     "name": "stdout",
     "output_type": "stream",
     "text": [
      "(9397, 2)\n",
      "(9397, 2)\n"
     ]
    },
    {
     "data": {
      "text/html": [
       "<div>\n",
       "<style scoped>\n",
       "    .dataframe tbody tr th:only-of-type {\n",
       "        vertical-align: middle;\n",
       "    }\n",
       "\n",
       "    .dataframe tbody tr th {\n",
       "        vertical-align: top;\n",
       "    }\n",
       "\n",
       "    .dataframe thead th {\n",
       "        text-align: right;\n",
       "    }\n",
       "</style>\n",
       "<table border=\"1\" class=\"dataframe\">\n",
       "  <thead>\n",
       "    <tr style=\"text-align: right;\">\n",
       "      <th></th>\n",
       "      <th>type</th>\n",
       "      <th>comment</th>\n",
       "    </tr>\n",
       "  </thead>\n",
       "  <tbody>\n",
       "    <tr>\n",
       "      <th>0</th>\n",
       "      <td>intj</td>\n",
       "      <td>Sister. For fucks sake she might be and no one...</td>\n",
       "    </tr>\n",
       "    <tr>\n",
       "      <th>1</th>\n",
       "      <td>intp</td>\n",
       "      <td>Someone here is shadow banned ||| that is kind...</td>\n",
       "    </tr>\n",
       "    <tr>\n",
       "      <th>2</th>\n",
       "      <td>entp</td>\n",
       "      <td>I've seen results about voltage differences. I...</td>\n",
       "    </tr>\n",
       "    <tr>\n",
       "      <th>3</th>\n",
       "      <td>entj</td>\n",
       "      <td>20 something European person. I have seriously...</td>\n",
       "    </tr>\n",
       "    <tr>\n",
       "      <th>4</th>\n",
       "      <td>intp</td>\n",
       "      <td>Man, during 1991? I grew up watching The Simps...</td>\n",
       "    </tr>\n",
       "  </tbody>\n",
       "</table>\n",
       "</div>"
      ],
      "text/plain": [
       "   type                                            comment\n",
       "0  intj  Sister. For fucks sake she might be and no one...\n",
       "1  intp  Someone here is shadow banned ||| that is kind...\n",
       "2  entp  I've seen results about voltage differences. I...\n",
       "3  entj  20 something European person. I have seriously...\n",
       "4  intp  Man, during 1991? I grew up watching The Simps..."
      ]
     },
     "execution_count": 2,
     "metadata": {},
     "output_type": "execute_result"
    }
   ],
   "source": [
    "data.drop_duplicates(subset=\"comment\",inplace=True)                   #Eliminar comentarios repetidos (SPAM)\n",
    "\n",
    "#............................................................................................................\n",
    "\n",
    "#Eliminar autores que tienen más de una personalidad: (Hay autores con dos \"types\" distintos)\n",
    "agrupado = data.groupby(\"author\")[\"type\"].apply(lambda x: x.nunique())\n",
    "filtrar_autores = agrupado[agrupado==1].index\n",
    "data = data[data[\"author\"].isin(filtrar_autores)]\n",
    "\n",
    "\n",
    "data[\"word_count\"] = data.comment.apply(lambda x: len(x.split()))     # Contar palabras por comentario \n",
    "data = data[(data[\"word_count\"]>=5)&(data[\"word_count\"]<=40)]        #Filtrar comentarios entre 5 y 40 palabras\n",
    "data = data.groupby(\"author\").filter(lambda x: len(x) >= 50)          #Autores que tengan al menos 50 posts\n",
    "data = data.sample(frac=1).reset_index(drop=True)                   #Shuffle data\n",
    "\n",
    "#............................................................................................................\n",
    "data = data.groupby(\"author\").head(50)                             #Tomar 50 posts por usuario\n",
    "data[\"comment\"] = data[\"comment\"].replace(\"|\",\" \")   #Eliminar \"|\" para no confundirlo con mi marcador \"|||\"\n",
    "\n",
    "#Agrupar comentarios de usuarios \n",
    "data = data.groupby(['author',\"type\"])[\"comment\"].unique().apply(lambda x: ' ||| '.join(x)).reset_index()\n",
    "\n",
    "data_reddit = data.copy()\n",
    "del data\n",
    "\n",
    "data_reddit.drop(\"author\",axis=1,inplace=True)\n",
    "print(data_reddit.shape)\n",
    "data_reddit.head()\n",
    "\n",
    "print(data_reddit.shape)\n",
    "data_reddit.head()"
   ]
  },
  {
   "cell_type": "code",
   "execution_count": 3,
   "metadata": {
    "ExecuteTime": {
     "end_time": "2020-09-04T16:39:57.439767Z",
     "start_time": "2020-09-04T16:39:55.700250Z"
    }
   },
   "outputs": [
    {
     "data": {
      "image/png": "[encoded data removed]",
      "text/plain": [
       "<Figure size 432x288 with 1 Axes>"
      ]
     },
     "metadata": {
      "needs_background": "light"
     },
     "output_type": "display_data"
    }
   ],
   "source": [
    "data_reddit.comment.apply(lambda x: len(x.split())).plot(kind=\"hist\",bins=100);  #Distribución de palabras "
   ]
  },
  {
   "cell_type": "markdown",
   "metadata": {},
   "source": [
    "### Data Kaggle"
   ]
  },
  {
   "cell_type": "code",
   "execution_count": 4,
   "metadata": {
    "ExecuteTime": {
     "end_time": "2020-09-04T16:39:58.438585Z",
     "start_time": "2020-09-04T16:39:57.504086Z"
    }
   },
   "outputs": [
    {
     "name": "stdout",
     "output_type": "stream",
     "text": [
      "(8675, 2)\n"
     ]
    },
    {
     "data": {
      "text/html": [
       "<div>\n",
       "<style scoped>\n",
       "    .dataframe tbody tr th:only-of-type {\n",
       "        vertical-align: middle;\n",
       "    }\n",
       "\n",
       "    .dataframe tbody tr th {\n",
       "        vertical-align: top;\n",
       "    }\n",
       "\n",
       "    .dataframe thead th {\n",
       "        text-align: right;\n",
       "    }\n",
       "</style>\n",
       "<table border=\"1\" class=\"dataframe\">\n",
       "  <thead>\n",
       "    <tr style=\"text-align: right;\">\n",
       "      <th></th>\n",
       "      <th>type</th>\n",
       "      <th>comment</th>\n",
       "    </tr>\n",
       "  </thead>\n",
       "  <tbody>\n",
       "    <tr>\n",
       "      <th>0</th>\n",
       "      <td>infj</td>\n",
       "      <td>'http://www.youtube.com/watch?v=qsXHcwe3krw|||...</td>\n",
       "    </tr>\n",
       "    <tr>\n",
       "      <th>1</th>\n",
       "      <td>entp</td>\n",
       "      <td>'I'm finding the lack of me in these posts ver...</td>\n",
       "    </tr>\n",
       "    <tr>\n",
       "      <th>2</th>\n",
       "      <td>intp</td>\n",
       "      <td>'Good one  _____   https://www.youtube.com/wat...</td>\n",
       "    </tr>\n",
       "    <tr>\n",
       "      <th>3</th>\n",
       "      <td>intj</td>\n",
       "      <td>'Dear INTP,   I enjoyed our conversation the o...</td>\n",
       "    </tr>\n",
       "    <tr>\n",
       "      <th>4</th>\n",
       "      <td>entj</td>\n",
       "      <td>'You're fired.|||That's another silly misconce...</td>\n",
       "    </tr>\n",
       "  </tbody>\n",
       "</table>\n",
       "</div>"
      ],
      "text/plain": [
       "   type                                            comment\n",
       "0  infj  'http://www.youtube.com/watch?v=qsXHcwe3krw|||...\n",
       "1  entp  'I'm finding the lack of me in these posts ver...\n",
       "2  intp  'Good one  _____   https://www.youtube.com/wat...\n",
       "3  intj  'Dear INTP,   I enjoyed our conversation the o...\n",
       "4  entj  'You're fired.|||That's another silly misconce..."
      ]
     },
     "execution_count": 4,
     "metadata": {},
     "output_type": "execute_result"
    }
   ],
   "source": [
    "import pandas as pd \n",
    "data = pd.read_csv(\"../data/data_english/mbti_personalitycafe.csv\")\n",
    "data.columns = [\"type\",\"comment\"]\n",
    "data[\"type\"] = data[\"type\"].apply(lambda x: x.lower())\n",
    "\n",
    "data_kaggle = data.copy()\n",
    "del data\n",
    "print(data_kaggle.shape)\n",
    "data_kaggle.head()"
   ]
  },
  {
   "cell_type": "code",
   "execution_count": 49,
   "metadata": {
    "ExecuteTime": {
     "end_time": "2020-09-04T17:07:37.653506Z",
     "start_time": "2020-09-04T17:07:37.635524Z"
    }
   },
   "outputs": [
    {
     "data": {
      "text/html": [
       "<div>\n",
       "<style scoped>\n",
       "    .dataframe tbody tr th:only-of-type {\n",
       "        vertical-align: middle;\n",
       "    }\n",
       "\n",
       "    .dataframe tbody tr th {\n",
       "        vertical-align: top;\n",
       "    }\n",
       "\n",
       "    .dataframe thead th {\n",
       "        text-align: right;\n",
       "    }\n",
       "</style>\n",
       "<table border=\"1\" class=\"dataframe\">\n",
       "  <thead>\n",
       "    <tr style=\"text-align: right;\">\n",
       "      <th></th>\n",
       "      <th>type</th>\n",
       "      <th>comment</th>\n",
       "    </tr>\n",
       "  </thead>\n",
       "  <tbody>\n",
       "    <tr>\n",
       "      <th>0</th>\n",
       "      <td>infj</td>\n",
       "      <td>The thing about dogs, they're better than peop...</td>\n",
       "    </tr>\n",
       "    <tr>\n",
       "      <th>1</th>\n",
       "      <td>enfp</td>\n",
       "      <td>Haha he's only 4 years older than me, so I hav...</td>\n",
       "    </tr>\n",
       "    <tr>\n",
       "      <th>2</th>\n",
       "      <td>enfp</td>\n",
       "      <td>Leahomme  he was tested for university  LemonI...</td>\n",
       "    </tr>\n",
       "    <tr>\n",
       "      <th>3</th>\n",
       "      <td>istp</td>\n",
       "      <td>you need to come to Canada! ||| you forgot thi...</td>\n",
       "    </tr>\n",
       "    <tr>\n",
       "      <th>4</th>\n",
       "      <td>intp</td>\n",
       "      <td>'My ex invited me to her cheese and wine party...</td>\n",
       "    </tr>\n",
       "    <tr>\n",
       "      <th>...</th>\n",
       "      <td>...</td>\n",
       "      <td>...</td>\n",
       "    </tr>\n",
       "    <tr>\n",
       "      <th>18067</th>\n",
       "      <td>istp</td>\n",
       "      <td>'pretty much on the same boat, only difference...</td>\n",
       "    </tr>\n",
       "    <tr>\n",
       "      <th>18068</th>\n",
       "      <td>isfp</td>\n",
       "      <td>Are you joking.....birds don't only fly in the...</td>\n",
       "    </tr>\n",
       "    <tr>\n",
       "      <th>18069</th>\n",
       "      <td>intj</td>\n",
       "      <td>'You should see my backgrounds folder. Beautif...</td>\n",
       "    </tr>\n",
       "    <tr>\n",
       "      <th>18070</th>\n",
       "      <td>intp</td>\n",
       "      <td>'Bars are still the best. Just make sure you g...</td>\n",
       "    </tr>\n",
       "    <tr>\n",
       "      <th>18071</th>\n",
       "      <td>intj</td>\n",
       "      <td>I lost 15 lbs and went from 42R to 40R so I ca...</td>\n",
       "    </tr>\n",
       "  </tbody>\n",
       "</table>\n",
       "<p>18072 rows × 2 columns</p>\n",
       "</div>"
      ],
      "text/plain": [
       "       type                                            comment\n",
       "0      infj  The thing about dogs, they're better than peop...\n",
       "1      enfp  Haha he's only 4 years older than me, so I hav...\n",
       "2      enfp  Leahomme  he was tested for university  LemonI...\n",
       "3      istp  you need to come to Canada! ||| you forgot thi...\n",
       "4      intp  'My ex invited me to her cheese and wine party...\n",
       "...     ...                                                ...\n",
       "18067  istp  'pretty much on the same boat, only difference...\n",
       "18068  isfp  Are you joking.....birds don't only fly in the...\n",
       "18069  intj  'You should see my backgrounds folder. Beautif...\n",
       "18070  intp  'Bars are still the best. Just make sure you g...\n",
       "18071  intj  I lost 15 lbs and went from 42R to 40R so I ca...\n",
       "\n",
       "[18072 rows x 2 columns]"
      ]
     },
     "execution_count": 49,
     "metadata": {},
     "output_type": "execute_result"
    }
   ],
   "source": [
    "data = pd.concat([data_kaggle,data_reddit]).sample(frac=1).reset_index(drop=True)\n",
    "data"
   ]
  },
  {
   "cell_type": "markdown",
   "metadata": {},
   "source": [
    "### Eliminar cualquier mención a la personalidad para evitar hacer \"trampas\""
   ]
  },
  {
   "cell_type": "code",
   "execution_count": 7,
   "metadata": {
    "ExecuteTime": {
     "end_time": "2020-09-06T12:20:47.690160Z",
     "start_time": "2020-09-06T12:20:46.138414Z"
    }
   },
   "outputs": [],
   "source": [
    "import pandas as pd \n",
    "data = pd.read_csv(\"../data/data_english/data.csv\")"
   ]
  },
  {
   "cell_type": "code",
   "execution_count": 8,
   "metadata": {
    "ExecuteTime": {
     "end_time": "2020-09-06T12:20:49.409108Z",
     "start_time": "2020-09-06T12:20:49.404092Z"
    }
   },
   "outputs": [],
   "source": [
    "mbti = ['intj', 'enfp', 'entp', 'intp', 'esfp', 'infp', 'infj', 'istp', 'istj', 'entj','enfj', 'isfj', 'estj', 'estp', 'isfp', 'esfj']\n",
    "mbti = mbti+[x+\"s\" for x in mbti]   #Algunas están codificadas como \"infjs entps esfps etc\"\n",
    "def remove_mbti(x):\n",
    "    x = x.lower()\n",
    "    x = str(x)\n",
    "    for tipo in mbti:\n",
    "        if tipo in x:\n",
    "            x = x.replace(tipo, \"typemention\")\n",
    "    return x"
   ]
  },
  {
   "cell_type": "code",
   "execution_count": 9,
   "metadata": {
    "ExecuteTime": {
     "end_time": "2020-09-06T12:20:55.820898Z",
     "start_time": "2020-09-06T12:20:52.033225Z"
    }
   },
   "outputs": [],
   "source": [
    "data[\"comment\"] = data.comment.apply(lambda x: x.replace(\"TYPE_MENTION\",\"typemention\")) # Cambiar codificación \n",
    "data[\"comment\"] = data.comment.apply(remove_mbti)  "
   ]
  },
  {
   "cell_type": "markdown",
   "metadata": {},
   "source": [
    "### Limpiar texto"
   ]
  },
  {
   "cell_type": "code",
   "execution_count": 1,
   "metadata": {
    "ExecuteTime": {
     "end_time": "2020-09-08T09:24:44.590347Z",
     "start_time": "2020-09-08T09:24:44.578347Z"
    },
    "code_folding": []
   },
   "outputs": [
    {
     "data": {
      "text/plain": [
       "'hey bro you have to look this link enlace mencion sent it to me did you know i m the best'"
      ]
     },
     "execution_count": 1,
     "metadata": {},
     "output_type": "execute_result"
    }
   ],
   "source": [
    "import re \n",
    "def clean_text(x):\n",
    "\n",
    "    x = x.lower()\n",
    "\n",
    "    x = re.compile('htt\\S+').sub(' enlace ',x)\n",
    "    x = re.compile('@\\S+').sub(' mencion ',x)\n",
    "    x = re.compile('#\\S+').sub(' hashtag ',x)\n",
    "    \n",
    "    x = re.sub(r\"[^a-zA-Z.]\", ' ', x)      #A exepción de ' para las contraciones\n",
    "    x = re.sub(r\" +\", ' ', x)\n",
    "    return x\n",
    "\n",
    "frase = \"\"\"hey bro you HAVE to look this link: https://www.youtube.com/watch?v=oavMtUWDBTM&ab_channel=RealPapaPit,\n",
    "@Paco sent it to me,       did you know? *^´   \"   I'm the best\"\"\"\n",
    "clean_text(frase)"
   ]
  },
  {
   "cell_type": "code",
   "execution_count": 11,
   "metadata": {
    "ExecuteTime": {
     "end_time": "2020-09-06T12:21:14.609170Z",
     "start_time": "2020-09-06T12:20:59.925695Z"
    }
   },
   "outputs": [],
   "source": [
    "data[\"clean_comment\"] = data[\"comment\"].apply(clean_text)"
   ]
  },
  {
   "cell_type": "code",
   "execution_count": 10,
   "metadata": {
    "ExecuteTime": {
     "end_time": "2020-09-06T09:25:28.484854Z",
     "start_time": "2020-09-06T09:25:28.479835Z"
    }
   },
   "outputs": [
    {
     "data": {
      "text/plain": [
       "'the thing about dogs they re better than people. good night sweet linda you will be sorely missed.my sincere condolences. it s well within the bounds of shamanism but it s not for a beginning practitioner. an inexperienced shaman an actually do more harm than good. so much winning i can t take it anymore mr. president i agree. this kid s going to go far in life. that is what happens when you lead from the rear. things don t get taken care of people are left out to dry lines are crossed without repercussions and the wolves slaughter the sheep in the flock. nice to see a life in pictures. thanks for uploading. mccain is a traitor to this country. welcome to the family. i ve been saying it most of my life but it really really feels good when someone with an actual voice says it. amazing answer thank you for sharing. this is where we fight and what exactly is wrong with typemention hrm absolutely what i did too. never thought i would say this but i think j. edgar hoover did a lot of good for this country. i am truly sorry for your loss. in my msf course the instructor told the class that even if you don t do any other customization on your bike at least get an led headlight.well done. i didn t vote for either of them. shadow looks like a very happy boy and very humble. rub his ears for me. i m needing help in this arena also. one of my favorite shows. don t put the slash on the end u opfeels u jnola hi tessie what a beautiful girl addiction is real. good for you on breaking free. i love this time of year. all i can say is pain. i was able to get my start from reading michael harner s the way of the shaman which eventually led me to here you either have a y chromosome or you don t.two choices.two genders.two scoops.two terms. love the red color it s beautiful. welcome to the family. sometimes tough love is necessary and eventually appreciated. some scythes are considered staffs. fellow inf tj here and constantly battle depression. i m here if you need an ear. what a sweet face be well chloe scratch her behind those ears for me will you glad to hear you got your bike back regardless of the circumstances or damage. that would be rather ironic wouldn t it. happy birthday young wise person this doesn t seem to be syslog traffic to me but an internal host trying to access a public web server. hillary made a stupid ass post about silencers as a political stunt after the shooting. came here to recommend this. i agree that s what i ve been saying too. jesus the left is destroying this country. thanks again everyone for your kind words for me and especially for my beloved beau. it s a salve for an open wound. thank you. there is a wealth of information here articles training and other resources. this is what online gaming is all about right here. i had to seriously bite my tongue every time i heard someone say they didn t wish brain cancer or illness on any human being. if anyone alive deserves to be dealing with brain cancer it s this rino bastard. beautiful girl my boy beau had really bad arthritis too. years... wow. keep truckin walter yeah he called the sjws out this week. quick google news search it s all over the place. login authentication default should be the default configuration on the console port. try issuing a show running configuration all command to see if it shows up. i bought my first bike and first harley just two months ago at years of age. sometimes it just takes time. i always loved a happy ending. '"
      ]
     },
     "execution_count": 10,
     "metadata": {},
     "output_type": "execute_result"
    }
   ],
   "source": [
    "data.clean_comment[0]"
   ]
  },
  {
   "cell_type": "code",
   "execution_count": 12,
   "metadata": {
    "ExecuteTime": {
     "end_time": "2020-09-06T12:21:19.756185Z",
     "start_time": "2020-09-06T12:21:18.808397Z"
    }
   },
   "outputs": [],
   "source": [
    "data[\"word_count\"] =  data[\"clean_comment\"].apply(lambda x: len(x.split()))"
   ]
  },
  {
   "cell_type": "code",
   "execution_count": 13,
   "metadata": {
    "ExecuteTime": {
     "end_time": "2020-09-06T12:21:21.603684Z",
     "start_time": "2020-09-06T12:21:21.573490Z"
    }
   },
   "outputs": [],
   "source": [
    "data = data[(data[\"word_count\"]>=250)&(data[\"word_count\"]<=2000)]"
   ]
  },
  {
   "cell_type": "code",
   "execution_count": 13,
   "metadata": {
    "ExecuteTime": {
     "end_time": "2020-09-06T09:25:43.009327Z",
     "start_time": "2020-09-06T09:25:42.989286Z"
    }
   },
   "outputs": [
    {
     "data": {
      "text/plain": [
       "count    18023.000000\n",
       "mean      1111.135993\n",
       "std        314.800005\n",
       "min        255.000000\n",
       "25%        876.000000\n",
       "50%       1039.000000\n",
       "75%       1353.000000\n",
       "max       1984.000000\n",
       "Name: word_count, dtype: float64"
      ]
     },
     "execution_count": 13,
     "metadata": {},
     "output_type": "execute_result"
    }
   ],
   "source": [
    "data.word_count.describe()"
   ]
  },
  {
   "cell_type": "markdown",
   "metadata": {},
   "source": [
    "### Save data"
   ]
  },
  {
   "cell_type": "code",
   "execution_count": 14,
   "metadata": {
    "ExecuteTime": {
     "end_time": "2020-09-06T12:21:31.854384Z",
     "start_time": "2020-09-06T12:21:26.056177Z"
    }
   },
   "outputs": [],
   "source": [
    "data.to_csv(\"../data/data_english/data.csv\",index=False)"
   ]
  },
  {
   "cell_type": "markdown",
   "metadata": {},
   "source": [
    "# Tokenizer"
   ]
  },
  {
   "cell_type": "code",
   "execution_count": 15,
   "metadata": {
    "ExecuteTime": {
     "end_time": "2020-09-06T09:26:26.813914Z",
     "start_time": "2020-09-06T09:26:11.256072Z"
    }
   },
   "outputs": [
    {
     "name": "stderr",
     "output_type": "stream",
     "text": [
      "Using TensorFlow backend.\n"
     ]
    },
    {
     "name": "stdout",
     "output_type": "stream",
     "text": [
      "Tokenizer Ready\n",
      "Removed 122518 words\n",
      "Vocabulary: 63389\n"
     ]
    }
   ],
   "source": [
    "from keras.preprocessing.text import Tokenizer\n",
    "from keras.preprocessing.sequence import pad_sequences\n",
    "\n",
    "tokenizer = Tokenizer()\n",
    "tokenizer.fit_on_texts(data[\"clean_comment\"])\n",
    "print(\"Tokenizer Ready\")\n",
    "\n",
    "# Thanks to \"Dr. Fuzzy\" for remove in tokenizer : https://www.kaggle.com/c/jigsaw-toxic-comment-classification-challenge/discussion/49654\n",
    "min_frequency = 2      #Eliminar palabras que no se repitan al menos 2 veces \n",
    "remove_words = [w for w,c in tokenizer.word_counts.items() if c <= min_frequency]\n",
    "for word in remove_words:\n",
    "    del tokenizer.word_index[word]\n",
    "    del tokenizer.word_docs[word]\n",
    "    del tokenizer.word_counts[word]\n",
    "print(f\"Removed {len(remove_words)} words\")\n",
    "\n",
    "\n",
    "\n",
    "vocab_shape=len(tokenizer.word_index) +1\n",
    "print(f\"Vocabulary: {vocab_shape}\")"
   ]
  },
  {
   "cell_type": "code",
   "execution_count": 16,
   "metadata": {
    "ExecuteTime": {
     "end_time": "2020-09-06T09:26:31.476088Z",
     "start_time": "2020-09-06T09:26:31.298315Z"
    }
   },
   "outputs": [],
   "source": [
    "#Guardar tokenizer\n",
    "import pickle \n",
    "with open (\"../Utilities/tokenizer_english.pkl\",\"wb\") as f:\n",
    "    pickle.dump(tokenizer,f)"
   ]
  },
  {
   "cell_type": "markdown",
   "metadata": {},
   "source": [
    "# Embeddings"
   ]
  },
  {
   "cell_type": "code",
   "execution_count": 17,
   "metadata": {
    "ExecuteTime": {
     "end_time": "2020-09-06T09:27:26.847449Z",
     "start_time": "2020-09-06T09:26:34.396484Z"
    },
    "scrolled": false
   },
   "outputs": [
    {
     "data": {
      "application/vnd.jupyter.widget-view+json": {
       "model_id": "1c6cf0a1e61c477a95ab994ae544429b",
       "version_major": 2,
       "version_minor": 0
      },
      "text/plain": [
       "HBox(children=(FloatProgress(value=1.0, bar_style='info', max=1.0), HTML(value='')))"
      ]
     },
     "metadata": {},
     "output_type": "display_data"
    },
    {
     "name": "stdout",
     "output_type": "stream",
     "text": [
      "\n"
     ]
    },
    {
     "data": {
      "application/vnd.jupyter.widget-view+json": {
       "model_id": "a70da5c692134a538b935ba95066c28c",
       "version_major": 2,
       "version_minor": 0
      },
      "text/plain": [
       "HBox(children=(FloatProgress(value=0.0, max=63388.0), HTML(value='')))"
      ]
     },
     "metadata": {},
     "output_type": "display_data"
    },
    {
     "name": "stdout",
     "output_type": "stream",
     "text": [
      "\n",
      "Not None: 53428\n"
     ]
    }
   ],
   "source": [
    "from tqdm.notebook import tqdm\n",
    "import numpy\n",
    "\n",
    "#Cargar embeddings glove\n",
    "embeddings_index = dict()\n",
    "ruta = '../Utilities/embeddings/glove.6B.300d.txt'\n",
    "with open(ruta,encoding=\"utf8\") as f: \n",
    "    for line in tqdm(f):\n",
    "        values = line.split()\n",
    "        word = values[0]\n",
    "        coefs = np.asarray(values[1:], dtype='float32')\n",
    "        embeddings_index[word] = coefs\n",
    "\n",
    "\n",
    "        \n",
    "#Filtrar embeddings con tokenizer      \n",
    "embedding_matrix = np.zeros((vocab_shape, 300))\n",
    "c= 0\n",
    "for word, i in tqdm(tokenizer.word_index.items()):\n",
    "    embedding_vector = embeddings_index.get(word)\n",
    "    if embedding_vector is not None:\n",
    "        embedding_matrix[i] = embedding_vector\n",
    "        c+=1\n",
    "\n",
    "print(f\"Not None: {c}\")        \n",
    "        \n",
    "#Guardar embeddings \n",
    "import pickle \n",
    "with open (\"../Utilities/embeddings/embeddings_filtered.pkl\",\"wb\") as f:\n",
    "    pickle.dump(embedding_matrix,f)"
   ]
  }
 ],
 "metadata": {
  "hide_input": false,
  "kernelspec": {
   "display_name": "Python 3",
   "language": "python",
   "name": "python3"
  },
  "language_info": {
   "codemirror_mode": {
    "name": "ipython",
    "version": 3
   },
   "file_extension": ".py",
   "mimetype": "text/x-python",
   "name": "python",
   "nbconvert_exporter": "python",
   "pygments_lexer": "ipython3",
   "version": "3.7.6"
  },
  "toc": {
   "base_numbering": 1,
   "nav_menu": {},
   "number_sections": true,
   "sideBar": true,
   "skip_h1_title": false,
   "title_cell": "Table of Contents",
   "title_sidebar": "Contents",
   "toc_cell": false,
   "toc_position": {},
   "toc_section_display": true,
   "toc_window_display": false
  },
  "varInspector": {
   "cols": {
    "lenName": 16,
    "lenType": 16,
    "lenVar": 40
   },
   "kernels_config": {
    "python": {
     "delete_cmd_postfix": "",
     "delete_cmd_prefix": "del ",
     "library": "var_list.py",
     "varRefreshCmd": "print(var_dic_list())"
    },
    "r": {
     "delete_cmd_postfix": ") ",
     "delete_cmd_prefix": "rm(",
     "library": "var_list.r",
     "varRefreshCmd": "cat(var_dic_list()) "
    }
   },
   "types_to_exclude": [
    "module",
    "function",
    "builtin_function_or_method",
    "instance",
    "_Feature"
   ],
   "window_display": false
  }
 },
 "nbformat": 4,
 "nbformat_minor": 4
}
