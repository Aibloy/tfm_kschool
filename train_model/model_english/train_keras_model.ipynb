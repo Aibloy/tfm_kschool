{
 "cells": [
  {
   "cell_type": "code",
   "execution_count": 1,
   "metadata": {
    "ExecuteTime": {
     "end_time": "2020-09-07T08:09:45.494012Z",
     "start_time": "2020-09-07T08:09:38.105023Z"
    }
   },
   "outputs": [
    {
     "data": {
      "text/html": [
       "<div>\n",
       "<style scoped>\n",
       "    .dataframe tbody tr th:only-of-type {\n",
       "        vertical-align: middle;\n",
       "    }\n",
       "\n",
       "    .dataframe tbody tr th {\n",
       "        vertical-align: top;\n",
       "    }\n",
       "\n",
       "    .dataframe thead th {\n",
       "        text-align: right;\n",
       "    }\n",
       "</style>\n",
       "<table border=\"1\" class=\"dataframe\">\n",
       "  <thead>\n",
       "    <tr style=\"text-align: right;\">\n",
       "      <th></th>\n",
       "      <th>type</th>\n",
       "      <th>comment</th>\n",
       "      <th>clean_comment</th>\n",
       "      <th>word_count</th>\n",
       "    </tr>\n",
       "  </thead>\n",
       "  <tbody>\n",
       "    <tr>\n",
       "      <th>0</th>\n",
       "      <td>infj</td>\n",
       "      <td>the thing about dogs, they're better than peop...</td>\n",
       "      <td>the thing about dogs they re better than peopl...</td>\n",
       "      <td>655</td>\n",
       "    </tr>\n",
       "    <tr>\n",
       "      <th>1</th>\n",
       "      <td>enfp</td>\n",
       "      <td>haha he's only 4 years older than me, so i hav...</td>\n",
       "      <td>haha he s only years older than me so i have a...</td>\n",
       "      <td>967</td>\n",
       "    </tr>\n",
       "    <tr>\n",
       "      <th>2</th>\n",
       "      <td>enfp</td>\n",
       "      <td>leahomme  he was tested for university  lemoni...</td>\n",
       "      <td>leahomme he was tested for university lemonice...</td>\n",
       "      <td>1241</td>\n",
       "    </tr>\n",
       "    <tr>\n",
       "      <th>3</th>\n",
       "      <td>istp</td>\n",
       "      <td>you need to come to canada! ||| you forgot thi...</td>\n",
       "      <td>you need to come to canada you forgot this.......</td>\n",
       "      <td>642</td>\n",
       "    </tr>\n",
       "    <tr>\n",
       "      <th>4</th>\n",
       "      <td>intp</td>\n",
       "      <td>'my ex invited me to her cheese and wine party...</td>\n",
       "      <td>my ex invited me to her cheese and wine party...</td>\n",
       "      <td>1478</td>\n",
       "    </tr>\n",
       "  </tbody>\n",
       "</table>\n",
       "</div>"
      ],
      "text/plain": [
       "   type                                            comment  \\\n",
       "0  infj  the thing about dogs, they're better than peop...   \n",
       "1  enfp  haha he's only 4 years older than me, so i hav...   \n",
       "2  enfp  leahomme  he was tested for university  lemoni...   \n",
       "3  istp  you need to come to canada! ||| you forgot thi...   \n",
       "4  intp  'my ex invited me to her cheese and wine party...   \n",
       "\n",
       "                                       clean_comment  word_count  \n",
       "0  the thing about dogs they re better than peopl...         655  \n",
       "1  haha he s only years older than me so i have a...         967  \n",
       "2  leahomme he was tested for university lemonice...        1241  \n",
       "3  you need to come to canada you forgot this.......         642  \n",
       "4   my ex invited me to her cheese and wine party...        1478  "
      ]
     },
     "execution_count": 1,
     "metadata": {},
     "output_type": "execute_result"
    }
   ],
   "source": [
    " import pandas as pd \n",
    "data = pd.read_csv(\"../data/data_english/data.csv\")\n",
    "data.head()"
   ]
  },
  {
   "cell_type": "markdown",
   "metadata": {},
   "source": [
    "# Prepare_data"
   ]
  },
  {
   "cell_type": "code",
   "execution_count": 4,
   "metadata": {
    "ExecuteTime": {
     "end_time": "2020-09-07T08:19:22.450803Z",
     "start_time": "2020-09-07T08:19:21.807148Z"
    }
   },
   "outputs": [],
   "source": [
    "from sklearn.model_selection import train_test_split\n",
    "train, test = train_test_split(data, test_size=0.2, random_state=42, stratify=data[\"type\"])"
   ]
  },
  {
   "cell_type": "code",
   "execution_count": 2,
   "metadata": {
    "ExecuteTime": {
     "end_time": "2020-09-07T08:09:52.530154Z",
     "start_time": "2020-09-07T08:09:52.470283Z"
    }
   },
   "outputs": [],
   "source": [
    "from tqdm.notebook import tqdm\n",
    "import pandas as pd \n",
    "def separate_data(data):\n",
    "    \"Crea una fila con cada post de cada autor\"\n",
    "    df = pd.DataFrame(columns= data.columns)\n",
    "    N = data.shape[0]\n",
    "    for row in tqdm(range (N)):\n",
    "        df_n = pd.DataFrame(columns=data.columns)\n",
    "        df_n[\"clean_comment\"] =  data.iloc[row][1].split(\"|||\")       #Posts de n usuario\n",
    "        df_n[\"type\"] = data.iloc[row][0]                     #Personalidad n usuario\n",
    "        \n",
    "        df = pd.concat([df, df_n], ignore_index=True)\n",
    "\n",
    "    return df"
   ]
  },
  {
   "cell_type": "code",
   "execution_count": 5,
   "metadata": {
    "ExecuteTime": {
     "end_time": "2020-09-07T08:24:09.291357Z",
     "start_time": "2020-09-07T08:19:33.445949Z"
    }
   },
   "outputs": [
    {
     "data": {
      "application/vnd.jupyter.widget-view+json": {
       "model_id": "79dd562481314bbe98453ac2a3cb856d",
       "version_major": 2,
       "version_minor": 0
      },
      "text/plain": [
       "HBox(children=(FloatProgress(value=0.0, max=14418.0), HTML(value='')))"
      ]
     },
     "metadata": {},
     "output_type": "display_data"
    },
    {
     "name": "stdout",
     "output_type": "stream",
     "text": [
      "\n"
     ]
    }
   ],
   "source": [
    "data_separate_train = separate_data(train)"
   ]
  },
  {
   "cell_type": "code",
   "execution_count": 25,
   "metadata": {
    "ExecuteTime": {
     "end_time": "2020-09-06T21:48:12.623075Z",
     "start_time": "2020-09-06T21:48:12.614099Z"
    }
   },
   "outputs": [
    {
     "name": "stdout",
     "output_type": "stream",
     "text": [
      "(891399, 4)\n"
     ]
    },
    {
     "data": {
      "text/html": [
       "<div>\n",
       "<style scoped>\n",
       "    .dataframe tbody tr th:only-of-type {\n",
       "        vertical-align: middle;\n",
       "    }\n",
       "\n",
       "    .dataframe tbody tr th {\n",
       "        vertical-align: top;\n",
       "    }\n",
       "\n",
       "    .dataframe thead th {\n",
       "        text-align: right;\n",
       "    }\n",
       "</style>\n",
       "<table border=\"1\" class=\"dataframe\">\n",
       "  <thead>\n",
       "    <tr style=\"text-align: right;\">\n",
       "      <th></th>\n",
       "      <th>type</th>\n",
       "      <th>comment</th>\n",
       "      <th>clean_comment</th>\n",
       "      <th>word_count</th>\n",
       "    </tr>\n",
       "  </thead>\n",
       "  <tbody>\n",
       "    <tr>\n",
       "      <th>0</th>\n",
       "      <td>infj</td>\n",
       "      <td>NaN</td>\n",
       "      <td>the thing about dogs, they're better than peop...</td>\n",
       "      <td>NaN</td>\n",
       "    </tr>\n",
       "    <tr>\n",
       "      <th>1</th>\n",
       "      <td>infj</td>\n",
       "      <td>NaN</td>\n",
       "      <td>it's well within the bounds of shamanism, but...</td>\n",
       "      <td>NaN</td>\n",
       "    </tr>\n",
       "    <tr>\n",
       "      <th>2</th>\n",
       "      <td>infj</td>\n",
       "      <td>NaN</td>\n",
       "      <td>so much winning!  **i can't take it anymore m...</td>\n",
       "      <td>NaN</td>\n",
       "    </tr>\n",
       "    <tr>\n",
       "      <th>3</th>\n",
       "      <td>infj</td>\n",
       "      <td>NaN</td>\n",
       "      <td>i agree.  this kid's going to go far in life.</td>\n",
       "      <td>NaN</td>\n",
       "    </tr>\n",
       "    <tr>\n",
       "      <th>4</th>\n",
       "      <td>infj</td>\n",
       "      <td>NaN</td>\n",
       "      <td>that is what happens when you lead from the r...</td>\n",
       "      <td>NaN</td>\n",
       "    </tr>\n",
       "  </tbody>\n",
       "</table>\n",
       "</div>"
      ],
      "text/plain": [
       "   type comment                                      clean_comment word_count\n",
       "0  infj     NaN  the thing about dogs, they're better than peop...        NaN\n",
       "1  infj     NaN   it's well within the bounds of shamanism, but...        NaN\n",
       "2  infj     NaN   so much winning!  **i can't take it anymore m...        NaN\n",
       "3  infj     NaN     i agree.  this kid's going to go far in life.         NaN\n",
       "4  infj     NaN   that is what happens when you lead from the r...        NaN"
      ]
     },
     "execution_count": 25,
     "metadata": {},
     "output_type": "execute_result"
    }
   ],
   "source": [
    "print(data_separate.shape)\n",
    "data_separate.head()"
   ]
  },
  {
   "cell_type": "code",
   "execution_count": 26,
   "metadata": {
    "ExecuteTime": {
     "end_time": "2020-09-06T21:48:21.534203Z",
     "start_time": "2020-09-06T21:48:21.527192Z"
    }
   },
   "outputs": [],
   "source": [
    "import random \n",
    "def balance_data(data,Y):\n",
    "    \"Devuelve el mismo numero de elementos para cada nivel de Y en data\"\n",
    "    posiciones = []\n",
    "    N = data[Y].value_counts()[-1]\n",
    "    for tipo in data[Y].unique():\n",
    "        filtrar = list(data[data[Y]==tipo].sample(N).index)\n",
    "        posiciones += filtrar\n",
    "        \n",
    "    random.shuffle(posiciones)\n",
    "    new_data = data.iloc[posiciones]\n",
    "    print(f\"Dimensiones del dataset balanceado: {new_data.shape}\")\n",
    "    new_data = new_data.reset_index(drop=True)\n",
    "        \n",
    "    return new_data"
   ]
  },
  {
   "cell_type": "code",
   "execution_count": 27,
   "metadata": {
    "ExecuteTime": {
     "end_time": "2020-09-06T21:48:25.162138Z",
     "start_time": "2020-09-06T21:48:24.243038Z"
    }
   },
   "outputs": [
    {
     "name": "stdout",
     "output_type": "stream",
     "text": [
      "Dimensiones del dataset balanceado: (90688, 4)\n"
     ]
    }
   ],
   "source": [
    "data_balanced = balance_data(data_separate,\"type\")"
   ]
  },
  {
   "cell_type": "code",
   "execution_count": 28,
   "metadata": {
    "ExecuteTime": {
     "end_time": "2020-09-06T21:48:37.989284Z",
     "start_time": "2020-09-06T21:48:37.980297Z"
    }
   },
   "outputs": [
    {
     "name": "stdout",
     "output_type": "stream",
     "text": [
      "(90688, 4)\n"
     ]
    },
    {
     "data": {
      "text/html": [
       "<div>\n",
       "<style scoped>\n",
       "    .dataframe tbody tr th:only-of-type {\n",
       "        vertical-align: middle;\n",
       "    }\n",
       "\n",
       "    .dataframe tbody tr th {\n",
       "        vertical-align: top;\n",
       "    }\n",
       "\n",
       "    .dataframe thead th {\n",
       "        text-align: right;\n",
       "    }\n",
       "</style>\n",
       "<table border=\"1\" class=\"dataframe\">\n",
       "  <thead>\n",
       "    <tr style=\"text-align: right;\">\n",
       "      <th></th>\n",
       "      <th>type</th>\n",
       "      <th>comment</th>\n",
       "      <th>clean_comment</th>\n",
       "      <th>word_count</th>\n",
       "    </tr>\n",
       "  </thead>\n",
       "  <tbody>\n",
       "    <tr>\n",
       "      <th>0</th>\n",
       "      <td>intj</td>\n",
       "      <td>NaN</td>\n",
       "      <td>yeeesh, selling a kidney? haha. i have a sigm...</td>\n",
       "      <td>NaN</td>\n",
       "    </tr>\n",
       "    <tr>\n",
       "      <th>1</th>\n",
       "      <td>estj</td>\n",
       "      <td>NaN</td>\n",
       "      <td>i have a spongei have a cake...ughhh...sponge...</td>\n",
       "      <td>NaN</td>\n",
       "    </tr>\n",
       "    <tr>\n",
       "      <th>2</th>\n",
       "      <td>intp</td>\n",
       "      <td>NaN</td>\n",
       "      <td>my friends are an typemention, typemention, ty...</td>\n",
       "      <td>NaN</td>\n",
       "    </tr>\n",
       "    <tr>\n",
       "      <th>3</th>\n",
       "      <td>entj</td>\n",
       "      <td>NaN</td>\n",
       "      <td>i'll look into those groups. thanks for point...</td>\n",
       "      <td>NaN</td>\n",
       "    </tr>\n",
       "    <tr>\n",
       "      <th>4</th>\n",
       "      <td>esfj</td>\n",
       "      <td>NaN</td>\n",
       "      <td>how much gas do you use a week?</td>\n",
       "      <td>NaN</td>\n",
       "    </tr>\n",
       "  </tbody>\n",
       "</table>\n",
       "</div>"
      ],
      "text/plain": [
       "   type comment                                      clean_comment word_count\n",
       "0  intj     NaN   yeeesh, selling a kidney? haha. i have a sigm...        NaN\n",
       "1  estj     NaN   i have a spongei have a cake...ughhh...sponge...        NaN\n",
       "2  intp     NaN  my friends are an typemention, typemention, ty...        NaN\n",
       "3  entj     NaN   i'll look into those groups. thanks for point...        NaN\n",
       "4  esfj     NaN                   how much gas do you use a week?         NaN"
      ]
     },
     "execution_count": 28,
     "metadata": {},
     "output_type": "execute_result"
    }
   ],
   "source": [
    "print(data_balanced.shape)\n",
    "data_balanced.head()"
   ]
  },
  {
   "cell_type": "markdown",
   "metadata": {},
   "source": [
    "# Keras"
   ]
  },
  {
   "cell_type": "code",
   "execution_count": null,
   "metadata": {},
   "outputs": [],
   "source": [
    "dict_code = {'i':0, 'e':1, 'n':0, 's':1, 'f':0, 't':1, 'j':0, 'p':1}\n",
    "def code(tipo):\n",
    "    \"\"\"{'i':0, 'e':1, 'n':0, 's':1, 'f':0, 't':1, 'j':0, 'p':1} \"\"\"\n",
    "    return [dict_code[l] for l in tipo]\n",
    "\n",
    "\n",
    "from keras.preprocessing.text import Tokenizer\n",
    "from keras.preprocessing.sequence import pad_sequences\n",
    "import pandas as pd \n",
    "import pickle\n",
    "\n",
    "tokenizer = pickle.load(open(\"../Utilities/tokenizer_english.pkl\", \"rb\"))\n",
    "vocab_shape=len(tokenizer.word_index) +1\n",
    "max_len=50\n",
    "\n",
    "\n",
    "def prepare_data(data):\n",
    "    X = data[\"clean_comment\"].sample(frac=1)\n",
    "    X = tokenizer.texts_to_sequences(X)\n",
    "    X = pad_sequences(X,maxlen=max_len)\n",
    "    Y = data[\"type\"]\n",
    "    \n",
    "    Y_4 = np.array([code(x) for x in Y])\n",
    "\n",
    "    return X, Y_4, Y "
   ]
  },
  {
   "cell_type": "code",
   "execution_count": 199,
   "metadata": {
    "ExecuteTime": {
     "end_time": "2020-09-07T00:29:56.644403Z",
     "start_time": "2020-09-07T00:29:56.481910Z"
    }
   },
   "outputs": [],
   "source": [
    "import pickle\n",
    "embedding_matrix = pickle.load(open(\"../Utilities/embeddings/embeddings_filtered.pkl\", \"rb\"))\n",
    "\n",
    "from tensorflow.keras.models import Model\n",
    "from tensorflow.keras.layers import Input, Embedding, Conv2D, GlobalMaxPooling1D, Dense, Concatenate, Flatten\n",
    "from tensorflow.keras.layers import BatchNormalization, SpatialDropout1D, Dropout, Activation, MaxPool2D, Reshape\n",
    "from tensorflow.keras.callbacks import EarlyStopping, ModelCheckpoint\n",
    "from tensorflow.keras.utils import plot_model\n",
    "from tensorflow.keras.activations import  relu\n",
    "from keras.callbacks import ModelCheckpoint, EarlyStopping\n",
    "\n",
    "tf.keras.metrics.AUC(\n",
    "    num_thresholds=200,\n",
    "    curve=\"ROC\",\n",
    "    summation_method=\"interpolation\",\n",
    "    name=None,\n",
    "    dtype=None,\n",
    "    thresholds=None,\n",
    "    multi_label=False,\n",
    "    label_weights=None,\n",
    ")\n",
    "\n",
    "def model_cnn(embedding_matrix):\n",
    "    filter_sizes = [1,2,3]\n",
    "    num_filters = 36\n",
    "    embed_size = 300\n",
    "\n",
    "\n",
    "    inp = Input(shape=(max_len,))\n",
    "    x = Embedding(vocab_shape, embed_size, weights=[embedding_matrix],  trainable=False)(inp)\n",
    "    x = Reshape((max_len, embed_size, 1))(x)\n",
    "\n",
    "    maxpool_pool = []\n",
    "    for i in range(len(filter_sizes)):\n",
    "        conv = Conv2D(num_filters, kernel_size=(filter_sizes[i], embed_size),\n",
    "                                     kernel_initializer='he_normal', activation='elu')(x)\n",
    "        maxpool_pool.append(MaxPool2D(pool_size=(max_len - filter_sizes[i] + 1, 1))(conv))\n",
    "\n",
    "    z = Concatenate(axis=1)(maxpool_pool)   \n",
    "    z = Flatten()(z)\n",
    "    z = Dropout(0.1)(z)\n",
    "\n",
    "    outp = Dense(1, activation=\"sigmoid\")(z)\n",
    "    \n",
    "    model = Model(inputs=inp, outputs=outp)\n",
    "    model.compile(loss='binary_crossentropy', optimizer='adam', metrics=[tf.keras.metrics.AUC()])\n",
    "    \n",
    "    return model\n",
    "\n"
   ]
  },
  {
   "cell_type": "code",
   "execution_count": 133,
   "metadata": {
    "ExecuteTime": {
     "end_time": "2020-09-06T23:42:45.294603Z",
     "start_time": "2020-09-06T23:42:45.289105Z"
    }
   },
   "outputs": [],
   "source": [
    "from sklearn.metrics import roc_curve\n",
    "from sklearn.metrics import auc\n",
    "def plot_roc(X_test, Y_test,model):\n",
    "    y_pred_keras = model.predict(X_test)\n",
    "    fpr_keras, tpr_keras, thresholds_keras = roc_curve(Y_test, y_pred_keras)\n",
    "    \n",
    "    \n",
    "    auc_keras = auc(fpr_keras, tpr_keras)\n",
    "    \n",
    "    plt.figure(1)\n",
    "    plt.plot([0, 1], [0, 1], 'k--')\n",
    "    plt.plot(fpr_keras, tpr_keras, label='Keras (area = {:.3f})'.format(auc_keras))\n",
    "    plt.xlabel('False positive rate')\n",
    "    plt.ylabel('True positive rate')\n",
    "    plt.title('ROC curve')\n",
    "    plt.legend(loc='best')\n",
    "    plt.show()"
   ]
  },
  {
   "cell_type": "markdown",
   "metadata": {},
   "source": [
    "### Without weights"
   ]
  },
  {
   "cell_type": "code",
   "execution_count": 173,
   "metadata": {
    "ExecuteTime": {
     "end_time": "2020-09-07T00:18:44.228136Z",
     "start_time": "2020-09-07T00:18:18.867586Z"
    }
   },
   "outputs": [],
   "source": [
    "X, Y_4, Y  = prepare_data(data_separate)"
   ]
  },
  {
   "cell_type": "code",
   "execution_count": 202,
   "metadata": {
    "ExecuteTime": {
     "end_time": "2020-09-07T00:41:31.577475Z",
     "start_time": "2020-09-07T00:30:32.936340Z"
    },
    "scrolled": true
   },
   "outputs": [
    {
     "name": "stdout",
     "output_type": "stream",
     "text": [
      "Epoch 1/20\n",
      "14263/14263 [==============================] - 317s 22ms/step - loss: 0.5513 - auc_26: 0.4999 - val_loss: 0.5487 - val_auc_26: 0.5005\n",
      "Epoch 2/20\n",
      "14263/14263 [==============================] - 326s 23ms/step - loss: 0.5485 - auc_26: 0.5088 - val_loss: 0.5492 - val_auc_26: 0.5007\n",
      "Epoch 3/20\n",
      "  647/14263 [>.............................] - ETA: 4:49 - loss: 0.5503 - auc_26: 0.5271"
     ]
    },
    {
     "ename": "KeyboardInterrupt",
     "evalue": "",
     "output_type": "error",
     "traceback": [
      "\u001b[1;31m---------------------------------------------------------------------------\u001b[0m",
      "\u001b[1;31mKeyboardInterrupt\u001b[0m                         Traceback (most recent call last)",
      "\u001b[1;32m<ipython-input-202-3d161d402a7c>\u001b[0m in \u001b[0;36m<module>\u001b[1;34m\u001b[0m\n\u001b[0;32m      8\u001b[0m \u001b[0mparada\u001b[0m \u001b[1;33m=\u001b[0m \u001b[0mEarlyStopping\u001b[0m\u001b[1;33m(\u001b[0m\u001b[0mmonitor\u001b[0m\u001b[1;33m=\u001b[0m\u001b[1;34m'loss'\u001b[0m\u001b[1;33m,\u001b[0m \u001b[0mpatience\u001b[0m \u001b[1;33m=\u001b[0m \u001b[1;36m0\u001b[0m\u001b[1;33m,\u001b[0m\u001b[0mverbose\u001b[0m\u001b[1;33m=\u001b[0m\u001b[1;36m1\u001b[0m\u001b[1;33m)\u001b[0m\u001b[1;33m\u001b[0m\u001b[1;33m\u001b[0m\u001b[0m\n\u001b[0;32m      9\u001b[0m \u001b[1;33m\u001b[0m\u001b[0m\n\u001b[1;32m---> 10\u001b[1;33m \u001b[0mhistory\u001b[0m \u001b[1;33m=\u001b[0m \u001b[0mmodel\u001b[0m\u001b[1;33m.\u001b[0m\u001b[0mfit\u001b[0m\u001b[1;33m(\u001b[0m\u001b[0mX_train\u001b[0m\u001b[1;33m,\u001b[0m\u001b[0mY_train\u001b[0m\u001b[1;33m,\u001b[0m \u001b[0mepochs\u001b[0m \u001b[1;33m=\u001b[0m \u001b[1;36m20\u001b[0m\u001b[1;33m,\u001b[0m \u001b[0mbatch_size\u001b[0m\u001b[1;33m=\u001b[0m\u001b[1;36m50\u001b[0m\u001b[1;33m,\u001b[0m \u001b[0mvalidation_data\u001b[0m\u001b[1;33m=\u001b[0m\u001b[1;33m(\u001b[0m\u001b[0mX_test\u001b[0m\u001b[1;33m,\u001b[0m\u001b[0mY_test\u001b[0m\u001b[1;33m)\u001b[0m\u001b[1;33m,\u001b[0m \u001b[0mcallbacks\u001b[0m\u001b[1;33m=\u001b[0m\u001b[1;33m[\u001b[0m\u001b[0mparada\u001b[0m\u001b[1;33m]\u001b[0m\u001b[1;33m)\u001b[0m\u001b[1;33m\u001b[0m\u001b[1;33m\u001b[0m\u001b[0m\n\u001b[0m",
      "\u001b[1;32m~\\AppData\\Roaming\\Python\\Python37\\site-packages\\tensorflow\\python\\keras\\engine\\training.py\u001b[0m in \u001b[0;36m_method_wrapper\u001b[1;34m(self, *args, **kwargs)\u001b[0m\n",
      "\u001b[1;32m~\\AppData\\Roaming\\Python\\Python37\\site-packages\\tensorflow\\python\\keras\\engine\\training.py\u001b[0m in \u001b[0;36mfit\u001b[1;34m(self, x, y, batch_size, epochs, verbose, callbacks, validation_split, validation_data, shuffle, class_weight, sample_weight, initial_epoch, steps_per_epoch, validation_steps, validation_batch_size, validation_freq, max_queue_size, workers, use_multiprocessing)\u001b[0m\n",
      "\u001b[1;32m~\\AppData\\Roaming\\Python\\Python37\\site-packages\\tensorflow\\python\\eager\\def_function.py\u001b[0m in \u001b[0;36m__call__\u001b[1;34m(self, *args, **kwds)\u001b[0m\n",
      "\u001b[1;32m~\\AppData\\Roaming\\Python\\Python37\\site-packages\\tensorflow\\python\\eager\\def_function.py\u001b[0m in \u001b[0;36m_call\u001b[1;34m(self, *args, **kwds)\u001b[0m\n",
      "\u001b[1;32m~\\AppData\\Roaming\\Python\\Python37\\site-packages\\tensorflow\\python\\eager\\function.py\u001b[0m in \u001b[0;36m__call__\u001b[1;34m(self, *args, **kwargs)\u001b[0m\n",
      "\u001b[1;32m~\\AppData\\Roaming\\Python\\Python37\\site-packages\\tensorflow\\python\\eager\\function.py\u001b[0m in \u001b[0;36m_filtered_call\u001b[1;34m(self, args, kwargs, cancellation_manager)\u001b[0m\n",
      "\u001b[1;32m~\\AppData\\Roaming\\Python\\Python37\\site-packages\\tensorflow\\python\\eager\\function.py\u001b[0m in \u001b[0;36m_call_flat\u001b[1;34m(self, args, captured_inputs, cancellation_manager)\u001b[0m\n",
      "\u001b[1;32m~\\AppData\\Roaming\\Python\\Python37\\site-packages\\tensorflow\\python\\eager\\function.py\u001b[0m in \u001b[0;36mcall\u001b[1;34m(self, ctx, args, cancellation_manager)\u001b[0m\n",
      "\u001b[1;32m~\\AppData\\Roaming\\Python\\Python37\\site-packages\\tensorflow\\python\\eager\\execute.py\u001b[0m in \u001b[0;36mquick_execute\u001b[1;34m(op_name, num_outputs, inputs, attrs, ctx, name)\u001b[0m\n",
      "\u001b[1;31mKeyboardInterrupt\u001b[0m: "
     ]
    }
   ],
   "source": [
    "from sklearn.model_selection import train_test_split\n",
    "X_train, X_test, Y_train, Y_test = train_test_split(X, Y_4[:,0], test_size=0.2, random_state=42, stratify=Y_4[:,0])\n",
    "\n",
    "\n",
    "model = model_cnn(embedding_matrix)\n",
    "\n",
    "from tensorflow.keras.callbacks import EarlyStopping\n",
    "parada = EarlyStopping(monitor='loss', patience = 0,verbose=1)\n",
    "\n",
    "history = model.fit(X_train,Y_train, epochs = 20, batch_size=50, validation_data=(X_test,Y_test), callbacks=[parada])"
   ]
  },
  {
   "cell_type": "code",
   "execution_count": 134,
   "metadata": {
    "ExecuteTime": {
     "end_time": "2020-09-06T23:43:11.931584Z",
     "start_time": "2020-09-06T23:42:49.058188Z"
    }
   },
   "outputs": [
    {
     "data": {
      "image/png": "[encoded data removed]",
      "text/plain": [
       "<Figure size 432x288 with 1 Axes>"
      ]
     },
     "metadata": {
      "needs_background": "light"
     },
     "output_type": "display_data"
    }
   ],
   "source": [
    "plot_roc(X_test,Y_test,model)"
   ]
  },
  {
   "cell_type": "markdown",
   "metadata": {},
   "source": [
    "### Keras Separate weights"
   ]
  },
  {
   "cell_type": "code",
   "execution_count": null,
   "metadata": {},
   "outputs": [],
   "source": [
    "X, Y_4, Y  = prepare_data(data_separate)"
   ]
  },
  {
   "cell_type": "code",
   "execution_count": 203,
   "metadata": {
    "ExecuteTime": {
     "end_time": "2020-09-07T00:41:35.436317Z",
     "start_time": "2020-09-07T00:41:35.420341Z"
    }
   },
   "outputs": [],
   "source": [
    "import pandas as pd\n",
    "from collections import Counter\n",
    "def get_class_weights(y):\n",
    "    counter = Counter(y)\n",
    "    majority = max(counter.values())\n",
    "    return  {cls: round(float(majority)/float(count), 2) for cls, count in counter.items()}"
   ]
  },
  {
   "cell_type": "code",
   "execution_count": 59,
   "metadata": {
    "ExecuteTime": {
     "end_time": "2020-09-06T22:49:39.459944Z",
     "start_time": "2020-09-06T22:21:32.676742Z"
    },
    "scrolled": true
   },
   "outputs": [
    {
     "name": "stdout",
     "output_type": "stream",
     "text": [
      "Epoch 1/5\n",
      "14263/14263 [==============================] - 351s 25ms/step - loss: 0.6967 - accuracy: 0.5108 - val_loss: 0.6988 - val_accuracy: 0.4730\n",
      "Epoch 2/5\n",
      "14263/14263 [==============================] - 326s 23ms/step - loss: 0.6951 - accuracy: 0.4970 - val_loss: 0.6990 - val_accuracy: 0.4095\n",
      "Epoch 3/5\n",
      "14263/14263 [==============================] - 308s 22ms/step - loss: 0.6933 - accuracy: 0.5076 - val_loss: 0.6968 - val_accuracy: 0.4900\n",
      "Epoch 4/5\n",
      "14263/14263 [==============================] - 313s 22ms/step - loss: 0.6905 - accuracy: 0.5200 - val_loss: 0.6958 - val_accuracy: 0.5516\n",
      "Epoch 5/5\n",
      "14263/14263 [==============================] - 332s 23ms/step - loss: 0.6873 - accuracy: 0.5299 - val_loss: 0.7048 - val_accuracy: 0.4754\n"
     ]
    }
   ],
   "source": [
    "model = model_cnn(embedding_matrix)\n",
    "\n",
    "from sklearn.model_selection import train_test_split\n",
    "X_train, X_test, Y_train, Y_test = train_test_split(X, Y_4[:,0], test_size=0.2, random_state=42, stratify=Y_4[:,0])\n",
    "\n",
    "\n",
    "pesos =  get_class_weights(Y_train)\n",
    "\n",
    "history = model.fit(X,Y_train, epochs = 5, batch_size=50, validation_split=0.2, class_weights=pesos)"
   ]
  },
  {
   "cell_type": "code",
   "execution_count": 112,
   "metadata": {
    "ExecuteTime": {
     "end_time": "2020-09-06T23:00:43.723891Z",
     "start_time": "2020-09-06T23:00:42.932394Z"
    }
   },
   "outputs": [
    {
     "data": {
      "image/png": "[encoded data removed]",
      "text/plain": [
       "<Figure size 432x288 with 1 Axes>"
      ]
     },
     "metadata": {
      "needs_background": "light"
     },
     "output_type": "display_data"
    }
   ],
   "source": [
    "plot_roc(X_test,Y_test)"
   ]
  },
  {
   "cell_type": "markdown",
   "metadata": {},
   "source": [
    "# 0"
   ]
  },
  {
   "cell_type": "code",
   "execution_count": 239,
   "metadata": {
    "ExecuteTime": {
     "end_time": "2020-09-05T18:39:48.292992Z",
     "start_time": "2020-09-05T18:29:39.676753Z"
    },
    "scrolled": true
   },
   "outputs": [
    {
     "name": "stdout",
     "output_type": "stream",
     "text": [
      "Epoch 1/10\n",
      "289/289 [==============================] - 148s 511ms/step - loss: 0.7252 - accuracy: 0.5359 - val_loss: 0.6803 - val_accuracy: 0.5437\n",
      "Epoch 2/10\n",
      "289/289 [==============================] - 159s 550ms/step - loss: 0.4934 - accuracy: 0.7837 - val_loss: 0.6957 - val_accuracy: 0.6189\n",
      "Epoch 3/10\n",
      "289/289 [==============================] - 145s 503ms/step - loss: 0.2531 - accuracy: 0.9462 - val_loss: 0.8076 - val_accuracy: 0.7184\n",
      "Epoch 4/10\n",
      "289/289 [==============================] - 140s 483ms/step - loss: 0.0967 - accuracy: 0.9906 - val_loss: 0.9044 - val_accuracy: 0.7146\n",
      "Epoch 5/10\n",
      " 29/289 [==>...........................] - ETA: 1:54 - loss: 0.0379 - accuracy: 0.9993"
     ]
    },
    {
     "ename": "KeyboardInterrupt",
     "evalue": "",
     "output_type": "error",
     "traceback": [
      "\u001b[1;31m---------------------------------------------------------------------------\u001b[0m",
      "\u001b[1;31mKeyboardInterrupt\u001b[0m                         Traceback (most recent call last)",
      "\u001b[1;32m<ipython-input-239-68b4df1d102d>\u001b[0m in \u001b[0;36m<module>\u001b[1;34m\u001b[0m\n\u001b[0;32m      1\u001b[0m \u001b[0mpesos\u001b[0m \u001b[1;33m=\u001b[0m  \u001b[0mcompute_sample_weight\u001b[0m\u001b[1;33m(\u001b[0m\u001b[1;34m'balanced'\u001b[0m\u001b[1;33m,\u001b[0m \u001b[0mY_4\u001b[0m\u001b[1;33m[\u001b[0m\u001b[1;33m:\u001b[0m\u001b[1;33m,\u001b[0m\u001b[1;36m0\u001b[0m\u001b[1;33m]\u001b[0m\u001b[1;33m)\u001b[0m\u001b[1;33m\u001b[0m\u001b[1;33m\u001b[0m\u001b[0m\n\u001b[1;32m----> 2\u001b[1;33m \u001b[0mhistory\u001b[0m \u001b[1;33m=\u001b[0m \u001b[0mmodel\u001b[0m\u001b[1;33m.\u001b[0m\u001b[0mfit\u001b[0m\u001b[1;33m(\u001b[0m\u001b[0mX\u001b[0m\u001b[1;33m,\u001b[0m\u001b[0mY_4\u001b[0m\u001b[1;33m[\u001b[0m\u001b[1;33m:\u001b[0m\u001b[1;33m,\u001b[0m\u001b[1;36m0\u001b[0m\u001b[1;33m]\u001b[0m\u001b[1;33m,\u001b[0m \u001b[0mepochs\u001b[0m \u001b[1;33m=\u001b[0m \u001b[1;36m10\u001b[0m\u001b[1;33m,\u001b[0m \u001b[0mbatch_size\u001b[0m\u001b[1;33m=\u001b[0m\u001b[1;36m50\u001b[0m\u001b[1;33m,\u001b[0m \u001b[0mvalidation_split\u001b[0m\u001b[1;33m=\u001b[0m\u001b[1;36m0.2\u001b[0m\u001b[1;33m,\u001b[0m\u001b[0msample_weight\u001b[0m\u001b[1;33m=\u001b[0m\u001b[0mpesos\u001b[0m\u001b[1;33m,\u001b[0m\u001b[0mshuffle\u001b[0m\u001b[1;33m=\u001b[0m\u001b[1;32mTrue\u001b[0m\u001b[1;33m)\u001b[0m\u001b[1;33m\u001b[0m\u001b[1;33m\u001b[0m\u001b[0m\n\u001b[0m",
      "\u001b[1;32m~\\AppData\\Roaming\\Python\\Python37\\site-packages\\tensorflow\\python\\keras\\engine\\training.py\u001b[0m in \u001b[0;36m_method_wrapper\u001b[1;34m(self, *args, **kwargs)\u001b[0m\n\u001b[0;32m    106\u001b[0m   \u001b[1;32mdef\u001b[0m \u001b[0m_method_wrapper\u001b[0m\u001b[1;33m(\u001b[0m\u001b[0mself\u001b[0m\u001b[1;33m,\u001b[0m \u001b[1;33m*\u001b[0m\u001b[0margs\u001b[0m\u001b[1;33m,\u001b[0m \u001b[1;33m**\u001b[0m\u001b[0mkwargs\u001b[0m\u001b[1;33m)\u001b[0m\u001b[1;33m:\u001b[0m\u001b[1;33m\u001b[0m\u001b[1;33m\u001b[0m\u001b[0m\n\u001b[0;32m    107\u001b[0m     \u001b[1;32mif\u001b[0m \u001b[1;32mnot\u001b[0m \u001b[0mself\u001b[0m\u001b[1;33m.\u001b[0m\u001b[0m_in_multi_worker_mode\u001b[0m\u001b[1;33m(\u001b[0m\u001b[1;33m)\u001b[0m\u001b[1;33m:\u001b[0m  \u001b[1;31m# pylint: disable=protected-access\u001b[0m\u001b[1;33m\u001b[0m\u001b[1;33m\u001b[0m\u001b[0m\n\u001b[1;32m--> 108\u001b[1;33m       \u001b[1;32mreturn\u001b[0m \u001b[0mmethod\u001b[0m\u001b[1;33m(\u001b[0m\u001b[0mself\u001b[0m\u001b[1;33m,\u001b[0m \u001b[1;33m*\u001b[0m\u001b[0margs\u001b[0m\u001b[1;33m,\u001b[0m \u001b[1;33m**\u001b[0m\u001b[0mkwargs\u001b[0m\u001b[1;33m)\u001b[0m\u001b[1;33m\u001b[0m\u001b[1;33m\u001b[0m\u001b[0m\n\u001b[0m\u001b[0;32m    109\u001b[0m \u001b[1;33m\u001b[0m\u001b[0m\n\u001b[0;32m    110\u001b[0m     \u001b[1;31m# Running inside `run_distribute_coordinator` already.\u001b[0m\u001b[1;33m\u001b[0m\u001b[1;33m\u001b[0m\u001b[1;33m\u001b[0m\u001b[0m\n",
      "\u001b[1;32m~\\AppData\\Roaming\\Python\\Python37\\site-packages\\tensorflow\\python\\keras\\engine\\training.py\u001b[0m in \u001b[0;36mfit\u001b[1;34m(self, x, y, batch_size, epochs, verbose, callbacks, validation_split, validation_data, shuffle, class_weight, sample_weight, initial_epoch, steps_per_epoch, validation_steps, validation_batch_size, validation_freq, max_queue_size, workers, use_multiprocessing)\u001b[0m\n\u001b[0;32m   1096\u001b[0m                 batch_size=batch_size):\n\u001b[0;32m   1097\u001b[0m               \u001b[0mcallbacks\u001b[0m\u001b[1;33m.\u001b[0m\u001b[0mon_train_batch_begin\u001b[0m\u001b[1;33m(\u001b[0m\u001b[0mstep\u001b[0m\u001b[1;33m)\u001b[0m\u001b[1;33m\u001b[0m\u001b[1;33m\u001b[0m\u001b[0m\n\u001b[1;32m-> 1098\u001b[1;33m               \u001b[0mtmp_logs\u001b[0m \u001b[1;33m=\u001b[0m \u001b[0mtrain_function\u001b[0m\u001b[1;33m(\u001b[0m\u001b[0miterator\u001b[0m\u001b[1;33m)\u001b[0m\u001b[1;33m\u001b[0m\u001b[1;33m\u001b[0m\u001b[0m\n\u001b[0m\u001b[0;32m   1099\u001b[0m               \u001b[1;32mif\u001b[0m \u001b[0mdata_handler\u001b[0m\u001b[1;33m.\u001b[0m\u001b[0mshould_sync\u001b[0m\u001b[1;33m:\u001b[0m\u001b[1;33m\u001b[0m\u001b[1;33m\u001b[0m\u001b[0m\n\u001b[0;32m   1100\u001b[0m                 \u001b[0mcontext\u001b[0m\u001b[1;33m.\u001b[0m\u001b[0masync_wait\u001b[0m\u001b[1;33m(\u001b[0m\u001b[1;33m)\u001b[0m\u001b[1;33m\u001b[0m\u001b[1;33m\u001b[0m\u001b[0m\n",
      "\u001b[1;32m~\\AppData\\Roaming\\Python\\Python37\\site-packages\\tensorflow\\python\\eager\\def_function.py\u001b[0m in \u001b[0;36m__call__\u001b[1;34m(self, *args, **kwds)\u001b[0m\n\u001b[0;32m    778\u001b[0m       \u001b[1;32melse\u001b[0m\u001b[1;33m:\u001b[0m\u001b[1;33m\u001b[0m\u001b[1;33m\u001b[0m\u001b[0m\n\u001b[0;32m    779\u001b[0m         \u001b[0mcompiler\u001b[0m \u001b[1;33m=\u001b[0m \u001b[1;34m\"nonXla\"\u001b[0m\u001b[1;33m\u001b[0m\u001b[1;33m\u001b[0m\u001b[0m\n\u001b[1;32m--> 780\u001b[1;33m         \u001b[0mresult\u001b[0m \u001b[1;33m=\u001b[0m \u001b[0mself\u001b[0m\u001b[1;33m.\u001b[0m\u001b[0m_call\u001b[0m\u001b[1;33m(\u001b[0m\u001b[1;33m*\u001b[0m\u001b[0margs\u001b[0m\u001b[1;33m,\u001b[0m \u001b[1;33m**\u001b[0m\u001b[0mkwds\u001b[0m\u001b[1;33m)\u001b[0m\u001b[1;33m\u001b[0m\u001b[1;33m\u001b[0m\u001b[0m\n\u001b[0m\u001b[0;32m    781\u001b[0m \u001b[1;33m\u001b[0m\u001b[0m\n\u001b[0;32m    782\u001b[0m       \u001b[0mnew_tracing_count\u001b[0m \u001b[1;33m=\u001b[0m \u001b[0mself\u001b[0m\u001b[1;33m.\u001b[0m\u001b[0m_get_tracing_count\u001b[0m\u001b[1;33m(\u001b[0m\u001b[1;33m)\u001b[0m\u001b[1;33m\u001b[0m\u001b[1;33m\u001b[0m\u001b[0m\n",
      "\u001b[1;32m~\\AppData\\Roaming\\Python\\Python37\\site-packages\\tensorflow\\python\\eager\\def_function.py\u001b[0m in \u001b[0;36m_call\u001b[1;34m(self, *args, **kwds)\u001b[0m\n\u001b[0;32m    805\u001b[0m       \u001b[1;31m# In this case we have created variables on the first call, so we run the\u001b[0m\u001b[1;33m\u001b[0m\u001b[1;33m\u001b[0m\u001b[1;33m\u001b[0m\u001b[0m\n\u001b[0;32m    806\u001b[0m       \u001b[1;31m# defunned version which is guaranteed to never create variables.\u001b[0m\u001b[1;33m\u001b[0m\u001b[1;33m\u001b[0m\u001b[1;33m\u001b[0m\u001b[0m\n\u001b[1;32m--> 807\u001b[1;33m       \u001b[1;32mreturn\u001b[0m \u001b[0mself\u001b[0m\u001b[1;33m.\u001b[0m\u001b[0m_stateless_fn\u001b[0m\u001b[1;33m(\u001b[0m\u001b[1;33m*\u001b[0m\u001b[0margs\u001b[0m\u001b[1;33m,\u001b[0m \u001b[1;33m**\u001b[0m\u001b[0mkwds\u001b[0m\u001b[1;33m)\u001b[0m  \u001b[1;31m# pylint: disable=not-callable\u001b[0m\u001b[1;33m\u001b[0m\u001b[1;33m\u001b[0m\u001b[0m\n\u001b[0m\u001b[0;32m    808\u001b[0m     \u001b[1;32melif\u001b[0m \u001b[0mself\u001b[0m\u001b[1;33m.\u001b[0m\u001b[0m_stateful_fn\u001b[0m \u001b[1;32mis\u001b[0m \u001b[1;32mnot\u001b[0m \u001b[1;32mNone\u001b[0m\u001b[1;33m:\u001b[0m\u001b[1;33m\u001b[0m\u001b[1;33m\u001b[0m\u001b[0m\n\u001b[0;32m    809\u001b[0m       \u001b[1;31m# Release the lock early so that multiple threads can perform the call\u001b[0m\u001b[1;33m\u001b[0m\u001b[1;33m\u001b[0m\u001b[1;33m\u001b[0m\u001b[0m\n",
      "\u001b[1;32m~\\AppData\\Roaming\\Python\\Python37\\site-packages\\tensorflow\\python\\eager\\function.py\u001b[0m in \u001b[0;36m__call__\u001b[1;34m(self, *args, **kwargs)\u001b[0m\n\u001b[0;32m   2827\u001b[0m     \u001b[1;32mwith\u001b[0m \u001b[0mself\u001b[0m\u001b[1;33m.\u001b[0m\u001b[0m_lock\u001b[0m\u001b[1;33m:\u001b[0m\u001b[1;33m\u001b[0m\u001b[1;33m\u001b[0m\u001b[0m\n\u001b[0;32m   2828\u001b[0m       \u001b[0mgraph_function\u001b[0m\u001b[1;33m,\u001b[0m \u001b[0margs\u001b[0m\u001b[1;33m,\u001b[0m \u001b[0mkwargs\u001b[0m \u001b[1;33m=\u001b[0m \u001b[0mself\u001b[0m\u001b[1;33m.\u001b[0m\u001b[0m_maybe_define_function\u001b[0m\u001b[1;33m(\u001b[0m\u001b[0margs\u001b[0m\u001b[1;33m,\u001b[0m \u001b[0mkwargs\u001b[0m\u001b[1;33m)\u001b[0m\u001b[1;33m\u001b[0m\u001b[1;33m\u001b[0m\u001b[0m\n\u001b[1;32m-> 2829\u001b[1;33m     \u001b[1;32mreturn\u001b[0m \u001b[0mgraph_function\u001b[0m\u001b[1;33m.\u001b[0m\u001b[0m_filtered_call\u001b[0m\u001b[1;33m(\u001b[0m\u001b[0margs\u001b[0m\u001b[1;33m,\u001b[0m \u001b[0mkwargs\u001b[0m\u001b[1;33m)\u001b[0m  \u001b[1;31m# pylint: disable=protected-access\u001b[0m\u001b[1;33m\u001b[0m\u001b[1;33m\u001b[0m\u001b[0m\n\u001b[0m\u001b[0;32m   2830\u001b[0m \u001b[1;33m\u001b[0m\u001b[0m\n\u001b[0;32m   2831\u001b[0m   \u001b[1;33m@\u001b[0m\u001b[0mproperty\u001b[0m\u001b[1;33m\u001b[0m\u001b[1;33m\u001b[0m\u001b[0m\n",
      "\u001b[1;32m~\\AppData\\Roaming\\Python\\Python37\\site-packages\\tensorflow\\python\\eager\\function.py\u001b[0m in \u001b[0;36m_filtered_call\u001b[1;34m(self, args, kwargs, cancellation_manager)\u001b[0m\n\u001b[0;32m   1846\u001b[0m                            resource_variable_ops.BaseResourceVariable))],\n\u001b[0;32m   1847\u001b[0m         \u001b[0mcaptured_inputs\u001b[0m\u001b[1;33m=\u001b[0m\u001b[0mself\u001b[0m\u001b[1;33m.\u001b[0m\u001b[0mcaptured_inputs\u001b[0m\u001b[1;33m,\u001b[0m\u001b[1;33m\u001b[0m\u001b[1;33m\u001b[0m\u001b[0m\n\u001b[1;32m-> 1848\u001b[1;33m         cancellation_manager=cancellation_manager)\n\u001b[0m\u001b[0;32m   1849\u001b[0m \u001b[1;33m\u001b[0m\u001b[0m\n\u001b[0;32m   1850\u001b[0m   \u001b[1;32mdef\u001b[0m \u001b[0m_call_flat\u001b[0m\u001b[1;33m(\u001b[0m\u001b[0mself\u001b[0m\u001b[1;33m,\u001b[0m \u001b[0margs\u001b[0m\u001b[1;33m,\u001b[0m \u001b[0mcaptured_inputs\u001b[0m\u001b[1;33m,\u001b[0m \u001b[0mcancellation_manager\u001b[0m\u001b[1;33m=\u001b[0m\u001b[1;32mNone\u001b[0m\u001b[1;33m)\u001b[0m\u001b[1;33m:\u001b[0m\u001b[1;33m\u001b[0m\u001b[1;33m\u001b[0m\u001b[0m\n",
      "\u001b[1;32m~\\AppData\\Roaming\\Python\\Python37\\site-packages\\tensorflow\\python\\eager\\function.py\u001b[0m in \u001b[0;36m_call_flat\u001b[1;34m(self, args, captured_inputs, cancellation_manager)\u001b[0m\n\u001b[0;32m   1922\u001b[0m       \u001b[1;31m# No tape is watching; skip to running the function.\u001b[0m\u001b[1;33m\u001b[0m\u001b[1;33m\u001b[0m\u001b[1;33m\u001b[0m\u001b[0m\n\u001b[0;32m   1923\u001b[0m       return self._build_call_outputs(self._inference_function.call(\n\u001b[1;32m-> 1924\u001b[1;33m           ctx, args, cancellation_manager=cancellation_manager))\n\u001b[0m\u001b[0;32m   1925\u001b[0m     forward_backward = self._select_forward_and_backward_functions(\n\u001b[0;32m   1926\u001b[0m         \u001b[0margs\u001b[0m\u001b[1;33m,\u001b[0m\u001b[1;33m\u001b[0m\u001b[1;33m\u001b[0m\u001b[0m\n",
      "\u001b[1;32m~\\AppData\\Roaming\\Python\\Python37\\site-packages\\tensorflow\\python\\eager\\function.py\u001b[0m in \u001b[0;36mcall\u001b[1;34m(self, ctx, args, cancellation_manager)\u001b[0m\n\u001b[0;32m    548\u001b[0m               \u001b[0minputs\u001b[0m\u001b[1;33m=\u001b[0m\u001b[0margs\u001b[0m\u001b[1;33m,\u001b[0m\u001b[1;33m\u001b[0m\u001b[1;33m\u001b[0m\u001b[0m\n\u001b[0;32m    549\u001b[0m               \u001b[0mattrs\u001b[0m\u001b[1;33m=\u001b[0m\u001b[0mattrs\u001b[0m\u001b[1;33m,\u001b[0m\u001b[1;33m\u001b[0m\u001b[1;33m\u001b[0m\u001b[0m\n\u001b[1;32m--> 550\u001b[1;33m               ctx=ctx)\n\u001b[0m\u001b[0;32m    551\u001b[0m         \u001b[1;32melse\u001b[0m\u001b[1;33m:\u001b[0m\u001b[1;33m\u001b[0m\u001b[1;33m\u001b[0m\u001b[0m\n\u001b[0;32m    552\u001b[0m           outputs = execute.execute_with_cancellation(\n",
      "\u001b[1;32m~\\AppData\\Roaming\\Python\\Python37\\site-packages\\tensorflow\\python\\eager\\execute.py\u001b[0m in \u001b[0;36mquick_execute\u001b[1;34m(op_name, num_outputs, inputs, attrs, ctx, name)\u001b[0m\n\u001b[0;32m     58\u001b[0m     \u001b[0mctx\u001b[0m\u001b[1;33m.\u001b[0m\u001b[0mensure_initialized\u001b[0m\u001b[1;33m(\u001b[0m\u001b[1;33m)\u001b[0m\u001b[1;33m\u001b[0m\u001b[1;33m\u001b[0m\u001b[0m\n\u001b[0;32m     59\u001b[0m     tensors = pywrap_tfe.TFE_Py_Execute(ctx._handle, device_name, op_name,\n\u001b[1;32m---> 60\u001b[1;33m                                         inputs, attrs, num_outputs)\n\u001b[0m\u001b[0;32m     61\u001b[0m   \u001b[1;32mexcept\u001b[0m \u001b[0mcore\u001b[0m\u001b[1;33m.\u001b[0m\u001b[0m_NotOkStatusException\u001b[0m \u001b[1;32mas\u001b[0m \u001b[0me\u001b[0m\u001b[1;33m:\u001b[0m\u001b[1;33m\u001b[0m\u001b[1;33m\u001b[0m\u001b[0m\n\u001b[0;32m     62\u001b[0m     \u001b[1;32mif\u001b[0m \u001b[0mname\u001b[0m \u001b[1;32mis\u001b[0m \u001b[1;32mnot\u001b[0m \u001b[1;32mNone\u001b[0m\u001b[1;33m:\u001b[0m\u001b[1;33m\u001b[0m\u001b[1;33m\u001b[0m\u001b[0m\n",
      "\u001b[1;31mKeyboardInterrupt\u001b[0m: "
     ]
    }
   ],
   "source": [
    "pesos =  compute_sample_weight('balanced', Y_4[:,0])\n",
    "history = model.fit(X,Y_4[:,0], epochs = 10, batch_size=50, validation_split=0.2,sample_weight=pesos,shuffle=True)"
   ]
  },
  {
   "cell_type": "markdown",
   "metadata": {},
   "source": [
    "# Keras model multilabel (Output: 4)"
   ]
  },
  {
   "cell_type": "code",
   "execution_count": 101,
   "metadata": {
    "ExecuteTime": {
     "end_time": "2020-09-05T11:43:03.855033Z",
     "start_time": "2020-09-05T11:43:03.839078Z"
    }
   },
   "outputs": [
    {
     "data": {
      "text/plain": [
       "array([0.6552865 , 2.10992742, 2.10992742, ..., 0.6552865 , 0.6552865 ,\n",
       "       0.6552865 ])"
      ]
     },
     "execution_count": 101,
     "metadata": {},
     "output_type": "execute_result"
    }
   ],
   "source": [
    "#from sklearn.utils.class_weight import  compute_sample_weight\n",
    "pesos = compute_sample_weight('balanced', [x[0] for x in Y_4])\n",
    "pesos"
   ]
  },
  {
   "cell_type": "code",
   "execution_count": 193,
   "metadata": {
    "ExecuteTime": {
     "end_time": "2020-09-05T17:08:13.552342Z",
     "start_time": "2020-09-05T17:05:33.458604Z"
    },
    "scrolled": true
   },
   "outputs": [
    {
     "name": "stdout",
     "output_type": "stream",
     "text": [
      "145/145 [==============================] - 155s 1s/step - loss: 0.8365 - accuracy: 0.5266 - val_loss: 0.6949 - val_accuracy: 0.1542\n"
     ]
    }
   ],
   "source": [
    "from tensorflow.keras.models import Model\n",
    "from tensorflow.keras.layers import Input, Embedding, Conv1D, GlobalMaxPooling1D, Dense, Concatenate, Flatten\n",
    "from tensorflow.keras.layers import BatchNormalization, SpatialDropout1D, Dropout, Activation, MaxPooling1D\n",
    "from tensorflow.keras.callbacks import EarlyStopping, ModelCheckpoint\n",
    "from tensorflow.keras.utils import plot_model\n",
    "from tensorflow.keras.activations import  relu\n",
    "\n",
    "\n",
    "filter_sizes = [1,2,3]\n",
    "num_filters = 50\n",
    "embed_shape = 128\n",
    "dropout = 0.2\n",
    "\n",
    "def model_4():\n",
    "    \n",
    "    #Entrada1\n",
    "    entrada1 = Input(shape=(max_len,), name=\"Texto\")\n",
    "    #x = Embedding(vocab_shape, embed_shape, weights=[embedding_matrix], trainable=False)(entrada)\n",
    "    x = Embedding(vocab_shape, embed_shape, trainable=True)(entrada1)\n",
    "    x = SpatialDropout1D(dropout)(x)\n",
    "    \n",
    "    # BRANCH 1............................................................................\n",
    "    x1 = Conv1D(num_filters , filter_sizes[0], name=\"CONV1D1\", activation=\"relu\")(x)\n",
    "    #x1 = BatchNormalization()(x1)\n",
    "    #x1 = GlobalMaxPooling1D()(x1)\n",
    "    #x1 = Dropout(dropout)(x1)\n",
    "    x1 = MaxPooling1D(pool_size=2)(x1)\n",
    "    x1 = Flatten()(x1)\n",
    "    \n",
    "    # BRANCH 2............................................................................\n",
    "    x2 = Conv1D(num_filters , filter_sizes[1], name=\"CONV1D2\", activation=\"relu\")(x)\n",
    "    #x2 = BatchNormalization()(x2)\n",
    "    #x2 = GlobalMaxPooling1D()(x2)\n",
    "    #x2 = Dropout(dropout)(x2)\n",
    "    x2 = MaxPooling1D(pool_size=2)(x2)\n",
    "    x2 = Flatten()(x2)\n",
    "    \n",
    "    # BRANCH 3............................................................................\n",
    "    x3 = Conv1D(num_filters , filter_sizes[2], name=\"CONV1D3\", activation=\"relu\")(x)\n",
    "    #x3 = BatchNormalization()(x3)\n",
    "    #x3 = GlobalMaxPooling1D()(x3)\n",
    "    #x3 = Dropout(dropout)(x3)\n",
    "    x3 = MaxPooling1D(pool_size=2)(x3)\n",
    "    x3 = Flatten()(x3)\n",
    "    \n",
    "    # BRANCH 4............................................................................\n",
    "    #x4 = Conv1D(num_filters , filter_sizes[3], name=\"CONV1D4\", activation=\"relu\")(x)\n",
    "    #x4 = BatchNormalization()(x4)\n",
    "    #x4 = GlobalMaxPooling1D()(x4)\n",
    "    #x4 = Dropout(dropout)(x4)\n",
    "    \n",
    "    #Entrada2 (LIWC)............................................................................\n",
    "    # entrada2 = Input(shape=(X_LIWC.shape[1],),name=\"LIWC\")\n",
    "    #x5 = Dense(64,  activation=\"relu\")(entrada2)\n",
    "    #x5 = Dropout(dropout)(x5)\n",
    "    \n",
    "    # entrada3 = Input(shape=(X_stat.shape[1],),name=\"stat\")\n",
    "    \n",
    "    #Concat\n",
    "    x = Concatenate()([x1,x2,x3])\n",
    "    x = Dense(32, activation=\"relu\")(x)\n",
    "    x = Dropout(dropout)(x)\n",
    "    # x = Dense(512, activation=\"relu\")(x)\n",
    "    \n",
    "    \n",
    "    \n",
    "    #Salida\n",
    "    Y0 = Dense(1, activation=\"sigmoid\", name=\"Y0\")(x)\n",
    "    #Y1 = Dense(1, activation=\"sigmoid\", name=\"Y1\")(x)\n",
    "    #Y2 = Dense(1, activation=\"sigmoid\", name=\"Y2\")(x)\n",
    "    #Y3 = Dense(1, activation=\"sigmoid\", name=\"Y3\")(x)\n",
    "    \n",
    "    #model = Model(inputs=[entrada,entrada2], outputs=Y0)\n",
    "    model = Model(inputs=entrada1, outputs=Y0)\n",
    "    model.compile(loss=\"binary_crossentropy\", optimizer='adam', metrics=['accuracy'])\n",
    "    callbacks = EarlyStopping(monitor='val_loss', patience = 0,verbose=1)\n",
    "    \n",
    "    return model \n",
    "   \n",
    "model = model_4()\n",
    "# model.summary()\n",
    "#plot_model(model)\n",
    "\n",
    "\n",
    "# model.fit([X,X_LIWC],[Y_4[:,0],Y_4[:,1],Y_4[:,2],Y_4[:,3]],\n",
    "\n",
    "pesos =  compute_sample_weight('balanced', [x[1] for x in Y_4])\n",
    "history = model.fit(X,Y_4[:,1],\n",
    "                    batch_size=100,epochs=1,\n",
    "                    validation_split=0.20,\n",
    "                    callbacks = [callbacks],\n",
    "                    sample_weight=pesos,\n",
    "                    shuffle=True,\n",
    "                    verbose=1)"
   ]
  },
  {
   "cell_type": "code",
   "execution_count": null,
   "metadata": {},
   "outputs": [],
   "source": [
    "from tensorflow.keras.models import Model\n",
    "from tensorflow.keras.layers import Input, Embedding, Conv1D, GlobalMaxPooling1D, Dense, Concatenate\n",
    "from tensorflow.keras.layers import BatchNormalization, SpatialDropout1D, Dropout, Activation\n",
    "from tensorflow.keras.callbacks import EarlyStopping, ModelCheckpoint\n",
    "from tensorflow.keras.utils import plot_model\n",
    "from tensorflow.keras.activations import  relu\n",
    "\n",
    "\n",
    "filter_sizes = [1,2,3,5]\n",
    "num_filters = 32\n",
    "embed_shape = 300\n",
    "dropout = 0.2\n",
    "\n",
    "def model_4():\n",
    "    \n",
    "    #Entrada1\n",
    "    entrada = Input(shape=(max_len,), name=\"Texto\")\n",
    "    x = Embedding(vocab_shape, embed_shape, weights=[embedding_matrix], trainable=False)(entrada)\n",
    "    x = SpatialDropout1D(dropout)(x)\n",
    "    \n",
    "    # BRANCH 1............................................................................\n",
    "    x1 = Conv1D(num_filters , filter_sizes[0], name=\"CONV1D1\", activation=\"relu\")(x)\n",
    "    x1 = BatchNormalization()(x1)\n",
    "    x1 = GlobalMaxPooling1D()(x1)\n",
    "    x1 = Dropout(dropout)(x1)\n",
    "    \n",
    "    # BRANCH 2............................................................................\n",
    "    x2 = Conv1D(num_filters , filter_sizes[1], name=\"CONV1D2\", activation=\"relu\")(x)\n",
    "    x2 = BatchNormalization()(x2)\n",
    "    x2 = GlobalMaxPooling1D()(x2)\n",
    "    x2 = Dropout(dropout)(x2)\n",
    "    \n",
    "    # BRANCH 3............................................................................\n",
    "    x3 = Conv1D(num_filters , filter_sizes[2], name=\"CONV1D3\", activation=\"relu\")(x)\n",
    "    x3 = BatchNormalization()(x3)\n",
    "    x3 = GlobalMaxPooling1D()(x3)\n",
    "    x3 = Dropout(dropout)(x3)\n",
    "    \n",
    "    # BRANCH 4............................................................................\n",
    "    x4 = Conv1D(num_filters , filter_sizes[3], name=\"CONV1D4\", activation=\"relu\")(x)\n",
    "    x4 = BatchNormalization()(x4)\n",
    "    x4 = GlobalMaxPooling1D()(x4)\n",
    "    x4 = Dropout(dropout)(x4)\n",
    "    \n",
    "    #Entrada2 (LIWC)............................................................................\n",
    "    entrada2 = Input(shape=(X_LIWC.shape[1],),name=\"LIWC\")\n",
    "    x5 = Dense(64,  activation=\"relu\")(entrada2)\n",
    "    x5 = Dropout(dropout)(x5)\n",
    "    \n",
    "    #Concat\n",
    "    x = Concatenate()([x1,x2,x3,x4,x5])  \n",
    "    \n",
    "    \n",
    "    #Salida\n",
    "    Y0 = Dense(1, activation=\"sigmoid\", name=\"Y0\")(x)\n",
    "    #Y1 = Dense(1, activation=\"sigmoid\", name=\"Y1\")(x)\n",
    "    #Y2 = Dense(1, activation=\"sigmoid\", name=\"Y2\")(x)\n",
    "    #Y3 = Dense(1, activation=\"sigmoid\", name=\"Y3\")(x)\n",
    "    \n",
    "    \n",
    "    model = Model(inputs=[entrada,entrada2], outputs=Y0)\n",
    "    model.compile(loss=\"binary_crossentropy\", optimizer='adam', metrics=['accuracy'])\n",
    "    callbacks = EarlyStopping(monitor='val_loss', patience = 2,verbose=1)\n",
    "    \n",
    "    return model \n",
    "   \n",
    "model = model_4()\n",
    "model.summary()\n",
    "#plot_model(model)\n",
    "\n",
    "\n",
    "# model.fit([X,X_LIWC],[Y_4[:,0],Y_4[:,1],Y_4[:,2],Y_4[:,3]],\n",
    "\n",
    "pesos =  compute_sample_weight('balanced', [x[0] for x in Y_4])\n",
    "history = model.fit([X,X_LIWC],Y_4[:,0],\n",
    "                    batch_size=32,epochs=1000,\n",
    "                    validation_split=0.20,\n",
    "                    callbacks = [callbacks],\n",
    "                    sample_weight=pesos,\n",
    "                    verbose=1)"
   ]
  },
  {
   "cell_type": "code",
   "execution_count": 139,
   "metadata": {
    "ExecuteTime": {
     "end_time": "2020-09-05T12:00:25.081494Z",
     "start_time": "2020-09-05T12:00:24.506136Z"
    },
    "scrolled": true
   },
   "outputs": [
    {
     "name": "stdout",
     "output_type": "stream",
     "text": [
      "Model: \"functional_44\"\n",
      "__________________________________________________________________________________________________\n",
      "Layer (type)                    Output Shape         Param #     Connected to                     \n",
      "==================================================================================================\n",
      "Texto (InputLayer)              [(None, 1000)]       0                                            \n",
      "__________________________________________________________________________________________________\n",
      "embedding_27 (Embedding)        (None, 1000, 300)    19016700    Texto[0][0]                      \n",
      "__________________________________________________________________________________________________\n",
      "spatial_dropout1d_27 (SpatialDr (None, 1000, 300)    0           embedding_27[0][0]               \n",
      "__________________________________________________________________________________________________\n",
      "CONV1D1 (Conv1D)                (None, 1000, 32)     9632        spatial_dropout1d_27[0][0]       \n",
      "__________________________________________________________________________________________________\n",
      "CONV1D2 (Conv1D)                (None, 999, 32)      19232       spatial_dropout1d_27[0][0]       \n",
      "__________________________________________________________________________________________________\n",
      "CONV1D3 (Conv1D)                (None, 998, 32)      28832       spatial_dropout1d_27[0][0]       \n",
      "__________________________________________________________________________________________________\n",
      "CONV1D4 (Conv1D)                (None, 996, 32)      48032       spatial_dropout1d_27[0][0]       \n",
      "__________________________________________________________________________________________________\n",
      "batch_normalization_98 (BatchNo (None, 1000, 32)     128         CONV1D1[0][0]                    \n",
      "__________________________________________________________________________________________________\n",
      "batch_normalization_99 (BatchNo (None, 999, 32)      128         CONV1D2[0][0]                    \n",
      "__________________________________________________________________________________________________\n",
      "batch_normalization_100 (BatchN (None, 998, 32)      128         CONV1D3[0][0]                    \n",
      "__________________________________________________________________________________________________\n",
      "batch_normalization_101 (BatchN (None, 996, 32)      128         CONV1D4[0][0]                    \n",
      "__________________________________________________________________________________________________\n",
      "LIWC (InputLayer)               [(None, 73)]         0                                            \n",
      "__________________________________________________________________________________________________\n",
      "global_max_pooling1d_98 (Global (None, 32)           0           batch_normalization_98[0][0]     \n",
      "__________________________________________________________________________________________________\n",
      "global_max_pooling1d_99 (Global (None, 32)           0           batch_normalization_99[0][0]     \n",
      "__________________________________________________________________________________________________\n",
      "global_max_pooling1d_100 (Globa (None, 32)           0           batch_normalization_100[0][0]    \n",
      "__________________________________________________________________________________________________\n",
      "global_max_pooling1d_101 (Globa (None, 32)           0           batch_normalization_101[0][0]    \n",
      "__________________________________________________________________________________________________\n",
      "dense_34 (Dense)                (None, 64)           4736        LIWC[0][0]                       \n",
      "__________________________________________________________________________________________________\n",
      "dropout_121 (Dropout)           (None, 32)           0           global_max_pooling1d_98[0][0]    \n",
      "__________________________________________________________________________________________________\n",
      "dropout_122 (Dropout)           (None, 32)           0           global_max_pooling1d_99[0][0]    \n",
      "__________________________________________________________________________________________________\n",
      "dropout_123 (Dropout)           (None, 32)           0           global_max_pooling1d_100[0][0]   \n",
      "__________________________________________________________________________________________________\n",
      "dropout_124 (Dropout)           (None, 32)           0           global_max_pooling1d_101[0][0]   \n",
      "__________________________________________________________________________________________________\n",
      "dropout_125 (Dropout)           (None, 64)           0           dense_34[0][0]                   \n",
      "__________________________________________________________________________________________________\n",
      "concatenate_34 (Concatenate)    (None, 192)          0           dropout_121[0][0]                \n",
      "                                                                 dropout_122[0][0]                \n",
      "                                                                 dropout_123[0][0]                \n",
      "                                                                 dropout_124[0][0]                \n",
      "                                                                 dropout_125[0][0]                \n",
      "__________________________________________________________________________________________________\n",
      "Y0 (Dense)                      (None, 1)            193         concatenate_34[0][0]             \n",
      "__________________________________________________________________________________________________\n",
      "Y1 (Dense)                      (None, 1)            193         concatenate_34[0][0]             \n",
      "__________________________________________________________________________________________________\n",
      "Y2 (Dense)                      (None, 1)            193         concatenate_34[0][0]             \n",
      "__________________________________________________________________________________________________\n",
      "Y3 (Dense)                      (None, 1)            193         concatenate_34[0][0]             \n",
      "==================================================================================================\n",
      "Total params: 19,128,448\n",
      "Trainable params: 111,492\n",
      "Non-trainable params: 19,016,956\n",
      "__________________________________________________________________________________________________\n"
     ]
    },
    {
     "data": {
      "image/png": "[encoded data removed]",
      "text/plain": [
       "<IPython.core.display.Image object>"
      ]
     },
     "execution_count": 139,
     "metadata": {},
     "output_type": "execute_result"
    }
   ],
   "source": [
    "from tensorflow.keras.models import Model\n",
    "from tensorflow.keras.layers import Input, Embedding, Conv1D, GlobalMaxPooling1D, Dense, Concatenate\n",
    "from tensorflow.keras.layers import BatchNormalization, SpatialDropout1D, Dropout, Activation\n",
    "from tensorflow.keras.callbacks import EarlyStopping, ModelCheckpoint\n",
    "from tensorflow.keras.utils import plot_model\n",
    "from tensorflow.keras.activations import  relu\n",
    "\n",
    "\n",
    "#\n",
    "#pesos = compute_sample_weight('balanced', Y)\n",
    "\n",
    "from sklearn.utils.class_weight import  compute_sample_weight\n",
    "pesos = {}\n",
    "for i in range(4):\n",
    "    pesos[f\"Y{i}\"]= compute_sample_weight('balanced', [x[i] for x in Y_4])\n",
    "pesos\n",
    "\n",
    "\n",
    "filter_sizes = [1,2,3,5]\n",
    "num_filters = 32\n",
    "embed_shape = 300\n",
    "dropout = 0.2\n",
    "\n",
    "#Entrada\n",
    "entrada = Input(shape=(max_len,), name=\"Texto\")\n",
    "x = Embedding(vocab_shape, embed_shape, weights=[embedding_matrix], trainable=False)(entrada)\n",
    "x = SpatialDropout1D(dropout)(x)\n",
    "\n",
    "\n",
    "# BRANCH 1\n",
    "x1 = Conv1D(num_filters , filter_sizes[0], name=\"CONV1D1\", activation=\"relu\")(x)\n",
    "x1 = BatchNormalization()(x1)\n",
    "x1 = GlobalMaxPooling1D()(x1)\n",
    "x1 = Dropout(dropout)(x1)\n",
    "\n",
    "# BRANCH 2\n",
    "x2 = Conv1D(num_filters , filter_sizes[1], name=\"CONV1D2\", activation=\"relu\")(x)\n",
    "x2 = BatchNormalization()(x2)\n",
    "x2 = GlobalMaxPooling1D()(x2)\n",
    "x2 = Dropout(dropout)(x2)\n",
    "\n",
    "# BRANCH 3\n",
    "x3 = Conv1D(num_filters , filter_sizes[2], name=\"CONV1D3\", activation=\"relu\")(x)\n",
    "x3 = BatchNormalization()(x3)\n",
    "x3 = GlobalMaxPooling1D()(x3)\n",
    "x3 = Dropout(dropout)(x3)\n",
    "\n",
    "# BRANCH 4\n",
    "x4 = Conv1D(num_filters , filter_sizes[3], name=\"CONV1D4\", activation=\"relu\")(x)\n",
    "x4 = BatchNormalization()(x4)\n",
    "x4 = GlobalMaxPooling1D()(x4)\n",
    "x4 = Dropout(dropout)(x4)\n",
    "\n",
    "\n",
    "#Entrada2 (LIWC)\n",
    "entrada2 = Input(shape=(X_LIWC.shape[1],),name=\"LIWC\")\n",
    "x5 = Dense(64,  activation=\"relu\")(entrada2)\n",
    "x5 = Dropout(0.2)(x5)\n",
    "\n",
    "\n",
    "#First concat\n",
    "x = Concatenate()([x1,x2,x3,x4,x5])  \n",
    "# c1 = Dense(128, activation=\"relu\")(c1)\n",
    "# c1 = Dropout(dropout)(c1)\n",
    "\n",
    "\n",
    "\n",
    "\n",
    "#Second concat\n",
    "# x = Concatenate()([c1,xe2])\n",
    "#x = Dense(64, name=\"Dense\", activation=\"relu\")(x)\n",
    "#x = Dropout(dropout)(x)\n",
    "\n",
    "Y0 = Dense(1, activation=\"sigmoid\", name=\"Y0\")(x)\n",
    "Y1 = Dense(1, activation=\"sigmoid\", name=\"Y1\")(x)\n",
    "Y2 = Dense(1, activation=\"sigmoid\", name=\"Y2\")(x)\n",
    "Y3 = Dense(1, activation=\"sigmoid\", name=\"Y3\")(x)\n",
    "# x = Concatenate()([Y16,x])\n",
    "# Y4 = Dense(4, activation=\"sigmoid\",name=\"Y4\")(x)\n",
    "\n",
    "\n",
    "# model = Model(inputs=[entrada,entrada2], outputs=[Y0,Y1,Y2,Y3])\n",
    "model = Model(inputs=[entrada,entrada2], outputs=[Y0,Y1,Y2,Y3])\n",
    "model.compile(loss=\"binary_crossentropy\", optimizer='adam', metrics=['accuracy'])\n",
    "\n",
    "callbacks = EarlyStopping(monitor='val_loss', patience = 2,verbose=1)\n",
    "# checkpoint = ModelCheckpoint('model_english.h5', verbose=1, monitor='val_accuracy',save_best_only=True, mode='auto') \n",
    "\n",
    "model.summary()\n",
    "plot_model(model)"
   ]
  },
  {
   "cell_type": "code",
   "execution_count": 141,
   "metadata": {
    "ExecuteTime": {
     "end_time": "2020-09-05T12:00:49.393088Z",
     "start_time": "2020-09-05T12:00:49.387073Z"
    }
   },
   "outputs": [
    {
     "data": {
      "text/plain": [
       "{'Y0': array([0.6552865 , 2.10992742, 2.10992742, ..., 0.6552865 , 0.6552865 ,\n",
       "        0.6552865 ]),\n",
       " 'Y1': array([0.59018272, 0.59018272, 0.59018272, ..., 0.59018272, 0.59018272,\n",
       "        0.59018272]),\n",
       " 'Y2': array([1.12461001, 1.12461001, 1.12461001, ..., 0.90024975, 0.90024975,\n",
       "        0.90024975]),\n",
       " 'Y3': array([1.18979403, 0.86242703, 0.86242703, ..., 1.18979403, 0.86242703,\n",
       "        1.18979403])}"
      ]
     },
     "execution_count": 141,
     "metadata": {},
     "output_type": "execute_result"
    }
   ],
   "source": [
    "pesos"
   ]
  },
  {
   "cell_type": "code",
   "execution_count": 142,
   "metadata": {
    "ExecuteTime": {
     "end_time": "2020-09-05T13:12:40.054087Z",
     "start_time": "2020-09-05T12:00:51.181890Z"
    },
    "scrolled": true
   },
   "outputs": [
    {
     "name": "stdout",
     "output_type": "stream",
     "text": [
      "Epoch 1/1000\n",
      "451/451 [==============================] - 139s 309ms/step - loss: 3.5311 - Y0_loss: 0.8745 - Y1_loss: 0.8845 - Y2_loss: 0.8712 - Y3_loss: 0.9009 - Y0_accuracy: 0.5042 - Y1_accuracy: 0.5076 - Y2_accuracy: 0.5496 - Y3_accuracy: 0.5121 - val_loss: 2.7003 - val_Y0_loss: 0.6922 - val_Y1_loss: 0.6980 - val_Y2_loss: 0.6148 - val_Y3_loss: 0.6953 - val_Y0_accuracy: 0.2879 - val_Y1_accuracy: 0.7945 - val_Y2_accuracy: 0.6605 - val_Y3_accuracy: 0.4513\n",
      "Epoch 2/1000\n",
      "451/451 [==============================] - 141s 314ms/step - loss: 2.9654 - Y0_loss: 0.7447 - Y1_loss: 0.7578 - Y2_loss: 0.7079 - Y3_loss: 0.7551 - Y0_accuracy: 0.5187 - Y1_accuracy: 0.5273 - Y2_accuracy: 0.5850 - Y3_accuracy: 0.5214 - val_loss: 2.6645 - val_Y0_loss: 0.6784 - val_Y1_loss: 0.7073 - val_Y2_loss: 0.5982 - val_Y3_loss: 0.6806 - val_Y0_accuracy: 0.7440 - val_Y1_accuracy: 0.2072 - val_Y2_accuracy: 0.6810 - val_Y3_accuracy: 0.5978\n",
      "Epoch 3/1000\n",
      "451/451 [==============================] - 150s 334ms/step - loss: 2.7945 - Y0_loss: 0.7120 - Y1_loss: 0.7117 - Y2_loss: 0.6540 - Y3_loss: 0.7168 - Y0_accuracy: 0.5333 - Y1_accuracy: 0.5510 - Y2_accuracy: 0.6257 - Y3_accuracy: 0.5319 - val_loss: 2.6174 - val_Y0_loss: 0.6716 - val_Y1_loss: 0.6729 - val_Y2_loss: 0.5916 - val_Y3_loss: 0.6813 - val_Y0_accuracy: 0.4474 - val_Y1_accuracy: 0.4738 - val_Y2_accuracy: 0.6671 - val_Y3_accuracy: 0.5123\n",
      "Epoch 4/1000\n",
      "451/451 [==============================] - 147s 325ms/step - loss: 2.7181 - Y0_loss: 0.6994 - Y1_loss: 0.6904 - Y2_loss: 0.6278 - Y3_loss: 0.7006 - Y0_accuracy: 0.5473 - Y1_accuracy: 0.5681 - Y2_accuracy: 0.6537 - Y3_accuracy: 0.5360 - val_loss: 2.5892 - val_Y0_loss: 0.6696 - val_Y1_loss: 0.6682 - val_Y2_loss: 0.5748 - val_Y3_loss: 0.6766 - val_Y0_accuracy: 0.4305 - val_Y1_accuracy: 0.5232 - val_Y2_accuracy: 0.7126 - val_Y3_accuracy: 0.5406\n",
      "Epoch 5/1000\n",
      "451/451 [==============================] - 151s 335ms/step - loss: 2.6540 - Y0_loss: 0.6826 - Y1_loss: 0.6787 - Y2_loss: 0.6053 - Y3_loss: 0.6873 - Y0_accuracy: 0.5641 - Y1_accuracy: 0.5807 - Y2_accuracy: 0.6749 - Y3_accuracy: 0.5573 - val_loss: 2.5802 - val_Y0_loss: 0.6726 - val_Y1_loss: 0.6666 - val_Y2_loss: 0.5684 - val_Y3_loss: 0.6726 - val_Y0_accuracy: 0.7609 - val_Y1_accuracy: 0.6272 - val_Y2_accuracy: 0.7204 - val_Y3_accuracy: 0.6161\n",
      "Epoch 6/1000\n",
      "451/451 [==============================] - 153s 340ms/step - loss: 2.6318 - Y0_loss: 0.6846 - Y1_loss: 0.6719 - Y2_loss: 0.5919 - Y3_loss: 0.6834 - Y0_accuracy: 0.5642 - Y1_accuracy: 0.5882 - Y2_accuracy: 0.6868 - Y3_accuracy: 0.5615 - val_loss: 2.5593 - val_Y0_loss: 0.6559 - val_Y1_loss: 0.6647 - val_Y2_loss: 0.5647 - val_Y3_loss: 0.6741 - val_Y0_accuracy: 0.5825 - val_Y1_accuracy: 0.5040 - val_Y2_accuracy: 0.7129 - val_Y3_accuracy: 0.6216\n",
      "Epoch 7/1000\n",
      "451/451 [==============================] - 163s 362ms/step - loss: 2.6027 - Y0_loss: 0.6754 - Y1_loss: 0.6642 - Y2_loss: 0.5849 - Y3_loss: 0.6782 - Y0_accuracy: 0.5741 - Y1_accuracy: 0.5885 - Y2_accuracy: 0.6905 - Y3_accuracy: 0.5702 - val_loss: 2.5593 - val_Y0_loss: 0.6550 - val_Y1_loss: 0.6623 - val_Y2_loss: 0.5641 - val_Y3_loss: 0.6779 - val_Y0_accuracy: 0.5684 - val_Y1_accuracy: 0.6230 - val_Y2_accuracy: 0.7040 - val_Y3_accuracy: 0.4985\n",
      "Epoch 8/1000\n",
      "451/451 [==============================] - 166s 368ms/step - loss: 2.5818 - Y0_loss: 0.6712 - Y1_loss: 0.6542 - Y2_loss: 0.5776 - Y3_loss: 0.6788 - Y0_accuracy: 0.5850 - Y1_accuracy: 0.6038 - Y2_accuracy: 0.7003 - Y3_accuracy: 0.5726 - val_loss: 2.5490 - val_Y0_loss: 0.6494 - val_Y1_loss: 0.6647 - val_Y2_loss: 0.5670 - val_Y3_loss: 0.6678 - val_Y0_accuracy: 0.6103 - val_Y1_accuracy: 0.4691 - val_Y2_accuracy: 0.6963 - val_Y3_accuracy: 0.6161\n",
      "Epoch 9/1000\n",
      "451/451 [==============================] - 168s 372ms/step - loss: 2.5700 - Y0_loss: 0.6690 - Y1_loss: 0.6490 - Y2_loss: 0.5753 - Y3_loss: 0.6766 - Y0_accuracy: 0.5936 - Y1_accuracy: 0.6153 - Y2_accuracy: 0.7009 - Y3_accuracy: 0.5782 - val_loss: 2.5585 - val_Y0_loss: 0.6487 - val_Y1_loss: 0.6590 - val_Y2_loss: 0.5786 - val_Y3_loss: 0.6721 - val_Y0_accuracy: 0.6255 - val_Y1_accuracy: 0.4996 - val_Y2_accuracy: 0.7204 - val_Y3_accuracy: 0.5315\n",
      "Epoch 10/1000\n",
      "451/451 [==============================] - 168s 372ms/step - loss: 2.5486 - Y0_loss: 0.6640 - Y1_loss: 0.6452 - Y2_loss: 0.5673 - Y3_loss: 0.6721 - Y0_accuracy: 0.5970 - Y1_accuracy: 0.6178 - Y2_accuracy: 0.7104 - Y3_accuracy: 0.5841 - val_loss: 2.5257 - val_Y0_loss: 0.6469 - val_Y1_loss: 0.6578 - val_Y2_loss: 0.5564 - val_Y3_loss: 0.6645 - val_Y0_accuracy: 0.6741 - val_Y1_accuracy: 0.5049 - val_Y2_accuracy: 0.7212 - val_Y3_accuracy: 0.5964\n",
      "Epoch 11/1000\n",
      "451/451 [==============================] - 162s 359ms/step - loss: 2.5334 - Y0_loss: 0.6601 - Y1_loss: 0.6355 - Y2_loss: 0.5661 - Y3_loss: 0.6717 - Y0_accuracy: 0.6017 - Y1_accuracy: 0.6272 - Y2_accuracy: 0.7070 - Y3_accuracy: 0.5843 - val_loss: 2.5353 - val_Y0_loss: 0.6450 - val_Y1_loss: 0.6592 - val_Y2_loss: 0.5561 - val_Y3_loss: 0.6750 - val_Y0_accuracy: 0.6208 - val_Y1_accuracy: 0.6896 - val_Y2_accuracy: 0.7135 - val_Y3_accuracy: 0.5190\n",
      "Epoch 12/1000\n",
      "451/451 [==============================] - 179s 397ms/step - loss: 2.5177 - Y0_loss: 0.6568 - Y1_loss: 0.6297 - Y2_loss: 0.5615 - Y3_loss: 0.6697 - Y0_accuracy: 0.6083 - Y1_accuracy: 0.6424 - Y2_accuracy: 0.7163 - Y3_accuracy: 0.5870 - val_loss: 2.5232 - val_Y0_loss: 0.6442 - val_Y1_loss: 0.6520 - val_Y2_loss: 0.5509 - val_Y3_loss: 0.6762 - val_Y0_accuracy: 0.6017 - val_Y1_accuracy: 0.5822 - val_Y2_accuracy: 0.7254 - val_Y3_accuracy: 0.5107\n",
      "Epoch 13/1000\n",
      "451/451 [==============================] - 161s 357ms/step - loss: 2.5121 - Y0_loss: 0.6595 - Y1_loss: 0.6266 - Y2_loss: 0.5585 - Y3_loss: 0.6675 - Y0_accuracy: 0.6055 - Y1_accuracy: 0.6362 - Y2_accuracy: 0.7099 - Y3_accuracy: 0.5871 - val_loss: 2.5140 - val_Y0_loss: 0.6532 - val_Y1_loss: 0.6488 - val_Y2_loss: 0.5503 - val_Y3_loss: 0.6617 - val_Y0_accuracy: 0.5062 - val_Y1_accuracy: 0.6172 - val_Y2_accuracy: 0.7276 - val_Y3_accuracy: 0.6036\n",
      "Epoch 14/1000\n",
      "451/451 [==============================] - 164s 364ms/step - loss: 2.4848 - Y0_loss: 0.6504 - Y1_loss: 0.6173 - Y2_loss: 0.5528 - Y3_loss: 0.6643 - Y0_accuracy: 0.6174 - Y1_accuracy: 0.6460 - Y2_accuracy: 0.7213 - Y3_accuracy: 0.5954 - val_loss: 2.4984 - val_Y0_loss: 0.6403 - val_Y1_loss: 0.6466 - val_Y2_loss: 0.5498 - val_Y3_loss: 0.6617 - val_Y0_accuracy: 0.6322 - val_Y1_accuracy: 0.6194 - val_Y2_accuracy: 0.7268 - val_Y3_accuracy: 0.5809\n",
      "Epoch 15/1000\n",
      "451/451 [==============================] - 160s 355ms/step - loss: 2.4813 - Y0_loss: 0.6492 - Y1_loss: 0.6144 - Y2_loss: 0.5509 - Y3_loss: 0.6668 - Y0_accuracy: 0.6140 - Y1_accuracy: 0.6515 - Y2_accuracy: 0.7236 - Y3_accuracy: 0.5907 - val_loss: 2.4971 - val_Y0_loss: 0.6397 - val_Y1_loss: 0.6455 - val_Y2_loss: 0.5493 - val_Y3_loss: 0.6626 - val_Y0_accuracy: 0.6122 - val_Y1_accuracy: 0.6411 - val_Y2_accuracy: 0.7243 - val_Y3_accuracy: 0.5897\n",
      "Epoch 16/1000\n",
      "451/451 [==============================] - 161s 357ms/step - loss: 2.4588 - Y0_loss: 0.6462 - Y1_loss: 0.6043 - Y2_loss: 0.5477 - Y3_loss: 0.6607 - Y0_accuracy: 0.6221 - Y1_accuracy: 0.6637 - Y2_accuracy: 0.7219 - Y3_accuracy: 0.6027 - val_loss: 2.5001 - val_Y0_loss: 0.6445 - val_Y1_loss: 0.6462 - val_Y2_loss: 0.5492 - val_Y3_loss: 0.6602 - val_Y0_accuracy: 0.5440 - val_Y1_accuracy: 0.6743 - val_Y2_accuracy: 0.7171 - val_Y3_accuracy: 0.5900\n",
      "Epoch 17/1000\n",
      "451/451 [==============================] - 160s 355ms/step - loss: 2.4384 - Y0_loss: 0.6420 - Y1_loss: 0.5954 - Y2_loss: 0.5442 - Y3_loss: 0.6568 - Y0_accuracy: 0.6280 - Y1_accuracy: 0.6704 - Y2_accuracy: 0.7252 - Y3_accuracy: 0.6065 - val_loss: 2.5000 - val_Y0_loss: 0.6365 - val_Y1_loss: 0.6511 - val_Y2_loss: 0.5515 - val_Y3_loss: 0.6610 - val_Y0_accuracy: 0.6399 - val_Y1_accuracy: 0.7123 - val_Y2_accuracy: 0.7137 - val_Y3_accuracy: 0.5875\n",
      "Epoch 18/1000\n",
      "451/451 [==============================] - 159s 352ms/step - loss: 2.4198 - Y0_loss: 0.6378 - Y1_loss: 0.5907 - Y2_loss: 0.5385 - Y3_loss: 0.6527 - Y0_accuracy: 0.6385 - Y1_accuracy: 0.6746 - Y2_accuracy: 0.7303 - Y3_accuracy: 0.6155 - val_loss: 2.4892 - val_Y0_loss: 0.6436 - val_Y1_loss: 0.6414 - val_Y2_loss: 0.5452 - val_Y3_loss: 0.6590 - val_Y0_accuracy: 0.5498 - val_Y1_accuracy: 0.6044 - val_Y2_accuracy: 0.7248 - val_Y3_accuracy: 0.6147\n"
     ]
    },
    {
     "name": "stdout",
     "output_type": "stream",
     "text": [
      "Epoch 19/1000\n",
      "451/451 [==============================] - 163s 361ms/step - loss: 2.3966 - Y0_loss: 0.6273 - Y1_loss: 0.5795 - Y2_loss: 0.5361 - Y3_loss: 0.6537 - Y0_accuracy: 0.6434 - Y1_accuracy: 0.6801 - Y2_accuracy: 0.7309 - Y3_accuracy: 0.6112 - val_loss: 2.4758 - val_Y0_loss: 0.6370 - val_Y1_loss: 0.6373 - val_Y2_loss: 0.5436 - val_Y3_loss: 0.6578 - val_Y0_accuracy: 0.6075 - val_Y1_accuracy: 0.6205 - val_Y2_accuracy: 0.7368 - val_Y3_accuracy: 0.6147\n",
      "Epoch 20/1000\n",
      "451/451 [==============================] - 160s 354ms/step - loss: 2.3830 - Y0_loss: 0.6292 - Y1_loss: 0.5717 - Y2_loss: 0.5345 - Y3_loss: 0.6476 - Y0_accuracy: 0.6409 - Y1_accuracy: 0.6938 - Y2_accuracy: 0.7368 - Y3_accuracy: 0.6175 - val_loss: 2.5015 - val_Y0_loss: 0.6330 - val_Y1_loss: 0.6558 - val_Y2_loss: 0.5512 - val_Y3_loss: 0.6616 - val_Y0_accuracy: 0.6438 - val_Y1_accuracy: 0.7251 - val_Y2_accuracy: 0.7118 - val_Y3_accuracy: 0.6283\n",
      "Epoch 21/1000\n",
      "451/451 [==============================] - 160s 356ms/step - loss: 2.3668 - Y0_loss: 0.6242 - Y1_loss: 0.5663 - Y2_loss: 0.5271 - Y3_loss: 0.6492 - Y0_accuracy: 0.6481 - Y1_accuracy: 0.6953 - Y2_accuracy: 0.7374 - Y3_accuracy: 0.6231 - val_loss: 2.4721 - val_Y0_loss: 0.6332 - val_Y1_loss: 0.6353 - val_Y2_loss: 0.5422 - val_Y3_loss: 0.6614 - val_Y0_accuracy: 0.6361 - val_Y1_accuracy: 0.6183 - val_Y2_accuracy: 0.7282 - val_Y3_accuracy: 0.6241\n",
      "Epoch 22/1000\n",
      "451/451 [==============================] - 162s 359ms/step - loss: 2.3537 - Y0_loss: 0.6218 - Y1_loss: 0.5618 - Y2_loss: 0.5265 - Y3_loss: 0.6436 - Y0_accuracy: 0.6545 - Y1_accuracy: 0.6991 - Y2_accuracy: 0.7382 - Y3_accuracy: 0.6251 - val_loss: 2.4704 - val_Y0_loss: 0.6322 - val_Y1_loss: 0.6372 - val_Y2_loss: 0.5427 - val_Y3_loss: 0.6583 - val_Y0_accuracy: 0.6172 - val_Y1_accuracy: 0.6669 - val_Y2_accuracy: 0.7254 - val_Y3_accuracy: 0.6047\n",
      "Epoch 23/1000\n",
      "451/451 [==============================] - 159s 351ms/step - loss: 2.3256 - Y0_loss: 0.6158 - Y1_loss: 0.5493 - Y2_loss: 0.5180 - Y3_loss: 0.6424 - Y0_accuracy: 0.6583 - Y1_accuracy: 0.7113 - Y2_accuracy: 0.7428 - Y3_accuracy: 0.6240 - val_loss: 2.4764 - val_Y0_loss: 0.6332 - val_Y1_loss: 0.6375 - val_Y2_loss: 0.5434 - val_Y3_loss: 0.6623 - val_Y0_accuracy: 0.6061 - val_Y1_accuracy: 0.6730 - val_Y2_accuracy: 0.7287 - val_Y3_accuracy: 0.6164\n",
      "Epoch 24/1000\n",
      "451/451 [==============================] - 170s 377ms/step - loss: 2.3083 - Y0_loss: 0.6080 - Y1_loss: 0.5400 - Y2_loss: 0.5208 - Y3_loss: 0.6395 - Y0_accuracy: 0.6629 - Y1_accuracy: 0.7172 - Y2_accuracy: 0.7435 - Y3_accuracy: 0.6307 - val_loss: 2.4780 - val_Y0_loss: 0.6386 - val_Y1_loss: 0.6397 - val_Y2_loss: 0.5413 - val_Y3_loss: 0.6584 - val_Y0_accuracy: 0.6835 - val_Y1_accuracy: 0.6189 - val_Y2_accuracy: 0.7248 - val_Y3_accuracy: 0.6100\n",
      "Epoch 25/1000\n",
      "451/451 [==============================] - 161s 357ms/step - loss: 2.2770 - Y0_loss: 0.6048 - Y1_loss: 0.5246 - Y2_loss: 0.5136 - Y3_loss: 0.6340 - Y0_accuracy: 0.6708 - Y1_accuracy: 0.7293 - Y2_accuracy: 0.7455 - Y3_accuracy: 0.6389 - val_loss: 2.4753 - val_Y0_loss: 0.6377 - val_Y1_loss: 0.6392 - val_Y2_loss: 0.5399 - val_Y3_loss: 0.6586 - val_Y0_accuracy: 0.5653 - val_Y1_accuracy: 0.6366 - val_Y2_accuracy: 0.7215 - val_Y3_accuracy: 0.6219\n",
      "Epoch 26/1000\n",
      "451/451 [==============================] - 168s 371ms/step - loss: 2.2601 - Y0_loss: 0.5987 - Y1_loss: 0.5215 - Y2_loss: 0.5070 - Y3_loss: 0.6328 - Y0_accuracy: 0.6722 - Y1_accuracy: 0.7336 - Y2_accuracy: 0.7516 - Y3_accuracy: 0.6423 - val_loss: 2.4833 - val_Y0_loss: 0.6332 - val_Y1_loss: 0.6482 - val_Y2_loss: 0.5437 - val_Y3_loss: 0.6581 - val_Y0_accuracy: 0.6374 - val_Y1_accuracy: 0.6583 - val_Y2_accuracy: 0.7376 - val_Y3_accuracy: 0.6164\n",
      "Epoch 27/1000\n",
      "436/451 [============================>.] - ETA: 4s - loss: 2.2251 - Y0_loss: 0.5936 - Y1_loss: 0.5036 - Y2_loss: 0.5015 - Y3_loss: 0.6265 - Y0_accuracy: 0.6767 - Y1_accuracy: 0.7418 - Y2_accuracy: 0.7581 - Y3_accuracy: 0.6496"
     ]
    },
    {
     "ename": "KeyboardInterrupt",
     "evalue": "",
     "output_type": "error",
     "traceback": [
      "\u001b[1;31m---------------------------------------------------------------------------\u001b[0m",
      "\u001b[1;31mKeyboardInterrupt\u001b[0m                         Traceback (most recent call last)",
      "\u001b[1;32m<ipython-input-142-eb344cca391e>\u001b[0m in \u001b[0;36m<module>\u001b[1;34m\u001b[0m\n\u001b[0;32m      3\u001b[0m                     \u001b[0mvalidation_split\u001b[0m\u001b[1;33m=\u001b[0m\u001b[1;36m0.20\u001b[0m\u001b[1;33m,\u001b[0m\u001b[1;33m\u001b[0m\u001b[1;33m\u001b[0m\u001b[0m\n\u001b[0;32m      4\u001b[0m                     \u001b[0msample_weight\u001b[0m\u001b[1;33m=\u001b[0m\u001b[0mpesos\u001b[0m\u001b[1;33m,\u001b[0m\u001b[1;33m\u001b[0m\u001b[1;33m\u001b[0m\u001b[0m\n\u001b[1;32m----> 5\u001b[1;33m                     verbose=1)\n\u001b[0m",
      "\u001b[1;32m~\\AppData\\Roaming\\Python\\Python37\\site-packages\\tensorflow\\python\\keras\\engine\\training.py\u001b[0m in \u001b[0;36m_method_wrapper\u001b[1;34m(self, *args, **kwargs)\u001b[0m\n\u001b[0;32m    106\u001b[0m   \u001b[1;32mdef\u001b[0m \u001b[0m_method_wrapper\u001b[0m\u001b[1;33m(\u001b[0m\u001b[0mself\u001b[0m\u001b[1;33m,\u001b[0m \u001b[1;33m*\u001b[0m\u001b[0margs\u001b[0m\u001b[1;33m,\u001b[0m \u001b[1;33m**\u001b[0m\u001b[0mkwargs\u001b[0m\u001b[1;33m)\u001b[0m\u001b[1;33m:\u001b[0m\u001b[1;33m\u001b[0m\u001b[1;33m\u001b[0m\u001b[0m\n\u001b[0;32m    107\u001b[0m     \u001b[1;32mif\u001b[0m \u001b[1;32mnot\u001b[0m \u001b[0mself\u001b[0m\u001b[1;33m.\u001b[0m\u001b[0m_in_multi_worker_mode\u001b[0m\u001b[1;33m(\u001b[0m\u001b[1;33m)\u001b[0m\u001b[1;33m:\u001b[0m  \u001b[1;31m# pylint: disable=protected-access\u001b[0m\u001b[1;33m\u001b[0m\u001b[1;33m\u001b[0m\u001b[0m\n\u001b[1;32m--> 108\u001b[1;33m       \u001b[1;32mreturn\u001b[0m \u001b[0mmethod\u001b[0m\u001b[1;33m(\u001b[0m\u001b[0mself\u001b[0m\u001b[1;33m,\u001b[0m \u001b[1;33m*\u001b[0m\u001b[0margs\u001b[0m\u001b[1;33m,\u001b[0m \u001b[1;33m**\u001b[0m\u001b[0mkwargs\u001b[0m\u001b[1;33m)\u001b[0m\u001b[1;33m\u001b[0m\u001b[1;33m\u001b[0m\u001b[0m\n\u001b[0m\u001b[0;32m    109\u001b[0m \u001b[1;33m\u001b[0m\u001b[0m\n\u001b[0;32m    110\u001b[0m     \u001b[1;31m# Running inside `run_distribute_coordinator` already.\u001b[0m\u001b[1;33m\u001b[0m\u001b[1;33m\u001b[0m\u001b[1;33m\u001b[0m\u001b[0m\n",
      "\u001b[1;32m~\\AppData\\Roaming\\Python\\Python37\\site-packages\\tensorflow\\python\\keras\\engine\\training.py\u001b[0m in \u001b[0;36mfit\u001b[1;34m(self, x, y, batch_size, epochs, verbose, callbacks, validation_split, validation_data, shuffle, class_weight, sample_weight, initial_epoch, steps_per_epoch, validation_steps, validation_batch_size, validation_freq, max_queue_size, workers, use_multiprocessing)\u001b[0m\n\u001b[0;32m   1096\u001b[0m                 batch_size=batch_size):\n\u001b[0;32m   1097\u001b[0m               \u001b[0mcallbacks\u001b[0m\u001b[1;33m.\u001b[0m\u001b[0mon_train_batch_begin\u001b[0m\u001b[1;33m(\u001b[0m\u001b[0mstep\u001b[0m\u001b[1;33m)\u001b[0m\u001b[1;33m\u001b[0m\u001b[1;33m\u001b[0m\u001b[0m\n\u001b[1;32m-> 1098\u001b[1;33m               \u001b[0mtmp_logs\u001b[0m \u001b[1;33m=\u001b[0m \u001b[0mtrain_function\u001b[0m\u001b[1;33m(\u001b[0m\u001b[0miterator\u001b[0m\u001b[1;33m)\u001b[0m\u001b[1;33m\u001b[0m\u001b[1;33m\u001b[0m\u001b[0m\n\u001b[0m\u001b[0;32m   1099\u001b[0m               \u001b[1;32mif\u001b[0m \u001b[0mdata_handler\u001b[0m\u001b[1;33m.\u001b[0m\u001b[0mshould_sync\u001b[0m\u001b[1;33m:\u001b[0m\u001b[1;33m\u001b[0m\u001b[1;33m\u001b[0m\u001b[0m\n\u001b[0;32m   1100\u001b[0m                 \u001b[0mcontext\u001b[0m\u001b[1;33m.\u001b[0m\u001b[0masync_wait\u001b[0m\u001b[1;33m(\u001b[0m\u001b[1;33m)\u001b[0m\u001b[1;33m\u001b[0m\u001b[1;33m\u001b[0m\u001b[0m\n",
      "\u001b[1;32m~\\AppData\\Roaming\\Python\\Python37\\site-packages\\tensorflow\\python\\eager\\def_function.py\u001b[0m in \u001b[0;36m__call__\u001b[1;34m(self, *args, **kwds)\u001b[0m\n\u001b[0;32m    778\u001b[0m       \u001b[1;32melse\u001b[0m\u001b[1;33m:\u001b[0m\u001b[1;33m\u001b[0m\u001b[1;33m\u001b[0m\u001b[0m\n\u001b[0;32m    779\u001b[0m         \u001b[0mcompiler\u001b[0m \u001b[1;33m=\u001b[0m \u001b[1;34m\"nonXla\"\u001b[0m\u001b[1;33m\u001b[0m\u001b[1;33m\u001b[0m\u001b[0m\n\u001b[1;32m--> 780\u001b[1;33m         \u001b[0mresult\u001b[0m \u001b[1;33m=\u001b[0m \u001b[0mself\u001b[0m\u001b[1;33m.\u001b[0m\u001b[0m_call\u001b[0m\u001b[1;33m(\u001b[0m\u001b[1;33m*\u001b[0m\u001b[0margs\u001b[0m\u001b[1;33m,\u001b[0m \u001b[1;33m**\u001b[0m\u001b[0mkwds\u001b[0m\u001b[1;33m)\u001b[0m\u001b[1;33m\u001b[0m\u001b[1;33m\u001b[0m\u001b[0m\n\u001b[0m\u001b[0;32m    781\u001b[0m \u001b[1;33m\u001b[0m\u001b[0m\n\u001b[0;32m    782\u001b[0m       \u001b[0mnew_tracing_count\u001b[0m \u001b[1;33m=\u001b[0m \u001b[0mself\u001b[0m\u001b[1;33m.\u001b[0m\u001b[0m_get_tracing_count\u001b[0m\u001b[1;33m(\u001b[0m\u001b[1;33m)\u001b[0m\u001b[1;33m\u001b[0m\u001b[1;33m\u001b[0m\u001b[0m\n",
      "\u001b[1;32m~\\AppData\\Roaming\\Python\\Python37\\site-packages\\tensorflow\\python\\eager\\def_function.py\u001b[0m in \u001b[0;36m_call\u001b[1;34m(self, *args, **kwds)\u001b[0m\n\u001b[0;32m    805\u001b[0m       \u001b[1;31m# In this case we have created variables on the first call, so we run the\u001b[0m\u001b[1;33m\u001b[0m\u001b[1;33m\u001b[0m\u001b[1;33m\u001b[0m\u001b[0m\n\u001b[0;32m    806\u001b[0m       \u001b[1;31m# defunned version which is guaranteed to never create variables.\u001b[0m\u001b[1;33m\u001b[0m\u001b[1;33m\u001b[0m\u001b[1;33m\u001b[0m\u001b[0m\n\u001b[1;32m--> 807\u001b[1;33m       \u001b[1;32mreturn\u001b[0m \u001b[0mself\u001b[0m\u001b[1;33m.\u001b[0m\u001b[0m_stateless_fn\u001b[0m\u001b[1;33m(\u001b[0m\u001b[1;33m*\u001b[0m\u001b[0margs\u001b[0m\u001b[1;33m,\u001b[0m \u001b[1;33m**\u001b[0m\u001b[0mkwds\u001b[0m\u001b[1;33m)\u001b[0m  \u001b[1;31m# pylint: disable=not-callable\u001b[0m\u001b[1;33m\u001b[0m\u001b[1;33m\u001b[0m\u001b[0m\n\u001b[0m\u001b[0;32m    808\u001b[0m     \u001b[1;32melif\u001b[0m \u001b[0mself\u001b[0m\u001b[1;33m.\u001b[0m\u001b[0m_stateful_fn\u001b[0m \u001b[1;32mis\u001b[0m \u001b[1;32mnot\u001b[0m \u001b[1;32mNone\u001b[0m\u001b[1;33m:\u001b[0m\u001b[1;33m\u001b[0m\u001b[1;33m\u001b[0m\u001b[0m\n\u001b[0;32m    809\u001b[0m       \u001b[1;31m# Release the lock early so that multiple threads can perform the call\u001b[0m\u001b[1;33m\u001b[0m\u001b[1;33m\u001b[0m\u001b[1;33m\u001b[0m\u001b[0m\n",
      "\u001b[1;32m~\\AppData\\Roaming\\Python\\Python37\\site-packages\\tensorflow\\python\\eager\\function.py\u001b[0m in \u001b[0;36m__call__\u001b[1;34m(self, *args, **kwargs)\u001b[0m\n\u001b[0;32m   2827\u001b[0m     \u001b[1;32mwith\u001b[0m \u001b[0mself\u001b[0m\u001b[1;33m.\u001b[0m\u001b[0m_lock\u001b[0m\u001b[1;33m:\u001b[0m\u001b[1;33m\u001b[0m\u001b[1;33m\u001b[0m\u001b[0m\n\u001b[0;32m   2828\u001b[0m       \u001b[0mgraph_function\u001b[0m\u001b[1;33m,\u001b[0m \u001b[0margs\u001b[0m\u001b[1;33m,\u001b[0m \u001b[0mkwargs\u001b[0m \u001b[1;33m=\u001b[0m \u001b[0mself\u001b[0m\u001b[1;33m.\u001b[0m\u001b[0m_maybe_define_function\u001b[0m\u001b[1;33m(\u001b[0m\u001b[0margs\u001b[0m\u001b[1;33m,\u001b[0m \u001b[0mkwargs\u001b[0m\u001b[1;33m)\u001b[0m\u001b[1;33m\u001b[0m\u001b[1;33m\u001b[0m\u001b[0m\n\u001b[1;32m-> 2829\u001b[1;33m     \u001b[1;32mreturn\u001b[0m \u001b[0mgraph_function\u001b[0m\u001b[1;33m.\u001b[0m\u001b[0m_filtered_call\u001b[0m\u001b[1;33m(\u001b[0m\u001b[0margs\u001b[0m\u001b[1;33m,\u001b[0m \u001b[0mkwargs\u001b[0m\u001b[1;33m)\u001b[0m  \u001b[1;31m# pylint: disable=protected-access\u001b[0m\u001b[1;33m\u001b[0m\u001b[1;33m\u001b[0m\u001b[0m\n\u001b[0m\u001b[0;32m   2830\u001b[0m \u001b[1;33m\u001b[0m\u001b[0m\n\u001b[0;32m   2831\u001b[0m   \u001b[1;33m@\u001b[0m\u001b[0mproperty\u001b[0m\u001b[1;33m\u001b[0m\u001b[1;33m\u001b[0m\u001b[0m\n",
      "\u001b[1;32m~\\AppData\\Roaming\\Python\\Python37\\site-packages\\tensorflow\\python\\eager\\function.py\u001b[0m in \u001b[0;36m_filtered_call\u001b[1;34m(self, args, kwargs, cancellation_manager)\u001b[0m\n\u001b[0;32m   1846\u001b[0m                            resource_variable_ops.BaseResourceVariable))],\n\u001b[0;32m   1847\u001b[0m         \u001b[0mcaptured_inputs\u001b[0m\u001b[1;33m=\u001b[0m\u001b[0mself\u001b[0m\u001b[1;33m.\u001b[0m\u001b[0mcaptured_inputs\u001b[0m\u001b[1;33m,\u001b[0m\u001b[1;33m\u001b[0m\u001b[1;33m\u001b[0m\u001b[0m\n\u001b[1;32m-> 1848\u001b[1;33m         cancellation_manager=cancellation_manager)\n\u001b[0m\u001b[0;32m   1849\u001b[0m \u001b[1;33m\u001b[0m\u001b[0m\n\u001b[0;32m   1850\u001b[0m   \u001b[1;32mdef\u001b[0m \u001b[0m_call_flat\u001b[0m\u001b[1;33m(\u001b[0m\u001b[0mself\u001b[0m\u001b[1;33m,\u001b[0m \u001b[0margs\u001b[0m\u001b[1;33m,\u001b[0m \u001b[0mcaptured_inputs\u001b[0m\u001b[1;33m,\u001b[0m \u001b[0mcancellation_manager\u001b[0m\u001b[1;33m=\u001b[0m\u001b[1;32mNone\u001b[0m\u001b[1;33m)\u001b[0m\u001b[1;33m:\u001b[0m\u001b[1;33m\u001b[0m\u001b[1;33m\u001b[0m\u001b[0m\n",
      "\u001b[1;32m~\\AppData\\Roaming\\Python\\Python37\\site-packages\\tensorflow\\python\\eager\\function.py\u001b[0m in \u001b[0;36m_call_flat\u001b[1;34m(self, args, captured_inputs, cancellation_manager)\u001b[0m\n\u001b[0;32m   1922\u001b[0m       \u001b[1;31m# No tape is watching; skip to running the function.\u001b[0m\u001b[1;33m\u001b[0m\u001b[1;33m\u001b[0m\u001b[1;33m\u001b[0m\u001b[0m\n\u001b[0;32m   1923\u001b[0m       return self._build_call_outputs(self._inference_function.call(\n\u001b[1;32m-> 1924\u001b[1;33m           ctx, args, cancellation_manager=cancellation_manager))\n\u001b[0m\u001b[0;32m   1925\u001b[0m     forward_backward = self._select_forward_and_backward_functions(\n\u001b[0;32m   1926\u001b[0m         \u001b[0margs\u001b[0m\u001b[1;33m,\u001b[0m\u001b[1;33m\u001b[0m\u001b[1;33m\u001b[0m\u001b[0m\n",
      "\u001b[1;32m~\\AppData\\Roaming\\Python\\Python37\\site-packages\\tensorflow\\python\\eager\\function.py\u001b[0m in \u001b[0;36mcall\u001b[1;34m(self, ctx, args, cancellation_manager)\u001b[0m\n\u001b[0;32m    548\u001b[0m               \u001b[0minputs\u001b[0m\u001b[1;33m=\u001b[0m\u001b[0margs\u001b[0m\u001b[1;33m,\u001b[0m\u001b[1;33m\u001b[0m\u001b[1;33m\u001b[0m\u001b[0m\n\u001b[0;32m    549\u001b[0m               \u001b[0mattrs\u001b[0m\u001b[1;33m=\u001b[0m\u001b[0mattrs\u001b[0m\u001b[1;33m,\u001b[0m\u001b[1;33m\u001b[0m\u001b[1;33m\u001b[0m\u001b[0m\n\u001b[1;32m--> 550\u001b[1;33m               ctx=ctx)\n\u001b[0m\u001b[0;32m    551\u001b[0m         \u001b[1;32melse\u001b[0m\u001b[1;33m:\u001b[0m\u001b[1;33m\u001b[0m\u001b[1;33m\u001b[0m\u001b[0m\n\u001b[0;32m    552\u001b[0m           outputs = execute.execute_with_cancellation(\n",
      "\u001b[1;32m~\\AppData\\Roaming\\Python\\Python37\\site-packages\\tensorflow\\python\\eager\\execute.py\u001b[0m in \u001b[0;36mquick_execute\u001b[1;34m(op_name, num_outputs, inputs, attrs, ctx, name)\u001b[0m\n\u001b[0;32m     58\u001b[0m     \u001b[0mctx\u001b[0m\u001b[1;33m.\u001b[0m\u001b[0mensure_initialized\u001b[0m\u001b[1;33m(\u001b[0m\u001b[1;33m)\u001b[0m\u001b[1;33m\u001b[0m\u001b[1;33m\u001b[0m\u001b[0m\n\u001b[0;32m     59\u001b[0m     tensors = pywrap_tfe.TFE_Py_Execute(ctx._handle, device_name, op_name,\n\u001b[1;32m---> 60\u001b[1;33m                                         inputs, attrs, num_outputs)\n\u001b[0m\u001b[0;32m     61\u001b[0m   \u001b[1;32mexcept\u001b[0m \u001b[0mcore\u001b[0m\u001b[1;33m.\u001b[0m\u001b[0m_NotOkStatusException\u001b[0m \u001b[1;32mas\u001b[0m \u001b[0me\u001b[0m\u001b[1;33m:\u001b[0m\u001b[1;33m\u001b[0m\u001b[1;33m\u001b[0m\u001b[0m\n\u001b[0;32m     62\u001b[0m     \u001b[1;32mif\u001b[0m \u001b[0mname\u001b[0m \u001b[1;32mis\u001b[0m \u001b[1;32mnot\u001b[0m \u001b[1;32mNone\u001b[0m\u001b[1;33m:\u001b[0m\u001b[1;33m\u001b[0m\u001b[1;33m\u001b[0m\u001b[0m\n",
      "\u001b[1;31mKeyboardInterrupt\u001b[0m: "
     ]
    }
   ],
   "source": [
    "history = model.fit([X,X_LIWC],[Y_4[:,0],Y_4[:,1],Y_4[:,2],Y_4[:,3]],\n",
    "                    batch_size=32,epochs=1000,\n",
    "                    validation_split=0.20,\n",
    "                    sample_weight=pesos,\n",
    "                    verbose=1)"
   ]
  },
  {
   "cell_type": "markdown",
   "metadata": {},
   "source": [
    "# K-FOLD"
   ]
  },
  {
   "cell_type": "code",
   "execution_count": 208,
   "metadata": {
    "ExecuteTime": {
     "end_time": "2020-09-05T17:26:07.405025Z",
     "start_time": "2020-09-05T17:26:07.061845Z"
    }
   },
   "outputs": [],
   "source": [
    "from tensorflow.keras.models import Model\n",
    "from tensorflow.keras.layers import Input, Embedding, Conv1D, GlobalMaxPooling1D, Dense, Concatenate, Flatten\n",
    "from tensorflow.keras.layers import BatchNormalization, SpatialDropout1D, Dropout, Activation, MaxPooling1D\n",
    "from tensorflow.keras.callbacks import EarlyStopping, ModelCheckpoint\n",
    "from tensorflow.keras.utils import plot_model\n",
    "from tensorflow.keras.activations import  relu\n",
    "\n",
    "\n",
    "filter_sizes = [1,2,3]\n",
    "num_filters = 50\n",
    "embed_shape = 128\n",
    "dropout = 0.2\n",
    "\n",
    "def model_4():\n",
    "    \n",
    "    #Entrada1\n",
    "    entrada1 = Input(shape=(max_len,), name=\"Texto\")\n",
    "    #x = Embedding(vocab_shape, embed_shape, weights=[embedding_matrix], trainable=False)(entrada)\n",
    "    x = Embedding(vocab_shape, embed_shape, trainable=True)(entrada1)\n",
    "    x = SpatialDropout1D(dropout)(x)\n",
    "    \n",
    "    # BRANCH 1............................................................................\n",
    "    x1 = Conv1D(num_filters , filter_sizes[0], name=\"CONV1D1\", activation=\"relu\")(x)\n",
    "    #x1 = BatchNormalization()(x1)\n",
    "    #x1 = GlobalMaxPooling1D()(x1)\n",
    "    #x1 = Dropout(dropout)(x1)\n",
    "    x1 = MaxPooling1D(pool_size=2)(x1)\n",
    "    x1 = Flatten()(x1)\n",
    "    \n",
    "    # BRANCH 2............................................................................\n",
    "    x2 = Conv1D(num_filters , filter_sizes[1], name=\"CONV1D2\", activation=\"relu\")(x)\n",
    "    #x2 = BatchNormalization()(x2)\n",
    "    #x2 = GlobalMaxPooling1D()(x2)\n",
    "    #x2 = Dropout(dropout)(x2)\n",
    "    x2 = MaxPooling1D(pool_size=2)(x2)\n",
    "    x2 = Flatten()(x2)\n",
    "    \n",
    "    # BRANCH 3............................................................................\n",
    "    x3 = Conv1D(num_filters , filter_sizes[2], name=\"CONV1D3\", activation=\"relu\")(x)\n",
    "    #x3 = BatchNormalization()(x3)\n",
    "    #x3 = GlobalMaxPooling1D()(x3)\n",
    "    #x3 = Dropout(dropout)(x3)\n",
    "    x3 = MaxPooling1D(pool_size=2)(x3)\n",
    "    x3 = Flatten()(x3)\n",
    "    \n",
    "    # BRANCH 4............................................................................\n",
    "    #x4 = Conv1D(num_filters , filter_sizes[3], name=\"CONV1D4\", activation=\"relu\")(x)\n",
    "    #x4 = BatchNormalization()(x4)\n",
    "    #x4 = GlobalMaxPooling1D()(x4)\n",
    "    #x4 = Dropout(dropout)(x4)\n",
    "    \n",
    "    #Entrada2 (LIWC)............................................................................\n",
    "    # entrada2 = Input(shape=(X_LIWC.shape[1],),name=\"LIWC\")\n",
    "    #x5 = Dense(64,  activation=\"relu\")(entrada2)\n",
    "    #x5 = Dropout(dropout)(x5)\n",
    "    \n",
    "    # entrada3 = Input(shape=(X_stat.shape[1],),name=\"stat\")\n",
    "    \n",
    "    #Concat\n",
    "    x = Concatenate()([x1,x2,x3])\n",
    "    x = Dense(512, activation=\"relu\")(x)\n",
    "    x = Dropout(dropout)(x)\n",
    "    # x = Dense(512, activation=\"relu\")(x)\n",
    "    \n",
    "    \n",
    "    \n",
    "    #Salida\n",
    "    Y0 = Dense(1, activation=\"sigmoid\", name=\"Y0\")(x)\n",
    "    #Y1 = Dense(1, activation=\"sigmoid\", name=\"Y1\")(x)\n",
    "    #Y2 = Dense(1, activation=\"sigmoid\", name=\"Y2\")(x)\n",
    "    #Y3 = Dense(1, activation=\"sigmoid\", name=\"Y3\")(x)\n",
    "    \n",
    "    #model = Model(inputs=[entrada,entrada2], outputs=Y0)\n",
    "    model = Model(inputs=entrada1, outputs=Y0)\n",
    "    model.compile(loss=\"binary_crossentropy\", optimizer='adam', metrics=['accuracy'])\n",
    "    callbacks = EarlyStopping(monitor='val_loss', patience = 0,verbose=1)\n",
    "    \n",
    "    return model \n",
    "   \n",
    "model = model_4()\n",
    "# model.summary()\n",
    "#plot_model(model)\n",
    "\n",
    "\n",
    "# model.fit([X,X_LIWC],[Y_4[:,0],Y_4[:,1],Y_4[:,2],Y_4[:,3]],\n",
    "\n"
   ]
  },
  {
   "cell_type": "code",
   "execution_count": 206,
   "metadata": {
    "ExecuteTime": {
     "end_time": "2020-09-05T17:22:12.721850Z",
     "start_time": "2020-09-05T17:22:12.716840Z"
    }
   },
   "outputs": [
    {
     "data": {
      "text/plain": [
       "(18023, 1000)"
      ]
     },
     "execution_count": 206,
     "metadata": {},
     "output_type": "execute_result"
    }
   ],
   "source": [
    "X.shape"
   ]
  },
  {
   "cell_type": "code",
   "execution_count": 209,
   "metadata": {
    "ExecuteTime": {
     "end_time": "2020-09-05T17:42:35.109970Z",
     "start_time": "2020-09-05T17:26:13.702246Z"
    }
   },
   "outputs": [
    {
     "name": "stdout",
     "output_type": "stream",
     "text": [
      "Prepare kfold\n",
      "0.668164074420929\n",
      "Prepare kfold\n",
      "0.7067193984985352\n",
      "Prepare kfold\n",
      "0.5976184606552124\n",
      "Prepare kfold\n",
      "0.6673294901847839\n",
      "Prepare kfold\n",
      "0.6936944723129272\n"
     ]
    },
    {
     "data": {
      "text/plain": [
       "[66.8164074420929,\n",
       " 70.67193984985352,\n",
       " 59.76184606552124,\n",
       " 66.7329490184784,\n",
       " 69.36944723129272]"
      ]
     },
     "execution_count": 209,
     "metadata": {},
     "output_type": "execute_result"
    }
   ],
   "source": [
    "from sklearn.model_selection import StratifiedKFold\n",
    "kfold = StratifiedKFold(n_splits=5, shuffle=True, random_state=42)\n",
    "\n",
    "cv_score = []\n",
    "Y = Y_4[:,0]\n",
    "for train, test in kfold.split(X, Y):\n",
    "    print(\"Prepare kfold\")\n",
    "    \n",
    "    model = model_4()\n",
    "    pesos =  compute_sample_weight('balanced', Y[train])\n",
    "    history= model.fit(X[train], Y[train], epochs=1, batch_size=50, verbose=0, sample_weight=pesos)\n",
    "    \n",
    "    score = model.evaluate(X[test], Y[test], verbose=0)\n",
    "    print(score[0])\n",
    "    cv_score.append(score[0] * 100)\n",
    "cv_score"
   ]
  },
  {
   "cell_type": "code",
   "execution_count": 210,
   "metadata": {
    "ExecuteTime": {
     "end_time": "2020-09-05T17:59:19.591686Z",
     "start_time": "2020-09-05T17:42:35.381491Z"
    }
   },
   "outputs": [
    {
     "name": "stdout",
     "output_type": "stream",
     "text": [
      "Prepare kfold\n",
      "0.6411149501800537\n",
      "Prepare kfold\n",
      "0.5669697523117065\n",
      "Prepare kfold\n",
      "0.7971045970916748\n",
      "Prepare kfold\n",
      "0.6913929581642151\n",
      "Prepare kfold\n",
      "0.6989805102348328\n"
     ]
    },
    {
     "data": {
      "text/plain": [
       "[64.11149501800537,\n",
       " 56.696975231170654,\n",
       " 79.71045970916748,\n",
       " 69.13929581642151,\n",
       " 69.89805102348328]"
      ]
     },
     "execution_count": 210,
     "metadata": {},
     "output_type": "execute_result"
    }
   ],
   "source": [
    "from sklearn.model_selection import StratifiedKFold\n",
    "kfold = StratifiedKFold(n_splits=5, shuffle=True, random_state=42)\n",
    "\n",
    "cv_score = []\n",
    "Y = Y_4[:,1]\n",
    "for train, test in kfold.split(X, Y):\n",
    "    print(\"Prepare kfold\")\n",
    "    \n",
    "    model = model_4()\n",
    "    pesos =  compute_sample_weight('balanced', Y[train])\n",
    "    history= model.fit(X[train], Y[train], epochs=1, batch_size=50, verbose=0, sample_weight=pesos)\n",
    "    \n",
    "    score = model.evaluate(X[test], Y[test], verbose=0)\n",
    "    print(score[0])\n",
    "    cv_score.append(score[0] * 100)\n",
    "cv_score"
   ]
  }
 ],
 "metadata": {
  "hide_input": false,
  "kernelspec": {
   "display_name": "Python 3",
   "language": "python",
   "name": "python3"
  },
  "language_info": {
   "codemirror_mode": {
    "name": "ipython",
    "version": 3
   },
   "file_extension": ".py",
   "mimetype": "text/x-python",
   "name": "python",
   "nbconvert_exporter": "python",
   "pygments_lexer": "ipython3",
   "version": "3.7.6"
  },
  "toc": {
   "base_numbering": 1,
   "nav_menu": {},
   "number_sections": true,
   "sideBar": true,
   "skip_h1_title": false,
   "title_cell": "Table of Contents",
   "title_sidebar": "Contents",
   "toc_cell": false,
   "toc_position": {},
   "toc_section_display": true,
   "toc_window_display": false
  },
  "varInspector": {
   "cols": {
    "lenName": 16,
    "lenType": 16,
    "lenVar": 40
   },
   "kernels_config": {
    "python": {
     "delete_cmd_postfix": "",
     "delete_cmd_prefix": "del ",
     "library": "var_list.py",
     "varRefreshCmd": "print(var_dic_list())"
    },
    "r": {
     "delete_cmd_postfix": ") ",
     "delete_cmd_prefix": "rm(",
     "library": "var_list.r",
     "varRefreshCmd": "cat(var_dic_list()) "
    }
   },
   "position": {
    "height": "425.273px",
    "left": "1441.33px",
    "right": "20px",
    "top": "28.9844px",
    "width": "266.973px"
   },
   "types_to_exclude": [
    "module",
    "function",
    "builtin_function_or_method",
    "instance",
    "_Feature"
   ],
   "window_display": true
  }
 },
 "nbformat": 4,
 "nbformat_minor": 4
}
