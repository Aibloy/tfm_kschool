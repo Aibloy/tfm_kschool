{
 "cells": [
  {
   "cell_type": "markdown",
   "metadata": {},
   "source": [
    "### Load data:"
   ]
  },
  {
   "cell_type": "code",
   "execution_count": 4,
   "metadata": {
    "ExecuteTime": {
     "end_time": "2020-09-08T14:56:51.666205Z",
     "start_time": "2020-09-08T14:56:20.241268Z"
    }
   },
   "outputs": [],
   "source": [
    "import pandas as pd\n",
    "columnas = [\"mbti\",\"clean_text\"]\n",
    "data = pd.read_csv(\"../data/data_spanish/data_spanish.csv\",usecols=columnas)\n",
    "data[\"mbti\"] = data[\"mbti\"].apply(lambda x: x.lower())"
   ]
  },
  {
   "cell_type": "code",
   "execution_count": 7,
   "metadata": {
    "ExecuteTime": {
     "end_time": "2020-09-08T13:32:30.805215Z",
     "start_time": "2020-09-08T13:32:30.800202Z"
    }
   },
   "outputs": [
    {
     "data": {
      "text/plain": [
       "(8900, 2)"
      ]
     },
     "execution_count": 7,
     "metadata": {},
     "output_type": "execute_result"
    }
   ],
   "source": [
    "data.shape"
   ]
  },
  {
   "cell_type": "code",
   "execution_count": 8,
   "metadata": {
    "ExecuteTime": {
     "end_time": "2020-09-08T13:32:35.559825Z",
     "start_time": "2020-09-08T13:32:30.841737Z"
    }
   },
   "outputs": [
    {
     "data": {
      "image/png": "[encoded data removed]",
      "text/plain": [
       "<Figure size 432x288 with 1 Axes>"
      ]
     },
     "metadata": {
      "needs_background": "light"
     },
     "output_type": "display_data"
    }
   ],
   "source": [
    "data[\"clean_text\"].apply(lambda x: len(x.split())).plot(kind=\"hist\",bins=100);"
   ]
  },
  {
   "cell_type": "code",
   "execution_count": 10,
   "metadata": {
    "ExecuteTime": {
     "end_time": "2020-09-08T15:16:06.251316Z",
     "start_time": "2020-09-08T15:16:01.214261Z"
    }
   },
   "outputs": [],
   "source": [
    "a = data[\"clean_text\"].apply(lambda x: len(x.split()))\n",
    "filtro = a[(a>2500)&(a<10000)].index\n",
    "data = data.iloc[filtro]"
   ]
  },
  {
   "cell_type": "code",
   "execution_count": 10,
   "metadata": {
    "ExecuteTime": {
     "end_time": "2020-09-08T13:32:39.358545Z",
     "start_time": "2020-09-08T13:32:39.212764Z"
    }
   },
   "outputs": [
    {
     "data": {
      "image/png": "[encoded data removed]",
      "text/plain": [
       "<Figure size 432x288 with 1 Axes>"
      ]
     },
     "metadata": {
      "needs_background": "light"
     },
     "output_type": "display_data"
    }
   ],
   "source": [
    "data[\"mbti\"].value_counts().plot(kind=\"bar\");"
   ]
  },
  {
   "cell_type": "code",
   "execution_count": 11,
   "metadata": {
    "ExecuteTime": {
     "end_time": "2020-09-08T13:32:39.405395Z",
     "start_time": "2020-09-08T13:32:39.394425Z"
    }
   },
   "outputs": [
    {
     "name": "stdout",
     "output_type": "stream",
     "text": [
      "(7505, 2)\n"
     ]
    },
    {
     "data": {
      "text/html": [
       "<div>\n",
       "<style scoped>\n",
       "    .dataframe tbody tr th:only-of-type {\n",
       "        vertical-align: middle;\n",
       "    }\n",
       "\n",
       "    .dataframe tbody tr th {\n",
       "        vertical-align: top;\n",
       "    }\n",
       "\n",
       "    .dataframe thead th {\n",
       "        text-align: right;\n",
       "    }\n",
       "</style>\n",
       "<table border=\"1\" class=\"dataframe\">\n",
       "  <thead>\n",
       "    <tr style=\"text-align: right;\">\n",
       "      <th></th>\n",
       "      <th>mbti</th>\n",
       "      <th>clean_text</th>\n",
       "    </tr>\n",
       "  </thead>\n",
       "  <tbody>\n",
       "    <tr>\n",
       "      <th>0</th>\n",
       "      <td>entj</td>\n",
       "      <td>mencion que mirada tan interesante la de plut...</td>\n",
       "    </tr>\n",
       "    <tr>\n",
       "      <th>1</th>\n",
       "      <td>infp</td>\n",
       "      <td>algún día... podré ser bonita enlace tiempo d...</td>\n",
       "    </tr>\n",
       "    <tr>\n",
       "      <th>3</th>\n",
       "      <td>istj</td>\n",
       "      <td>cinco años sin participar de un día como este....</td>\n",
       "    </tr>\n",
       "    <tr>\n",
       "      <th>4</th>\n",
       "      <td>entp</td>\n",
       "      <td>acabo de terminar de ver gilmore girls por mil...</td>\n",
       "    </tr>\n",
       "    <tr>\n",
       "      <th>5</th>\n",
       "      <td>isfp</td>\n",
       "      <td>enlace hashtag enlace enlace llego mi mes enl...</td>\n",
       "    </tr>\n",
       "  </tbody>\n",
       "</table>\n",
       "</div>"
      ],
      "text/plain": [
       "   mbti                                         clean_text\n",
       "0  entj   mencion que mirada tan interesante la de plut...\n",
       "1  infp   algún día... podré ser bonita enlace tiempo d...\n",
       "3  istj  cinco años sin participar de un día como este....\n",
       "4  entp  acabo de terminar de ver gilmore girls por mil...\n",
       "5  isfp   enlace hashtag enlace enlace llego mi mes enl..."
      ]
     },
     "execution_count": 11,
     "metadata": {},
     "output_type": "execute_result"
    }
   ],
   "source": [
    "print(data.shape)\n",
    "data.head()"
   ]
  },
  {
   "cell_type": "markdown",
   "metadata": {},
   "source": [
    "# Code data"
   ]
  },
  {
   "cell_type": "markdown",
   "metadata": {},
   "source": [
    "### Count Vectorizer Matrix"
   ]
  },
  {
   "cell_type": "code",
   "execution_count": 12,
   "metadata": {
    "ExecuteTime": {
     "end_time": "2020-09-08T13:37:54.637094Z",
     "start_time": "2020-09-08T13:32:39.440301Z"
    }
   },
   "outputs": [],
   "source": [
    "from sklearn.feature_extraction.text import CountVectorizer\n",
    "vect = CountVectorizer(max_features=5000, ngram_range=(1,3))\n",
    "X_matrix = vect.fit_transform(data[\"clean_text\"])\n",
    "X = pd.DataFrame(X_matrix.toarray(), columns = vect.get_feature_names())"
   ]
  },
  {
   "cell_type": "code",
   "execution_count": null,
   "metadata": {
    "ExecuteTime": {
     "start_time": "2020-09-08T13:26:52.316Z"
    }
   },
   "outputs": [],
   "source": [
    "X.head()"
   ]
  },
  {
   "cell_type": "markdown",
   "metadata": {},
   "source": [
    "### TFIDF matrix"
   ]
  },
  {
   "cell_type": "code",
   "execution_count": 12,
   "metadata": {
    "ExecuteTime": {
     "end_time": "2020-09-08T15:32:11.256082Z",
     "start_time": "2020-09-08T15:16:20.458176Z"
    }
   },
   "outputs": [],
   "source": [
    "from sklearn.feature_extraction.text import TfidfVectorizer\n",
    "vect = TfidfVectorizer(max_features=5000, ngram_range=(1,3))\n",
    "X_matrix = vect.fit_transform(data[\"clean_text\"])\n",
    "X_tfidf = pd.DataFrame(X_matrix.toarray(), columns = vect.get_feature_names())"
   ]
  },
  {
   "cell_type": "code",
   "execution_count": 14,
   "metadata": {
    "ExecuteTime": {
     "end_time": "2020-09-08T15:39:32.843950Z",
     "start_time": "2020-09-08T15:39:32.824003Z"
    }
   },
   "outputs": [
    {
     "data": {
      "text/html": [
       "<div>\n",
       "<style scoped>\n",
       "    .dataframe tbody tr th:only-of-type {\n",
       "        vertical-align: middle;\n",
       "    }\n",
       "\n",
       "    .dataframe tbody tr th {\n",
       "        vertical-align: top;\n",
       "    }\n",
       "\n",
       "    .dataframe thead th {\n",
       "        text-align: right;\n",
       "    }\n",
       "</style>\n",
       "<table border=\"1\" class=\"dataframe\">\n",
       "  <thead>\n",
       "    <tr style=\"text-align: right;\">\n",
       "      <th></th>\n",
       "      <th>abajo</th>\n",
       "      <th>abierto</th>\n",
       "      <th>about</th>\n",
       "      <th>abrazo</th>\n",
       "      <th>abrazo mencion</th>\n",
       "      <th>abrazos</th>\n",
       "      <th>abre</th>\n",
       "      <th>abril</th>\n",
       "      <th>abrir</th>\n",
       "      <th>absolutamente</th>\n",
       "      <th>...</th>\n",
       "      <th>última</th>\n",
       "      <th>últimamente</th>\n",
       "      <th>últimas</th>\n",
       "      <th>últimas horas</th>\n",
       "      <th>últimas horas enlace</th>\n",
       "      <th>último</th>\n",
       "      <th>últimos</th>\n",
       "      <th>única</th>\n",
       "      <th>único</th>\n",
       "      <th>único que</th>\n",
       "    </tr>\n",
       "  </thead>\n",
       "  <tbody>\n",
       "    <tr>\n",
       "      <th>0</th>\n",
       "      <td>0.000000</td>\n",
       "      <td>0.0</td>\n",
       "      <td>0.000000</td>\n",
       "      <td>0.002253</td>\n",
       "      <td>0.000000</td>\n",
       "      <td>0.000000</td>\n",
       "      <td>0.000000</td>\n",
       "      <td>0.0</td>\n",
       "      <td>0.0</td>\n",
       "      <td>0.000000</td>\n",
       "      <td>...</td>\n",
       "      <td>0.000000</td>\n",
       "      <td>0.00000</td>\n",
       "      <td>0.0</td>\n",
       "      <td>0.0</td>\n",
       "      <td>0.0</td>\n",
       "      <td>0.0</td>\n",
       "      <td>0.00000</td>\n",
       "      <td>0.000000</td>\n",
       "      <td>0.001834</td>\n",
       "      <td>0.000000</td>\n",
       "    </tr>\n",
       "    <tr>\n",
       "      <th>1</th>\n",
       "      <td>0.011869</td>\n",
       "      <td>0.0</td>\n",
       "      <td>0.000000</td>\n",
       "      <td>0.018457</td>\n",
       "      <td>0.007648</td>\n",
       "      <td>0.000000</td>\n",
       "      <td>0.000000</td>\n",
       "      <td>0.0</td>\n",
       "      <td>0.0</td>\n",
       "      <td>0.000000</td>\n",
       "      <td>...</td>\n",
       "      <td>0.000000</td>\n",
       "      <td>0.00000</td>\n",
       "      <td>0.0</td>\n",
       "      <td>0.0</td>\n",
       "      <td>0.0</td>\n",
       "      <td>0.0</td>\n",
       "      <td>0.00000</td>\n",
       "      <td>0.013664</td>\n",
       "      <td>0.007512</td>\n",
       "      <td>0.009649</td>\n",
       "    </tr>\n",
       "    <tr>\n",
       "      <th>2</th>\n",
       "      <td>0.000000</td>\n",
       "      <td>0.0</td>\n",
       "      <td>0.003285</td>\n",
       "      <td>0.002674</td>\n",
       "      <td>0.000000</td>\n",
       "      <td>0.008227</td>\n",
       "      <td>0.000000</td>\n",
       "      <td>0.0</td>\n",
       "      <td>0.0</td>\n",
       "      <td>0.020328</td>\n",
       "      <td>...</td>\n",
       "      <td>0.000000</td>\n",
       "      <td>0.00000</td>\n",
       "      <td>0.0</td>\n",
       "      <td>0.0</td>\n",
       "      <td>0.0</td>\n",
       "      <td>0.0</td>\n",
       "      <td>0.00000</td>\n",
       "      <td>0.002639</td>\n",
       "      <td>0.000000</td>\n",
       "      <td>0.000000</td>\n",
       "    </tr>\n",
       "    <tr>\n",
       "      <th>3</th>\n",
       "      <td>0.000000</td>\n",
       "      <td>0.0</td>\n",
       "      <td>0.008253</td>\n",
       "      <td>0.000000</td>\n",
       "      <td>0.000000</td>\n",
       "      <td>0.000000</td>\n",
       "      <td>0.004852</td>\n",
       "      <td>0.0</td>\n",
       "      <td>0.0</td>\n",
       "      <td>0.000000</td>\n",
       "      <td>...</td>\n",
       "      <td>0.003506</td>\n",
       "      <td>0.00937</td>\n",
       "      <td>0.0</td>\n",
       "      <td>0.0</td>\n",
       "      <td>0.0</td>\n",
       "      <td>0.0</td>\n",
       "      <td>0.00452</td>\n",
       "      <td>0.000000</td>\n",
       "      <td>0.016403</td>\n",
       "      <td>0.017556</td>\n",
       "    </tr>\n",
       "    <tr>\n",
       "      <th>4</th>\n",
       "      <td>0.000000</td>\n",
       "      <td>0.0</td>\n",
       "      <td>0.000000</td>\n",
       "      <td>0.012316</td>\n",
       "      <td>0.000000</td>\n",
       "      <td>0.000000</td>\n",
       "      <td>0.000000</td>\n",
       "      <td>0.0</td>\n",
       "      <td>0.0</td>\n",
       "      <td>0.000000</td>\n",
       "      <td>...</td>\n",
       "      <td>0.000000</td>\n",
       "      <td>0.00000</td>\n",
       "      <td>0.0</td>\n",
       "      <td>0.0</td>\n",
       "      <td>0.0</td>\n",
       "      <td>0.0</td>\n",
       "      <td>0.00000</td>\n",
       "      <td>0.000000</td>\n",
       "      <td>0.006684</td>\n",
       "      <td>0.008584</td>\n",
       "    </tr>\n",
       "  </tbody>\n",
       "</table>\n",
       "<p>5 rows × 5000 columns</p>\n",
       "</div>"
      ],
      "text/plain": [
       "      abajo  abierto     about    abrazo  abrazo mencion   abrazos      abre  \\\n",
       "0  0.000000      0.0  0.000000  0.002253        0.000000  0.000000  0.000000   \n",
       "1  0.011869      0.0  0.000000  0.018457        0.007648  0.000000  0.000000   \n",
       "2  0.000000      0.0  0.003285  0.002674        0.000000  0.008227  0.000000   \n",
       "3  0.000000      0.0  0.008253  0.000000        0.000000  0.000000  0.004852   \n",
       "4  0.000000      0.0  0.000000  0.012316        0.000000  0.000000  0.000000   \n",
       "\n",
       "   abril  abrir  absolutamente  ...    última  últimamente  últimas  \\\n",
       "0    0.0    0.0       0.000000  ...  0.000000      0.00000      0.0   \n",
       "1    0.0    0.0       0.000000  ...  0.000000      0.00000      0.0   \n",
       "2    0.0    0.0       0.020328  ...  0.000000      0.00000      0.0   \n",
       "3    0.0    0.0       0.000000  ...  0.003506      0.00937      0.0   \n",
       "4    0.0    0.0       0.000000  ...  0.000000      0.00000      0.0   \n",
       "\n",
       "   últimas horas  últimas horas enlace  último  últimos     única     único  \\\n",
       "0            0.0                   0.0     0.0  0.00000  0.000000  0.001834   \n",
       "1            0.0                   0.0     0.0  0.00000  0.013664  0.007512   \n",
       "2            0.0                   0.0     0.0  0.00000  0.002639  0.000000   \n",
       "3            0.0                   0.0     0.0  0.00452  0.000000  0.016403   \n",
       "4            0.0                   0.0     0.0  0.00000  0.000000  0.006684   \n",
       "\n",
       "   único que  \n",
       "0   0.000000  \n",
       "1   0.009649  \n",
       "2   0.000000  \n",
       "3   0.017556  \n",
       "4   0.008584  \n",
       "\n",
       "[5 rows x 5000 columns]"
      ]
     },
     "execution_count": 14,
     "metadata": {},
     "output_type": "execute_result"
    }
   ],
   "source": [
    "X_tfidf.head()"
   ]
  },
  {
   "cell_type": "markdown",
   "metadata": {},
   "source": [
    "### LIWC vectors"
   ]
  },
  {
   "cell_type": "code",
   "execution_count": null,
   "metadata": {},
   "outputs": [],
   "source": [
    "import sys\n",
    "sys.path.append('../Utilities/')\n",
    "from LIWC.LIWC_ES import LIWC_SPANISH\n",
    "X_LIWC = LIWC_SPANISH(data[\"clean_text\"])"
   ]
  },
  {
   "cell_type": "markdown",
   "metadata": {},
   "source": [
    "### KFOLD f(x)"
   ]
  },
  {
   "cell_type": "code",
   "execution_count": 17,
   "metadata": {
    "ExecuteTime": {
     "end_time": "2020-09-08T15:39:48.434931Z",
     "start_time": "2020-09-08T15:39:48.290708Z"
    }
   },
   "outputs": [],
   "source": [
    "dict_code = {'i':0, 'e':1, 'n':0, 's':1, 'f':0, 't':1, 'j':0, 'p':1}\n",
    "def code(tipo):\n",
    "    \"\"\"{'i':0, 'e':1, 'n':0, 's':1, 'f':0, 't':1, 'j':0, 'p':1} \"\"\"\n",
    "    return [dict_code[l] for l in tipo]\n",
    "\n",
    "from lightgbm import LGBMClassifier\n",
    "from sklearn.metrics import roc_auc_score\n",
    "from sklearn.model_selection import StratifiedKFold\n",
    "from tqdm.notebook import tqdm\n",
    "def LGBM_KFOLD(splits,X,Y):\n",
    "    \n",
    "    kfold = StratifiedKFold(n_splits=splits, shuffle=True, random_state=42)\n",
    "\n",
    "    f = 0\n",
    "    scores = {}\n",
    "    for i in range(4):\n",
    "        scores[f\"Y_{i}\"] = []\n",
    "    \n",
    "    for train, test in kfold.split(X,Y):\n",
    "        f+=1\n",
    "    \n",
    "        X_train,X_test = X.iloc[train].values,X.iloc[test].values\n",
    "        Y_train,Y_test = Y.iloc[train],Y.iloc[test]\n",
    "        \n",
    "        for i in tqdm(range(4)):\n",
    "            Y_n_train = [code(x)[i] for x in Y_train]\n",
    "            Y_n_test = [code(x)[i] for x in Y_test]\n",
    "            \n",
    "            model = LGBMClassifier(class_weight=\"balanced\")\n",
    "            model.fit(X_train,Y_n_train)\n",
    "            Y_pred = model.predict_proba(X_test)[:,1]\n",
    "            score = roc_auc_score(Y_n_test,Y_pred)\n",
    "            \n",
    "            scores[f\"Y_{i}\"].append(score)\n",
    "\n",
    "        print(f\"KFOLD {f} Done\")\n",
    "    \n",
    "    return pd.DataFrame(scores)  "
   ]
  },
  {
   "cell_type": "markdown",
   "metadata": {},
   "source": [
    "# CountVectorizer Ngrams (1,3)"
   ]
  },
  {
   "cell_type": "code",
   "execution_count": 117,
   "metadata": {
    "ExecuteTime": {
     "end_time": "2020-09-08T10:47:41.347427Z",
     "start_time": "2020-09-08T10:43:59.464963Z"
    },
    "scrolled": false
   },
   "outputs": [
    {
     "data": {
      "application/vnd.jupyter.widget-view+json": {
       "model_id": "fd1d5be2e1a540b391e5738f0e0a0cd8",
       "version_major": 2,
       "version_minor": 0
      },
      "text/plain": [
       "HBox(children=(FloatProgress(value=0.0, max=4.0), HTML(value='')))"
      ]
     },
     "metadata": {},
     "output_type": "display_data"
    },
    {
     "name": "stdout",
     "output_type": "stream",
     "text": [
      "\n",
      "KFOLD 1 Done\n"
     ]
    },
    {
     "data": {
      "application/vnd.jupyter.widget-view+json": {
       "model_id": "06d4cedd5ece4b4b8093d2917e296b57",
       "version_major": 2,
       "version_minor": 0
      },
      "text/plain": [
       "HBox(children=(FloatProgress(value=0.0, max=4.0), HTML(value='')))"
      ]
     },
     "metadata": {},
     "output_type": "display_data"
    },
    {
     "name": "stdout",
     "output_type": "stream",
     "text": [
      "\n",
      "KFOLD 2 Done\n"
     ]
    },
    {
     "data": {
      "application/vnd.jupyter.widget-view+json": {
       "model_id": "7566333a5009469684add28ae3b6905a",
       "version_major": 2,
       "version_minor": 0
      },
      "text/plain": [
       "HBox(children=(FloatProgress(value=0.0, max=4.0), HTML(value='')))"
      ]
     },
     "metadata": {},
     "output_type": "display_data"
    },
    {
     "name": "stdout",
     "output_type": "stream",
     "text": [
      "\n",
      "KFOLD 3 Done\n"
     ]
    },
    {
     "data": {
      "application/vnd.jupyter.widget-view+json": {
       "model_id": "bda520388cec4ef1864abbc50fea112a",
       "version_major": 2,
       "version_minor": 0
      },
      "text/plain": [
       "HBox(children=(FloatProgress(value=0.0, max=4.0), HTML(value='')))"
      ]
     },
     "metadata": {},
     "output_type": "display_data"
    },
    {
     "name": "stdout",
     "output_type": "stream",
     "text": [
      "\n",
      "KFOLD 4 Done\n"
     ]
    },
    {
     "data": {
      "application/vnd.jupyter.widget-view+json": {
       "model_id": "bc387c6c80d3446297b483c53de718aa",
       "version_major": 2,
       "version_minor": 0
      },
      "text/plain": [
       "HBox(children=(FloatProgress(value=0.0, max=4.0), HTML(value='')))"
      ]
     },
     "metadata": {},
     "output_type": "display_data"
    },
    {
     "name": "stdout",
     "output_type": "stream",
     "text": [
      "\n",
      "KFOLD 5 Done\n",
      "            Y_0       Y_1       Y_2       Y_3\n",
      "count  5.000000  5.000000  5.000000  5.000000\n",
      "mean   0.647423  0.601979  0.613047  0.584833\n",
      "std    0.013504  0.007290  0.015873  0.015575\n",
      "min    0.632558  0.589814  0.594997  0.560707\n",
      "25%    0.634858  0.602095  0.607935  0.581358\n",
      "50%    0.650222  0.602719  0.609881  0.587071\n",
      "75%    0.655295  0.607470  0.613977  0.592535\n",
      "max    0.664180  0.607799  0.638445  0.602494\n"
     ]
    },
    {
     "data": {
      "text/html": [
       "<div>\n",
       "<style scoped>\n",
       "    .dataframe tbody tr th:only-of-type {\n",
       "        vertical-align: middle;\n",
       "    }\n",
       "\n",
       "    .dataframe tbody tr th {\n",
       "        vertical-align: top;\n",
       "    }\n",
       "\n",
       "    .dataframe thead th {\n",
       "        text-align: right;\n",
       "    }\n",
       "</style>\n",
       "<table border=\"1\" class=\"dataframe\">\n",
       "  <thead>\n",
       "    <tr style=\"text-align: right;\">\n",
       "      <th></th>\n",
       "      <th>Y_0</th>\n",
       "      <th>Y_1</th>\n",
       "      <th>Y_2</th>\n",
       "      <th>Y_3</th>\n",
       "    </tr>\n",
       "  </thead>\n",
       "  <tbody>\n",
       "    <tr>\n",
       "      <th>0</th>\n",
       "      <td>0.634858</td>\n",
       "      <td>0.589814</td>\n",
       "      <td>0.609881</td>\n",
       "      <td>0.560707</td>\n",
       "    </tr>\n",
       "    <tr>\n",
       "      <th>1</th>\n",
       "      <td>0.650222</td>\n",
       "      <td>0.607799</td>\n",
       "      <td>0.613977</td>\n",
       "      <td>0.581358</td>\n",
       "    </tr>\n",
       "    <tr>\n",
       "      <th>2</th>\n",
       "      <td>0.664180</td>\n",
       "      <td>0.607470</td>\n",
       "      <td>0.594997</td>\n",
       "      <td>0.602494</td>\n",
       "    </tr>\n",
       "    <tr>\n",
       "      <th>3</th>\n",
       "      <td>0.655295</td>\n",
       "      <td>0.602095</td>\n",
       "      <td>0.638445</td>\n",
       "      <td>0.592535</td>\n",
       "    </tr>\n",
       "    <tr>\n",
       "      <th>4</th>\n",
       "      <td>0.632558</td>\n",
       "      <td>0.602719</td>\n",
       "      <td>0.607935</td>\n",
       "      <td>0.587071</td>\n",
       "    </tr>\n",
       "  </tbody>\n",
       "</table>\n",
       "</div>"
      ],
      "text/plain": [
       "        Y_0       Y_1       Y_2       Y_3\n",
       "0  0.634858  0.589814  0.609881  0.560707\n",
       "1  0.650222  0.607799  0.613977  0.581358\n",
       "2  0.664180  0.607470  0.594997  0.602494\n",
       "3  0.655295  0.602095  0.638445  0.592535\n",
       "4  0.632558  0.602719  0.607935  0.587071"
      ]
     },
     "execution_count": 117,
     "metadata": {},
     "output_type": "execute_result"
    }
   ],
   "source": [
    "resultados = LGBM_KFOLD(5, X,data[\"mbti\"])\n",
    "print(resultados.describe())\n",
    "resultados"
   ]
  },
  {
   "cell_type": "markdown",
   "metadata": {},
   "source": [
    "# TF-IDF Ngrams(1,3)"
   ]
  },
  {
   "cell_type": "code",
   "execution_count": 18,
   "metadata": {
    "ExecuteTime": {
     "end_time": "2020-09-08T16:01:03.431337Z",
     "start_time": "2020-09-08T15:39:52.125423Z"
    }
   },
   "outputs": [
    {
     "data": {
      "application/vnd.jupyter.widget-view+json": {
       "model_id": "64de61feb60244f7b3ed88b2ace3d67c",
       "version_major": 2,
       "version_minor": 0
      },
      "text/plain": [
       "HBox(children=(FloatProgress(value=0.0, max=4.0), HTML(value='')))"
      ]
     },
     "metadata": {},
     "output_type": "display_data"
    },
    {
     "name": "stdout",
     "output_type": "stream",
     "text": [
      "\n",
      "KFOLD 1 Done\n"
     ]
    },
    {
     "data": {
      "application/vnd.jupyter.widget-view+json": {
       "model_id": "85ebd6de700e414cb94e8ffc8c82ea60",
       "version_major": 2,
       "version_minor": 0
      },
      "text/plain": [
       "HBox(children=(FloatProgress(value=0.0, max=4.0), HTML(value='')))"
      ]
     },
     "metadata": {},
     "output_type": "display_data"
    },
    {
     "name": "stdout",
     "output_type": "stream",
     "text": [
      "\n",
      "KFOLD 2 Done\n"
     ]
    },
    {
     "data": {
      "application/vnd.jupyter.widget-view+json": {
       "model_id": "93e761181e274ffeb9bdac60328b70f4",
       "version_major": 2,
       "version_minor": 0
      },
      "text/plain": [
       "HBox(children=(FloatProgress(value=0.0, max=4.0), HTML(value='')))"
      ]
     },
     "metadata": {},
     "output_type": "display_data"
    },
    {
     "name": "stdout",
     "output_type": "stream",
     "text": [
      "\n",
      "KFOLD 3 Done\n"
     ]
    },
    {
     "data": {
      "application/vnd.jupyter.widget-view+json": {
       "model_id": "7848665a483b4bd5890240f2d041efc6",
       "version_major": 2,
       "version_minor": 0
      },
      "text/plain": [
       "HBox(children=(FloatProgress(value=0.0, max=4.0), HTML(value='')))"
      ]
     },
     "metadata": {},
     "output_type": "display_data"
    },
    {
     "name": "stdout",
     "output_type": "stream",
     "text": [
      "\n",
      "KFOLD 4 Done\n"
     ]
    },
    {
     "data": {
      "application/vnd.jupyter.widget-view+json": {
       "model_id": "3c594583c64f46509fa887831f0be3e6",
       "version_major": 2,
       "version_minor": 0
      },
      "text/plain": [
       "HBox(children=(FloatProgress(value=0.0, max=4.0), HTML(value='')))"
      ]
     },
     "metadata": {},
     "output_type": "display_data"
    },
    {
     "name": "stdout",
     "output_type": "stream",
     "text": [
      "\n",
      "KFOLD 5 Done\n",
      "            Y_0       Y_1       Y_2       Y_3\n",
      "count  5.000000  5.000000  5.000000  5.000000\n",
      "mean   0.651896  0.593516  0.617540  0.583497\n",
      "std    0.011900  0.010115  0.012736  0.010414\n",
      "min    0.635186  0.585295  0.600824  0.567202\n",
      "25%    0.649559  0.586098  0.610088  0.580565\n",
      "50%    0.649812  0.589606  0.616951  0.585065\n",
      "75%    0.657256  0.596955  0.628033  0.591516\n",
      "max    0.667666  0.609627  0.631802  0.593136\n"
     ]
    },
    {
     "data": {
      "text/html": [
       "<div>\n",
       "<style scoped>\n",
       "    .dataframe tbody tr th:only-of-type {\n",
       "        vertical-align: middle;\n",
       "    }\n",
       "\n",
       "    .dataframe tbody tr th {\n",
       "        vertical-align: top;\n",
       "    }\n",
       "\n",
       "    .dataframe thead th {\n",
       "        text-align: right;\n",
       "    }\n",
       "</style>\n",
       "<table border=\"1\" class=\"dataframe\">\n",
       "  <thead>\n",
       "    <tr style=\"text-align: right;\">\n",
       "      <th></th>\n",
       "      <th>Y_0</th>\n",
       "      <th>Y_1</th>\n",
       "      <th>Y_2</th>\n",
       "      <th>Y_3</th>\n",
       "    </tr>\n",
       "  </thead>\n",
       "  <tbody>\n",
       "    <tr>\n",
       "      <th>0</th>\n",
       "      <td>0.649812</td>\n",
       "      <td>0.585295</td>\n",
       "      <td>0.600824</td>\n",
       "      <td>0.567202</td>\n",
       "    </tr>\n",
       "    <tr>\n",
       "      <th>1</th>\n",
       "      <td>0.649559</td>\n",
       "      <td>0.609627</td>\n",
       "      <td>0.628033</td>\n",
       "      <td>0.591516</td>\n",
       "    </tr>\n",
       "    <tr>\n",
       "      <th>2</th>\n",
       "      <td>0.667666</td>\n",
       "      <td>0.589606</td>\n",
       "      <td>0.610088</td>\n",
       "      <td>0.593136</td>\n",
       "    </tr>\n",
       "    <tr>\n",
       "      <th>3</th>\n",
       "      <td>0.657256</td>\n",
       "      <td>0.596955</td>\n",
       "      <td>0.631802</td>\n",
       "      <td>0.580565</td>\n",
       "    </tr>\n",
       "    <tr>\n",
       "      <th>4</th>\n",
       "      <td>0.635186</td>\n",
       "      <td>0.586098</td>\n",
       "      <td>0.616951</td>\n",
       "      <td>0.585065</td>\n",
       "    </tr>\n",
       "  </tbody>\n",
       "</table>\n",
       "</div>"
      ],
      "text/plain": [
       "        Y_0       Y_1       Y_2       Y_3\n",
       "0  0.649812  0.585295  0.600824  0.567202\n",
       "1  0.649559  0.609627  0.628033  0.591516\n",
       "2  0.667666  0.589606  0.610088  0.593136\n",
       "3  0.657256  0.596955  0.631802  0.580565\n",
       "4  0.635186  0.586098  0.616951  0.585065"
      ]
     },
     "execution_count": 18,
     "metadata": {},
     "output_type": "execute_result"
    }
   ],
   "source": [
    "resultados = LGBM_KFOLD(5, X_tfidf,data[\"mbti\"])\n",
    "print(resultados.describe())\n",
    "resultados"
   ]
  },
  {
   "cell_type": "markdown",
   "metadata": {},
   "source": [
    "# LIWC"
   ]
  },
  {
   "cell_type": "code",
   "execution_count": 124,
   "metadata": {
    "ExecuteTime": {
     "end_time": "2020-09-08T10:55:16.422060Z",
     "start_time": "2020-09-08T10:55:03.633410Z"
    }
   },
   "outputs": [
    {
     "data": {
      "application/vnd.jupyter.widget-view+json": {
       "model_id": "5bdb4f189e79451fb3229b548c39b415",
       "version_major": 2,
       "version_minor": 0
      },
      "text/plain": [
       "HBox(children=(FloatProgress(value=0.0, max=4.0), HTML(value='')))"
      ]
     },
     "metadata": {},
     "output_type": "display_data"
    },
    {
     "name": "stdout",
     "output_type": "stream",
     "text": [
      "\n",
      "KFOLD 1 Done\n"
     ]
    },
    {
     "data": {
      "application/vnd.jupyter.widget-view+json": {
       "model_id": "a13387424888447eb280fc5d6473d5f9",
       "version_major": 2,
       "version_minor": 0
      },
      "text/plain": [
       "HBox(children=(FloatProgress(value=0.0, max=4.0), HTML(value='')))"
      ]
     },
     "metadata": {},
     "output_type": "display_data"
    },
    {
     "name": "stdout",
     "output_type": "stream",
     "text": [
      "\n",
      "KFOLD 2 Done\n"
     ]
    },
    {
     "data": {
      "application/vnd.jupyter.widget-view+json": {
       "model_id": "f169095314064fc6bbe7f71cef8cd677",
       "version_major": 2,
       "version_minor": 0
      },
      "text/plain": [
       "HBox(children=(FloatProgress(value=0.0, max=4.0), HTML(value='')))"
      ]
     },
     "metadata": {},
     "output_type": "display_data"
    },
    {
     "name": "stdout",
     "output_type": "stream",
     "text": [
      "\n",
      "KFOLD 3 Done\n"
     ]
    },
    {
     "data": {
      "application/vnd.jupyter.widget-view+json": {
       "model_id": "f84787f8058148c89a2e8b35c243c002",
       "version_major": 2,
       "version_minor": 0
      },
      "text/plain": [
       "HBox(children=(FloatProgress(value=0.0, max=4.0), HTML(value='')))"
      ]
     },
     "metadata": {},
     "output_type": "display_data"
    },
    {
     "name": "stdout",
     "output_type": "stream",
     "text": [
      "\n",
      "KFOLD 4 Done\n"
     ]
    },
    {
     "data": {
      "application/vnd.jupyter.widget-view+json": {
       "model_id": "fcec2b52f7994be6a2458df107d70da8",
       "version_major": 2,
       "version_minor": 0
      },
      "text/plain": [
       "HBox(children=(FloatProgress(value=0.0, max=4.0), HTML(value='')))"
      ]
     },
     "metadata": {},
     "output_type": "display_data"
    },
    {
     "name": "stdout",
     "output_type": "stream",
     "text": [
      "\n",
      "KFOLD 5 Done\n",
      "            Y_0       Y_1       Y_2       Y_3\n",
      "count  5.000000  5.000000  5.000000  5.000000\n",
      "mean   0.622816  0.579548  0.601328  0.562347\n",
      "std    0.013464  0.014143  0.018303  0.016280\n",
      "min    0.600407  0.558383  0.578701  0.538695\n",
      "25%    0.621290  0.575027  0.592245  0.558188\n",
      "50%    0.627053  0.582545  0.600513  0.559710\n",
      "75%    0.630588  0.585177  0.607202  0.575032\n",
      "max    0.634744  0.596609  0.627981  0.580112\n"
     ]
    },
    {
     "data": {
      "text/html": [
       "<div>\n",
       "<style scoped>\n",
       "    .dataframe tbody tr th:only-of-type {\n",
       "        vertical-align: middle;\n",
       "    }\n",
       "\n",
       "    .dataframe tbody tr th {\n",
       "        vertical-align: top;\n",
       "    }\n",
       "\n",
       "    .dataframe thead th {\n",
       "        text-align: right;\n",
       "    }\n",
       "</style>\n",
       "<table border=\"1\" class=\"dataframe\">\n",
       "  <thead>\n",
       "    <tr style=\"text-align: right;\">\n",
       "      <th></th>\n",
       "      <th>Y_0</th>\n",
       "      <th>Y_1</th>\n",
       "      <th>Y_2</th>\n",
       "      <th>Y_3</th>\n",
       "    </tr>\n",
       "  </thead>\n",
       "  <tbody>\n",
       "    <tr>\n",
       "      <th>0</th>\n",
       "      <td>0.627053</td>\n",
       "      <td>0.558383</td>\n",
       "      <td>0.607202</td>\n",
       "      <td>0.558188</td>\n",
       "    </tr>\n",
       "    <tr>\n",
       "      <th>1</th>\n",
       "      <td>0.621290</td>\n",
       "      <td>0.582545</td>\n",
       "      <td>0.600513</td>\n",
       "      <td>0.580112</td>\n",
       "    </tr>\n",
       "    <tr>\n",
       "      <th>2</th>\n",
       "      <td>0.634744</td>\n",
       "      <td>0.596609</td>\n",
       "      <td>0.592245</td>\n",
       "      <td>0.575032</td>\n",
       "    </tr>\n",
       "    <tr>\n",
       "      <th>3</th>\n",
       "      <td>0.630588</td>\n",
       "      <td>0.575027</td>\n",
       "      <td>0.627981</td>\n",
       "      <td>0.559710</td>\n",
       "    </tr>\n",
       "    <tr>\n",
       "      <th>4</th>\n",
       "      <td>0.600407</td>\n",
       "      <td>0.585177</td>\n",
       "      <td>0.578701</td>\n",
       "      <td>0.538695</td>\n",
       "    </tr>\n",
       "  </tbody>\n",
       "</table>\n",
       "</div>"
      ],
      "text/plain": [
       "        Y_0       Y_1       Y_2       Y_3\n",
       "0  0.627053  0.558383  0.607202  0.558188\n",
       "1  0.621290  0.582545  0.600513  0.580112\n",
       "2  0.634744  0.596609  0.592245  0.575032\n",
       "3  0.630588  0.575027  0.627981  0.559710\n",
       "4  0.600407  0.585177  0.578701  0.538695"
      ]
     },
     "execution_count": 124,
     "metadata": {},
     "output_type": "execute_result"
    }
   ],
   "source": [
    "resultados = LGBM_KFOLD(5, X_LIWC,data[\"mbti\"])\n",
    "print(resultados.describe())\n",
    "resultados"
   ]
  },
  {
   "cell_type": "markdown",
   "metadata": {},
   "source": [
    "# Filter with PCA (CV + TFIDF + LIWC)"
   ]
  },
  {
   "cell_type": "code",
   "execution_count": 144,
   "metadata": {
    "ExecuteTime": {
     "end_time": "2020-09-08T11:21:21.685571Z",
     "start_time": "2020-09-08T11:21:20.849948Z"
    }
   },
   "outputs": [
    {
     "data": {
      "text/html": [
       "<div>\n",
       "<style scoped>\n",
       "    .dataframe tbody tr th:only-of-type {\n",
       "        vertical-align: middle;\n",
       "    }\n",
       "\n",
       "    .dataframe tbody tr th {\n",
       "        vertical-align: top;\n",
       "    }\n",
       "\n",
       "    .dataframe thead th {\n",
       "        text-align: right;\n",
       "    }\n",
       "</style>\n",
       "<table border=\"1\" class=\"dataframe\">\n",
       "  <thead>\n",
       "    <tr style=\"text-align: right;\">\n",
       "      <th></th>\n",
       "      <th>abajo</th>\n",
       "      <th>abierto</th>\n",
       "      <th>about</th>\n",
       "      <th>abrazo</th>\n",
       "      <th>abrazo mencion</th>\n",
       "      <th>abrazos</th>\n",
       "      <th>abre</th>\n",
       "      <th>abril</th>\n",
       "      <th>abrir</th>\n",
       "      <th>absolutamente</th>\n",
       "      <th>...</th>\n",
       "      <th>última</th>\n",
       "      <th>últimamente</th>\n",
       "      <th>últimas</th>\n",
       "      <th>últimas horas</th>\n",
       "      <th>últimas horas enlace</th>\n",
       "      <th>último</th>\n",
       "      <th>últimos</th>\n",
       "      <th>única</th>\n",
       "      <th>único</th>\n",
       "      <th>único que</th>\n",
       "    </tr>\n",
       "  </thead>\n",
       "  <tbody>\n",
       "    <tr>\n",
       "      <th>0</th>\n",
       "      <td>0</td>\n",
       "      <td>0</td>\n",
       "      <td>0</td>\n",
       "      <td>1</td>\n",
       "      <td>0</td>\n",
       "      <td>0</td>\n",
       "      <td>0</td>\n",
       "      <td>0</td>\n",
       "      <td>0</td>\n",
       "      <td>0</td>\n",
       "      <td>...</td>\n",
       "      <td>0</td>\n",
       "      <td>0</td>\n",
       "      <td>0</td>\n",
       "      <td>0</td>\n",
       "      <td>0</td>\n",
       "      <td>0</td>\n",
       "      <td>0</td>\n",
       "      <td>0</td>\n",
       "      <td>1</td>\n",
       "      <td>0</td>\n",
       "    </tr>\n",
       "    <tr>\n",
       "      <th>1</th>\n",
       "      <td>2</td>\n",
       "      <td>0</td>\n",
       "      <td>0</td>\n",
       "      <td>4</td>\n",
       "      <td>1</td>\n",
       "      <td>0</td>\n",
       "      <td>0</td>\n",
       "      <td>0</td>\n",
       "      <td>0</td>\n",
       "      <td>0</td>\n",
       "      <td>...</td>\n",
       "      <td>0</td>\n",
       "      <td>0</td>\n",
       "      <td>0</td>\n",
       "      <td>0</td>\n",
       "      <td>0</td>\n",
       "      <td>0</td>\n",
       "      <td>0</td>\n",
       "      <td>3</td>\n",
       "      <td>2</td>\n",
       "      <td>2</td>\n",
       "    </tr>\n",
       "    <tr>\n",
       "      <th>2</th>\n",
       "      <td>0</td>\n",
       "      <td>0</td>\n",
       "      <td>1</td>\n",
       "      <td>1</td>\n",
       "      <td>0</td>\n",
       "      <td>2</td>\n",
       "      <td>0</td>\n",
       "      <td>0</td>\n",
       "      <td>0</td>\n",
       "      <td>5</td>\n",
       "      <td>...</td>\n",
       "      <td>0</td>\n",
       "      <td>0</td>\n",
       "      <td>0</td>\n",
       "      <td>0</td>\n",
       "      <td>0</td>\n",
       "      <td>0</td>\n",
       "      <td>0</td>\n",
       "      <td>1</td>\n",
       "      <td>0</td>\n",
       "      <td>0</td>\n",
       "    </tr>\n",
       "    <tr>\n",
       "      <th>3</th>\n",
       "      <td>0</td>\n",
       "      <td>0</td>\n",
       "      <td>2</td>\n",
       "      <td>0</td>\n",
       "      <td>0</td>\n",
       "      <td>0</td>\n",
       "      <td>1</td>\n",
       "      <td>0</td>\n",
       "      <td>0</td>\n",
       "      <td>0</td>\n",
       "      <td>...</td>\n",
       "      <td>1</td>\n",
       "      <td>2</td>\n",
       "      <td>0</td>\n",
       "      <td>0</td>\n",
       "      <td>0</td>\n",
       "      <td>0</td>\n",
       "      <td>1</td>\n",
       "      <td>0</td>\n",
       "      <td>6</td>\n",
       "      <td>5</td>\n",
       "    </tr>\n",
       "    <tr>\n",
       "      <th>4</th>\n",
       "      <td>0</td>\n",
       "      <td>0</td>\n",
       "      <td>0</td>\n",
       "      <td>3</td>\n",
       "      <td>0</td>\n",
       "      <td>0</td>\n",
       "      <td>0</td>\n",
       "      <td>0</td>\n",
       "      <td>0</td>\n",
       "      <td>0</td>\n",
       "      <td>...</td>\n",
       "      <td>0</td>\n",
       "      <td>0</td>\n",
       "      <td>0</td>\n",
       "      <td>0</td>\n",
       "      <td>0</td>\n",
       "      <td>0</td>\n",
       "      <td>0</td>\n",
       "      <td>0</td>\n",
       "      <td>2</td>\n",
       "      <td>2</td>\n",
       "    </tr>\n",
       "  </tbody>\n",
       "</table>\n",
       "<p>5 rows × 10074 columns</p>\n",
       "</div>"
      ],
      "text/plain": [
       "   abajo  abierto  about  abrazo  abrazo mencion  abrazos  abre  abril  abrir  \\\n",
       "0      0        0      0       1               0        0     0      0      0   \n",
       "1      2        0      0       4               1        0     0      0      0   \n",
       "2      0        0      1       1               0        2     0      0      0   \n",
       "3      0        0      2       0               0        0     1      0      0   \n",
       "4      0        0      0       3               0        0     0      0      0   \n",
       "\n",
       "   absolutamente  ...  última  últimamente  últimas  últimas horas  \\\n",
       "0              0  ...       0            0        0              0   \n",
       "1              0  ...       0            0        0              0   \n",
       "2              5  ...       0            0        0              0   \n",
       "3              0  ...       1            2        0              0   \n",
       "4              0  ...       0            0        0              0   \n",
       "\n",
       "   últimas horas enlace  último  últimos  única  único  único que  \n",
       "0                     0       0        0      0      1          0  \n",
       "1                     0       0        0      3      2          2  \n",
       "2                     0       0        0      1      0          0  \n",
       "3                     0       0        1      0      6          5  \n",
       "4                     0       0        0      0      2          2  \n",
       "\n",
       "[5 rows x 10074 columns]"
      ]
     },
     "execution_count": 144,
     "metadata": {},
     "output_type": "execute_result"
    }
   ],
   "source": [
    "X_final = pd.concat([X,X_LIWC, X_tfidf], axis=1)\n",
    "X_final.head()"
   ]
  },
  {
   "cell_type": "code",
   "execution_count": 145,
   "metadata": {
    "ExecuteTime": {
     "end_time": "2020-09-08T11:26:23.366934Z",
     "start_time": "2020-09-08T11:21:25.546144Z"
    }
   },
   "outputs": [
    {
     "data": {
      "image/png": "[encoded data removed]",
      "text/plain": [
       "<Figure size 432x288 with 1 Axes>"
      ]
     },
     "metadata": {
      "needs_background": "light"
     },
     "output_type": "display_data"
    }
   ],
   "source": [
    "# ELEGIR NUMERO DE COMPONENTES \n",
    "from sklearn.decomposition import PCA\n",
    "pca = PCA(n_components = None)                  #None para ver cuantos son utiles \n",
    "pca.fit(X_final)\n",
    "varianza_explicada = pd.DataFrame(pca.explained_variance_ratio_).cumsum()\n",
    "\n",
    "#Graficar varianza explicada con los componentes\n",
    "import seaborn as sns \n",
    "import matplotlib.pyplot as plt\n",
    "a = varianza_explicada.reset_index()\n",
    "sns.lineplot(x=a[\"index\"], y =a[0])\n",
    "sns.scatterplot(x=a[\"index\"], y =a[0])\n",
    "plt.title('Varianza explicada')\n",
    "plt.xlabel('Componentes')\n",
    "plt.ylabel('Varianza_explicada')\n",
    "plt.grid()\n",
    "plt.show()"
   ]
  },
  {
   "cell_type": "code",
   "execution_count": 158,
   "metadata": {
    "ExecuteTime": {
     "end_time": "2020-09-08T11:28:42.699355Z",
     "start_time": "2020-09-08T11:28:42.692345Z"
    }
   },
   "outputs": [
    {
     "data": {
      "text/plain": [
       "100     0.960382\n",
       "200     0.974699\n",
       "300     0.980927\n",
       "600     0.988980\n",
       "500     0.987114\n",
       "600     0.988980\n",
       "700     0.990433\n",
       "800     0.991606\n",
       "900     0.992578\n",
       "1000    0.993399\n",
       "Name: 0, dtype: float64"
      ]
     },
     "execution_count": 158,
     "metadata": {},
     "output_type": "execute_result"
    }
   ],
   "source": [
    "varianza_explicada[0].iloc[[100,200,300,600,500,600,700,800,900,1000]]"
   ]
  },
  {
   "cell_type": "code",
   "execution_count": 159,
   "metadata": {
    "ExecuteTime": {
     "end_time": "2020-09-08T11:29:16.990105Z",
     "start_time": "2020-09-08T11:28:58.765725Z"
    }
   },
   "outputs": [],
   "source": [
    "from sklearn.decomposition import PCA\n",
    "pca = PCA(n_components = 500)                  #None para ver cuantos son utiles \n",
    "X_PCA = pd.DataFrame(pca.fit_transform(X_final))"
   ]
  },
  {
   "cell_type": "code",
   "execution_count": 160,
   "metadata": {
    "ExecuteTime": {
     "end_time": "2020-09-08T11:31:28.988753Z",
     "start_time": "2020-09-08T11:29:26.657296Z"
    }
   },
   "outputs": [
    {
     "data": {
      "application/vnd.jupyter.widget-view+json": {
       "model_id": "ff411a4db16940fc9f2e7d43e5389e03",
       "version_major": 2,
       "version_minor": 0
      },
      "text/plain": [
       "HBox(children=(FloatProgress(value=0.0, max=4.0), HTML(value='')))"
      ]
     },
     "metadata": {},
     "output_type": "display_data"
    },
    {
     "name": "stdout",
     "output_type": "stream",
     "text": [
      "\n",
      "KFOLD 1 Done\n"
     ]
    },
    {
     "data": {
      "application/vnd.jupyter.widget-view+json": {
       "model_id": "ef1c995cccfc4343983a74a6e511fbb8",
       "version_major": 2,
       "version_minor": 0
      },
      "text/plain": [
       "HBox(children=(FloatProgress(value=0.0, max=4.0), HTML(value='')))"
      ]
     },
     "metadata": {},
     "output_type": "display_data"
    },
    {
     "name": "stdout",
     "output_type": "stream",
     "text": [
      "\n",
      "KFOLD 2 Done\n"
     ]
    },
    {
     "data": {
      "application/vnd.jupyter.widget-view+json": {
       "model_id": "012e0d70844a479a95e6f3ff74fd7792",
       "version_major": 2,
       "version_minor": 0
      },
      "text/plain": [
       "HBox(children=(FloatProgress(value=0.0, max=4.0), HTML(value='')))"
      ]
     },
     "metadata": {},
     "output_type": "display_data"
    },
    {
     "name": "stdout",
     "output_type": "stream",
     "text": [
      "\n",
      "KFOLD 3 Done\n"
     ]
    },
    {
     "data": {
      "application/vnd.jupyter.widget-view+json": {
       "model_id": "9313482be6c1493485530273c8964620",
       "version_major": 2,
       "version_minor": 0
      },
      "text/plain": [
       "HBox(children=(FloatProgress(value=0.0, max=4.0), HTML(value='')))"
      ]
     },
     "metadata": {},
     "output_type": "display_data"
    },
    {
     "name": "stdout",
     "output_type": "stream",
     "text": [
      "\n",
      "KFOLD 4 Done\n"
     ]
    },
    {
     "data": {
      "application/vnd.jupyter.widget-view+json": {
       "model_id": "531a278250fa48e5ac7b9eeba0d6cca0",
       "version_major": 2,
       "version_minor": 0
      },
      "text/plain": [
       "HBox(children=(FloatProgress(value=0.0, max=4.0), HTML(value='')))"
      ]
     },
     "metadata": {},
     "output_type": "display_data"
    },
    {
     "name": "stdout",
     "output_type": "stream",
     "text": [
      "\n",
      "KFOLD 5 Done\n",
      "            Y_0       Y_1       Y_2       Y_3\n",
      "count  5.000000  5.000000  5.000000  5.000000\n",
      "mean   0.621788  0.566345  0.596987  0.555331\n",
      "std    0.022862  0.006561  0.017458  0.013237\n",
      "min    0.592746  0.558527  0.577517  0.543835\n",
      "25%    0.602934  0.563393  0.580355  0.545369\n",
      "50%    0.628601  0.563653  0.599808  0.551409\n",
      "75%    0.641446  0.571571  0.612694  0.559897\n",
      "max    0.643211  0.574580  0.614559  0.576146\n"
     ]
    },
    {
     "data": {
      "text/html": [
       "<div>\n",
       "<style scoped>\n",
       "    .dataframe tbody tr th:only-of-type {\n",
       "        vertical-align: middle;\n",
       "    }\n",
       "\n",
       "    .dataframe tbody tr th {\n",
       "        vertical-align: top;\n",
       "    }\n",
       "\n",
       "    .dataframe thead th {\n",
       "        text-align: right;\n",
       "    }\n",
       "</style>\n",
       "<table border=\"1\" class=\"dataframe\">\n",
       "  <thead>\n",
       "    <tr style=\"text-align: right;\">\n",
       "      <th></th>\n",
       "      <th>Y_0</th>\n",
       "      <th>Y_1</th>\n",
       "      <th>Y_2</th>\n",
       "      <th>Y_3</th>\n",
       "    </tr>\n",
       "  </thead>\n",
       "  <tbody>\n",
       "    <tr>\n",
       "      <th>0</th>\n",
       "      <td>0.641446</td>\n",
       "      <td>0.563393</td>\n",
       "      <td>0.599808</td>\n",
       "      <td>0.543835</td>\n",
       "    </tr>\n",
       "    <tr>\n",
       "      <th>1</th>\n",
       "      <td>0.602934</td>\n",
       "      <td>0.574580</td>\n",
       "      <td>0.614559</td>\n",
       "      <td>0.576146</td>\n",
       "    </tr>\n",
       "    <tr>\n",
       "      <th>2</th>\n",
       "      <td>0.628601</td>\n",
       "      <td>0.571571</td>\n",
       "      <td>0.577517</td>\n",
       "      <td>0.551409</td>\n",
       "    </tr>\n",
       "    <tr>\n",
       "      <th>3</th>\n",
       "      <td>0.643211</td>\n",
       "      <td>0.558527</td>\n",
       "      <td>0.612694</td>\n",
       "      <td>0.545369</td>\n",
       "    </tr>\n",
       "    <tr>\n",
       "      <th>4</th>\n",
       "      <td>0.592746</td>\n",
       "      <td>0.563653</td>\n",
       "      <td>0.580355</td>\n",
       "      <td>0.559897</td>\n",
       "    </tr>\n",
       "  </tbody>\n",
       "</table>\n",
       "</div>"
      ],
      "text/plain": [
       "        Y_0       Y_1       Y_2       Y_3\n",
       "0  0.641446  0.563393  0.599808  0.543835\n",
       "1  0.602934  0.574580  0.614559  0.576146\n",
       "2  0.628601  0.571571  0.577517  0.551409\n",
       "3  0.643211  0.558527  0.612694  0.545369\n",
       "4  0.592746  0.563653  0.580355  0.559897"
      ]
     },
     "execution_count": 160,
     "metadata": {},
     "output_type": "execute_result"
    }
   ],
   "source": [
    "resultados = LGBM_KFOLD(5, X_PCA,data[\"mbti\"])\n",
    "print(resultados.describe())\n",
    "resultados"
   ]
  },
  {
   "cell_type": "markdown",
   "metadata": {},
   "source": [
    "# Train and Save models"
   ]
  },
  {
   "cell_type": "code",
   "execution_count": 13,
   "metadata": {
    "ExecuteTime": {
     "end_time": "2020-09-08T13:41:50.774230Z",
     "start_time": "2020-09-08T13:41:21.872960Z"
    }
   },
   "outputs": [],
   "source": [
    "pickle.dump(vect, open( \"count_vectorizer_spanish.pkl\", \"wb\" ) )   # Save countvectorizer vect"
   ]
  },
  {
   "cell_type": "code",
   "execution_count": 35,
   "metadata": {
    "ExecuteTime": {
     "end_time": "2020-09-08T14:04:02.429946Z",
     "start_time": "2020-09-08T14:03:00.751448Z"
    }
   },
   "outputs": [
    {
     "name": "stdout",
     "output_type": "stream",
     "text": [
      "Done 0\n",
      "Done 1\n",
      "Done 2\n",
      "Done 3\n"
     ]
    }
   ],
   "source": [
    "from lightgbm import LGBMClassifier\n",
    "for i in range(4):\n",
    "    model =  LGBMClassifier(class_weight=\"balanced\")\n",
    "    model.fit(X.values,[x[i] for x in data[\"mbti\"]])\n",
    "    pickle.dump(model, open(f\"LGBM_SPANISH_{i}.pkl\",\"wb\"))  \n",
    "    print(f\"Done {i}\")"
   ]
  },
  {
   "cell_type": "code",
   "execution_count": 1,
   "metadata": {
    "ExecuteTime": {
     "end_time": "2020-09-08T14:38:09.441159Z",
     "start_time": "2020-09-08T14:37:53.388603Z"
    }
   },
   "outputs": [],
   "source": [
    "import pickle \n",
    "def models():\n",
    "    models = {}\n",
    "    models[\"english\"] = {}\n",
    "    models[\"spanish\"] = {}\n",
    "    models[\"spanish\"][\"vect\"] = pickle.load( open( \"count_vectorizer_spanish.pkl\", \"rb\" ) )\n",
    "    \n",
    "    for i in range(4):\n",
    "        models[\"spanish\"][f\"LGBM{i}\"] = pickle.load(open(f\"LGBM_SPANISH_{i}.pkl\",\"rb\") )\n",
    "        \n",
    "    return models \n",
    "\n",
    "modelos = models()"
   ]
  },
  {
   "cell_type": "code",
   "execution_count": 2,
   "metadata": {
    "ExecuteTime": {
     "end_time": "2020-09-08T14:38:12.938164Z",
     "start_time": "2020-09-08T14:38:12.919283Z"
    }
   },
   "outputs": [],
   "source": [
    "def get_personality(text,language):\n",
    "    \"\"\"['e' 'i']\n",
    "    ['n' 's']\n",
    "    ['f' 't']\n",
    "    ['j' 'p']\"\"\"\n",
    "    if language==\"spanish\":\n",
    "        personality = []\n",
    "        text_coded = modelos[language][\"vect\"].transform([text]).toarray()\n",
    "\n",
    "        for i in range(4):\n",
    "            model = modelos[\"spanish\"][f\"LGBM{i}\"]\n",
    "            y_pred = model.predict_proba(text_coded)\n",
    "            personality.append(y_pred)\n",
    "    return personality"
   ]
  },
  {
   "cell_type": "code",
   "execution_count": 3,
   "metadata": {
    "ExecuteTime": {
     "end_time": "2020-09-08T14:38:15.896067Z",
     "start_time": "2020-09-08T14:38:15.881097Z"
    }
   },
   "outputs": [
    {
     "data": {
      "text/plain": [
       "[array([[0.5864998, 0.4135002]]),\n",
       " array([[0.46714103, 0.53285897]]),\n",
       " array([[0.6194938, 0.3805062]]),\n",
       " array([[0.6409809, 0.3590191]])]"
      ]
     },
     "execution_count": 3,
     "metadata": {},
     "output_type": "execute_result"
    }
   ],
   "source": [
    "get_personality(\"I have a lot of friends\",\"spanish\")"
   ]
  }
 ],
 "metadata": {
  "hide_input": false,
  "kernelspec": {
   "display_name": "Python 3",
   "language": "python",
   "name": "python3"
  },
  "language_info": {
   "codemirror_mode": {
    "name": "ipython",
    "version": 3
   },
   "file_extension": ".py",
   "mimetype": "text/x-python",
   "name": "python",
   "nbconvert_exporter": "python",
   "pygments_lexer": "ipython3",
   "version": "3.7.6"
  },
  "toc": {
   "base_numbering": 1,
   "nav_menu": {},
   "number_sections": true,
   "sideBar": true,
   "skip_h1_title": false,
   "title_cell": "Table of Contents",
   "title_sidebar": "Contents",
   "toc_cell": false,
   "toc_position": {},
   "toc_section_display": true,
   "toc_window_display": false
  },
  "varInspector": {
   "cols": {
    "lenName": 16,
    "lenType": 16,
    "lenVar": 40
   },
   "kernels_config": {
    "python": {
     "delete_cmd_postfix": "",
     "delete_cmd_prefix": "del ",
     "library": "var_list.py",
     "varRefreshCmd": "print(var_dic_list())"
    },
    "r": {
     "delete_cmd_postfix": ") ",
     "delete_cmd_prefix": "rm(",
     "library": "var_list.r",
     "varRefreshCmd": "cat(var_dic_list()) "
    }
   },
   "position": {
    "height": "360.976px",
    "left": "1271.49px",
    "right": "20px",
    "top": "81px",
    "width": "342.969px"
   },
   "types_to_exclude": [
    "module",
    "function",
    "builtin_function_or_method",
    "instance",
    "_Feature"
   ],
   "window_display": true
  }
 },
 "nbformat": 4,
 "nbformat_minor": 4
}
