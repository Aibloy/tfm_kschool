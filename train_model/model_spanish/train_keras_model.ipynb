{
 "cells": [
  {
   "cell_type": "markdown",
   "metadata": {},
   "source": [
    "### Load Data"
   ]
  },
  {
   "cell_type": "code",
   "execution_count": 6,
   "metadata": {
    "ExecuteTime": {
     "end_time": "2020-09-08T17:20:14.039770Z",
     "start_time": "2020-09-08T17:19:42.280775Z"
    }
   },
   "outputs": [],
   "source": [
    "import pandas as pd\n",
    "columnas = [\"mbti\",\"clean_text\"]\n",
    "data = pd.read_csv(\"../data/data_spanish/data_spanish.csv\",usecols=columnas)\n",
    "data[\"mbti\"] = data[\"mbti\"].apply(lambda x: x.lower())\n",
    "\n",
    "a = data[\"clean_text\"].apply(lambda x: len(x.split()))\n",
    "filtro = a[(a>2500)&(a<10000)].index\n",
    "data = data.iloc[filtro]"
   ]
  },
  {
   "cell_type": "code",
   "execution_count": 8,
   "metadata": {
    "ExecuteTime": {
     "end_time": "2020-09-08T17:20:44.550543Z",
     "start_time": "2020-09-08T17:20:41.116723Z"
    }
   },
   "outputs": [
    {
     "data": {
      "image/png": "[encoded data removed]",
      "text/plain": [
       "<Figure size 432x288 with 1 Axes>"
      ]
     },
     "metadata": {
      "needs_background": "light"
     },
     "output_type": "display_data"
    }
   ],
   "source": [
    "a = data[\"clean_text\"].apply(lambda x: len(x.split()))\n",
    "a.plot(kind=\"hist\");"
   ]
  },
  {
   "cell_type": "markdown",
   "metadata": {},
   "source": [
    "### Code data"
   ]
  },
  {
   "cell_type": "code",
   "execution_count": null,
   "metadata": {},
   "outputs": [],
   "source": [
    "from keras.preprocessing.text import Tokenizer\n",
    "from keras.preprocessing.sequence import pad_sequences\n",
    "\n",
    "max_len = 1000\n",
    "\n",
    "#..........................................................................\n",
    "\n",
    "tokenizer = Tokenizer()\n",
    "tokenizer.fit_on_texts(data[\"clean_text\"])\n",
    "print(\"Tokenizer Ready\")\n",
    "\n",
    "min_frequency = 10\n",
    "remove_words = [w for w,c in tokenizer.word_counts.items() if c <= min_frequency]\n",
    "for word in remove_words:\n",
    "    del tokenizer.word_index[word]\n",
    "    del tokenizer.word_docs[word]\n",
    "    del tokenizer.word_counts[word]\n",
    "print(f\"Removed {len(remove_words)} words\")\n",
    "\n",
    "# Code\n",
    "X_seq  = tokenizer.texts_to_sequences(data[\"clean_text\"]) \n",
    "\n",
    "#Padding\n",
    "X_seq  = pad_sequences(X_seq, maxlen=max_len)\n",
    "\n",
    "vocab_shape=len(tokenizer.word_index) +1\n",
    "print(f\"Vocabulary: {vocab_shape}\")\n",
    "\n",
    "#..........................................................................\n",
    "\n",
    "# Code Y \n",
    "from keras.utils import to_categorical\n",
    "types = data[\"mbti\"].unique()\n",
    "Y = data[\"mbti\"].apply(lambda x: np.where(types==x)[0][0])\n",
    "Y= to_categorical(Y)"
   ]
  },
  {
   "cell_type": "code",
   "execution_count": 9,
   "metadata": {
    "ExecuteTime": {
     "end_time": "2020-09-08T17:22:14.187128Z",
     "start_time": "2020-09-08T17:20:52.359443Z"
    }
   },
   "outputs": [],
   "source": [
    "import sys\n",
    "sys.path.append('../Utilities/')\n",
    "from LIWC.LIWC_ES import LIWC_SPANISH\n",
    "X_LIWC = LIWC_SPANISH(data[\"clean_text\"])"
   ]
  },
  {
   "cell_type": "code",
   "execution_count": 10,
   "metadata": {
    "ExecuteTime": {
     "end_time": "2020-09-08T17:22:39.671365Z",
     "start_time": "2020-09-08T17:22:39.649393Z"
    }
   },
   "outputs": [
    {
     "data": {
      "text/html": [
       "<div>\n",
       "<style scoped>\n",
       "    .dataframe tbody tr th:only-of-type {\n",
       "        vertical-align: middle;\n",
       "    }\n",
       "\n",
       "    .dataframe tbody tr th {\n",
       "        vertical-align: top;\n",
       "    }\n",
       "\n",
       "    .dataframe thead th {\n",
       "        text-align: right;\n",
       "    }\n",
       "</style>\n",
       "<table border=\"1\" class=\"dataframe\">\n",
       "  <thead>\n",
       "    <tr style=\"text-align: right;\">\n",
       "      <th></th>\n",
       "      <th>Funct</th>\n",
       "      <th>TotPron</th>\n",
       "      <th>PronPer</th>\n",
       "      <th>Yo</th>\n",
       "      <th>Nosotro</th>\n",
       "      <th>TuUtd</th>\n",
       "      <th>ElElla</th>\n",
       "      <th>Ellos</th>\n",
       "      <th>PronImp</th>\n",
       "      <th>Articulo</th>\n",
       "      <th>...</th>\n",
       "      <th>Trabajo</th>\n",
       "      <th>Logro</th>\n",
       "      <th>Placer</th>\n",
       "      <th>Hogar</th>\n",
       "      <th>Dinero</th>\n",
       "      <th>Relig</th>\n",
       "      <th>Muerte</th>\n",
       "      <th>Asentir</th>\n",
       "      <th>NoFluen</th>\n",
       "      <th>Relleno</th>\n",
       "    </tr>\n",
       "  </thead>\n",
       "  <tbody>\n",
       "    <tr>\n",
       "      <th>0</th>\n",
       "      <td>0.412001</td>\n",
       "      <td>0.130845</td>\n",
       "      <td>0.076259</td>\n",
       "      <td>0.002408</td>\n",
       "      <td>0.005017</td>\n",
       "      <td>0.007626</td>\n",
       "      <td>0.066627</td>\n",
       "      <td>0.024483</td>\n",
       "      <td>0.054586</td>\n",
       "      <td>0.092314</td>\n",
       "      <td>...</td>\n",
       "      <td>0.026490</td>\n",
       "      <td>0.024684</td>\n",
       "      <td>0.006221</td>\n",
       "      <td>0.002810</td>\n",
       "      <td>0.010235</td>\n",
       "      <td>0.002408</td>\n",
       "      <td>0.001003</td>\n",
       "      <td>0.003612</td>\n",
       "      <td>0.000000</td>\n",
       "      <td>0.0</td>\n",
       "    </tr>\n",
       "    <tr>\n",
       "      <th>1</th>\n",
       "      <td>0.412649</td>\n",
       "      <td>0.163118</td>\n",
       "      <td>0.108641</td>\n",
       "      <td>0.054790</td>\n",
       "      <td>0.000313</td>\n",
       "      <td>0.013776</td>\n",
       "      <td>0.040701</td>\n",
       "      <td>0.010958</td>\n",
       "      <td>0.054477</td>\n",
       "      <td>0.061365</td>\n",
       "      <td>...</td>\n",
       "      <td>0.017220</td>\n",
       "      <td>0.014715</td>\n",
       "      <td>0.007514</td>\n",
       "      <td>0.001252</td>\n",
       "      <td>0.005322</td>\n",
       "      <td>0.001565</td>\n",
       "      <td>0.000313</td>\n",
       "      <td>0.002505</td>\n",
       "      <td>0.001565</td>\n",
       "      <td>0.0</td>\n",
       "    </tr>\n",
       "    <tr>\n",
       "      <th>2</th>\n",
       "      <td>0.459995</td>\n",
       "      <td>0.156243</td>\n",
       "      <td>0.095114</td>\n",
       "      <td>0.030210</td>\n",
       "      <td>0.003540</td>\n",
       "      <td>0.014515</td>\n",
       "      <td>0.050861</td>\n",
       "      <td>0.020887</td>\n",
       "      <td>0.061128</td>\n",
       "      <td>0.076587</td>\n",
       "      <td>...</td>\n",
       "      <td>0.017111</td>\n",
       "      <td>0.019707</td>\n",
       "      <td>0.011801</td>\n",
       "      <td>0.007435</td>\n",
       "      <td>0.005428</td>\n",
       "      <td>0.002478</td>\n",
       "      <td>0.001652</td>\n",
       "      <td>0.003186</td>\n",
       "      <td>0.000000</td>\n",
       "      <td>0.0</td>\n",
       "    </tr>\n",
       "    <tr>\n",
       "      <th>3</th>\n",
       "      <td>0.401235</td>\n",
       "      <td>0.131987</td>\n",
       "      <td>0.082567</td>\n",
       "      <td>0.038572</td>\n",
       "      <td>0.000151</td>\n",
       "      <td>0.004821</td>\n",
       "      <td>0.040982</td>\n",
       "      <td>0.010246</td>\n",
       "      <td>0.049420</td>\n",
       "      <td>0.070815</td>\n",
       "      <td>...</td>\n",
       "      <td>0.012204</td>\n",
       "      <td>0.014163</td>\n",
       "      <td>0.012506</td>\n",
       "      <td>0.004369</td>\n",
       "      <td>0.008890</td>\n",
       "      <td>0.001657</td>\n",
       "      <td>0.003616</td>\n",
       "      <td>0.005424</td>\n",
       "      <td>0.000000</td>\n",
       "      <td>0.0</td>\n",
       "    </tr>\n",
       "    <tr>\n",
       "      <th>4</th>\n",
       "      <td>0.483333</td>\n",
       "      <td>0.188415</td>\n",
       "      <td>0.121138</td>\n",
       "      <td>0.031098</td>\n",
       "      <td>0.003252</td>\n",
       "      <td>0.040447</td>\n",
       "      <td>0.050407</td>\n",
       "      <td>0.012398</td>\n",
       "      <td>0.067276</td>\n",
       "      <td>0.064837</td>\n",
       "      <td>...</td>\n",
       "      <td>0.018089</td>\n",
       "      <td>0.029675</td>\n",
       "      <td>0.009146</td>\n",
       "      <td>0.003455</td>\n",
       "      <td>0.003049</td>\n",
       "      <td>0.002439</td>\n",
       "      <td>0.000407</td>\n",
       "      <td>0.004675</td>\n",
       "      <td>0.000000</td>\n",
       "      <td>0.0</td>\n",
       "    </tr>\n",
       "  </tbody>\n",
       "</table>\n",
       "<p>5 rows × 74 columns</p>\n",
       "</div>"
      ],
      "text/plain": [
       "      Funct   TotPron   PronPer        Yo   Nosotro     TuUtd    ElElla  \\\n",
       "0  0.412001  0.130845  0.076259  0.002408  0.005017  0.007626  0.066627   \n",
       "1  0.412649  0.163118  0.108641  0.054790  0.000313  0.013776  0.040701   \n",
       "2  0.459995  0.156243  0.095114  0.030210  0.003540  0.014515  0.050861   \n",
       "3  0.401235  0.131987  0.082567  0.038572  0.000151  0.004821  0.040982   \n",
       "4  0.483333  0.188415  0.121138  0.031098  0.003252  0.040447  0.050407   \n",
       "\n",
       "      Ellos   PronImp  Articulo  ...   Trabajo     Logro    Placer     Hogar  \\\n",
       "0  0.024483  0.054586  0.092314  ...  0.026490  0.024684  0.006221  0.002810   \n",
       "1  0.010958  0.054477  0.061365  ...  0.017220  0.014715  0.007514  0.001252   \n",
       "2  0.020887  0.061128  0.076587  ...  0.017111  0.019707  0.011801  0.007435   \n",
       "3  0.010246  0.049420  0.070815  ...  0.012204  0.014163  0.012506  0.004369   \n",
       "4  0.012398  0.067276  0.064837  ...  0.018089  0.029675  0.009146  0.003455   \n",
       "\n",
       "     Dinero     Relig    Muerte   Asentir   NoFluen  Relleno  \n",
       "0  0.010235  0.002408  0.001003  0.003612  0.000000      0.0  \n",
       "1  0.005322  0.001565  0.000313  0.002505  0.001565      0.0  \n",
       "2  0.005428  0.002478  0.001652  0.003186  0.000000      0.0  \n",
       "3  0.008890  0.001657  0.003616  0.005424  0.000000      0.0  \n",
       "4  0.003049  0.002439  0.000407  0.004675  0.000000      0.0  \n",
       "\n",
       "[5 rows x 74 columns]"
      ]
     },
     "execution_count": 10,
     "metadata": {},
     "output_type": "execute_result"
    }
   ],
   "source": [
    "X_LIWC.head()"
   ]
  },
  {
   "cell_type": "markdown",
   "metadata": {},
   "source": [
    "### Cargar, filtrar y guardar embeddings:"
   ]
  },
  {
   "cell_type": "code",
   "execution_count": 9,
   "metadata": {
    "ExecuteTime": {
     "end_time": "2020-08-25T14:46:41.900304Z",
     "start_time": "2020-08-25T14:44:09.903052Z"
    }
   },
   "outputs": [
    {
     "data": {
      "application/vnd.jupyter.widget-view+json": {
       "model_id": "eeb8abd35bea4602b968b6cfca9180b3",
       "version_major": 2,
       "version_minor": 0
      },
      "text/plain": [
       "HBox(children=(FloatProgress(value=1.0, bar_style='info', max=1.0), HTML(value='')))"
      ]
     },
     "metadata": {},
     "output_type": "display_data"
    },
    {
     "name": "stdout",
     "output_type": "stream",
     "text": [
      "\n"
     ]
    }
   ],
   "source": [
    "import numpy as np\n",
    "from tqdm.notebook import tqdm\n",
    "\n",
    "ruta = '../Utilities/glove300spanish.vec'\n",
    "def load_embeddings(ruta):\n",
    "    f = open(ruta,'r', encoding=\"utf8\")\n",
    "    glove = {}\n",
    "    for line in tqdm(f):\n",
    "        splitLines = line.split()\n",
    "        word = splitLines[0]\n",
    "        wordEmbedding = np.array([float(value) for value in splitLines[1:]])\n",
    "        glove[word] = wordEmbedding\n",
    "    return glove\n",
    "\n",
    "embeddings_index = load_embeddings(ruta)"
   ]
  },
  {
   "cell_type": "code",
   "execution_count": 27,
   "metadata": {
    "ExecuteTime": {
     "end_time": "2020-08-25T15:00:41.369668Z",
     "start_time": "2020-08-25T15:00:40.840879Z"
    }
   },
   "outputs": [],
   "source": [
    "def filter_embeddings(vocab_shape,embeddings_index):\n",
    "    embedding_matrix = np.zeros((vocab_shape,300))\n",
    "    N = len(tokenizer.word_index.items())\n",
    "    for word, i in tokenizer.word_index.items():\n",
    "        embedding_vector = embeddings_index.get(word)\n",
    "        if embedding_vector is not None:\n",
    "            embedding_matrix[i] = embedding_vector\n",
    "    return embedding_matrix\n",
    "\n",
    "embedding_matrix = filter_embeddings(vocab_shape,embeddings_index)\n"
   ]
  },
  {
   "cell_type": "code",
   "execution_count": 29,
   "metadata": {
    "ExecuteTime": {
     "end_time": "2020-08-25T15:01:50.307895Z",
     "start_time": "2020-08-25T15:01:45.857852Z"
    }
   },
   "outputs": [],
   "source": [
    "import pickle \n",
    "\n",
    "with open (\"embedding_weights_spanish.pkl\",\"wb\") as f:\n",
    "    pickle.dump(embedding_matrix,f)\n"
   ]
  },
  {
   "cell_type": "markdown",
   "metadata": {},
   "source": [
    "### Load Embeddings:"
   ]
  },
  {
   "cell_type": "code",
   "execution_count": 19,
   "metadata": {
    "ExecuteTime": {
     "end_time": "2020-08-25T15:48:41.647376Z",
     "start_time": "2020-08-25T15:48:40.446112Z"
    }
   },
   "outputs": [],
   "source": [
    "import pickle\n",
    "embedding_matrix = pickle.load(open(\"embedding_weights_spanish.pkl\", \"rb\"))"
   ]
  },
  {
   "cell_type": "markdown",
   "metadata": {},
   "source": [
    "# Model"
   ]
  },
  {
   "cell_type": "code",
   "execution_count": 20,
   "metadata": {
    "ExecuteTime": {
     "end_time": "2020-08-25T15:48:55.059163Z",
     "start_time": "2020-08-25T15:48:50.095261Z"
    },
    "scrolled": false
   },
   "outputs": [
    {
     "name": "stdout",
     "output_type": "stream",
     "text": [
      "Model: \"model_4\"\n",
      "__________________________________________________________________________________________________\n",
      "Layer (type)                    Output Shape         Param #     Connected to                     \n",
      "==================================================================================================\n",
      "Texto (InputLayer)              (None, 10000)        0                                            \n",
      "__________________________________________________________________________________________________\n",
      "embedding_5 (Embedding)         (None, 10000, 300)   47909400    Texto[0][0]                      \n",
      "__________________________________________________________________________________________________\n",
      "spatial_dropout1d_5 (SpatialDro (None, 10000, 300)   0           embedding_5[0][0]                \n",
      "__________________________________________________________________________________________________\n",
      "CONV1D1 (Conv1D)                (None, 10000, 128)   38528       spatial_dropout1d_5[0][0]        \n",
      "__________________________________________________________________________________________________\n",
      "CONV1D2 (Conv1D)                (None, 9999, 128)    76928       spatial_dropout1d_5[0][0]        \n",
      "__________________________________________________________________________________________________\n",
      "CONV1D3 (Conv1D)                (None, 9998, 128)    115328      spatial_dropout1d_5[0][0]        \n",
      "__________________________________________________________________________________________________\n",
      "global_max_pooling1d_13 (Global (None, 128)          0           CONV1D1[0][0]                    \n",
      "__________________________________________________________________________________________________\n",
      "global_max_pooling1d_14 (Global (None, 128)          0           CONV1D2[0][0]                    \n",
      "__________________________________________________________________________________________________\n",
      "global_max_pooling1d_15 (Global (None, 128)          0           CONV1D3[0][0]                    \n",
      "__________________________________________________________________________________________________\n",
      "dropout_20 (Dropout)            (None, 128)          0           global_max_pooling1d_13[0][0]    \n",
      "__________________________________________________________________________________________________\n",
      "dropout_21 (Dropout)            (None, 128)          0           global_max_pooling1d_14[0][0]    \n",
      "__________________________________________________________________________________________________\n",
      "dropout_22 (Dropout)            (None, 128)          0           global_max_pooling1d_15[0][0]    \n",
      "__________________________________________________________________________________________________\n",
      "concatenate_8 (Concatenate)     (None, 384)          0           dropout_20[0][0]                 \n",
      "                                                                 dropout_21[0][0]                 \n",
      "                                                                 dropout_22[0][0]                 \n",
      "__________________________________________________________________________________________________\n",
      "LIWC (InputLayer)               (None, 74)           0                                            \n",
      "__________________________________________________________________________________________________\n",
      "DenseConcat128 (Dense)          (None, 128)          49280       concatenate_8[0][0]              \n",
      "__________________________________________________________________________________________________\n",
      "Dense64 (Dense)                 (None, 64)           4800        LIWC[0][0]                       \n",
      "__________________________________________________________________________________________________\n",
      "dropout_23 (Dropout)            (None, 128)          0           DenseConcat128[0][0]             \n",
      "__________________________________________________________________________________________________\n",
      "dropout_24 (Dropout)            (None, 64)           0           Dense64[0][0]                    \n",
      "__________________________________________________________________________________________________\n",
      "concatenate_9 (Concatenate)     (None, 192)          0           dropout_23[0][0]                 \n",
      "                                                                 dropout_24[0][0]                 \n",
      "__________________________________________________________________________________________________\n",
      "Dense128 (Dense)                (None, 128)          24704       concatenate_9[0][0]              \n",
      "__________________________________________________________________________________________________\n",
      "batch_normalization_4 (BatchNor (None, 128)          512         Dense128[0][0]                   \n",
      "__________________________________________________________________________________________________\n",
      "dense_4 (Dense)                 (None, 16)           2064        batch_normalization_4[0][0]      \n",
      "==================================================================================================\n",
      "Total params: 48,221,544\n",
      "Trainable params: 311,888\n",
      "Non-trainable params: 47,909,656\n",
      "__________________________________________________________________________________________________\n"
     ]
    },
    {
     "data": {
      "image/png": "[encoded data removed]",
      "text/plain": [
       "<IPython.core.display.Image object>"
      ]
     },
     "execution_count": 20,
     "metadata": {},
     "output_type": "execute_result"
    }
   ],
   "source": [
    "from keras.models import Model\n",
    "from keras.layers import Input, Embedding, Conv1D, GlobalMaxPooling1D, Dense, Concatenate,  BatchNormalization, SpatialDropout1D, Dropout\n",
    "from keras.utils import plot_model\n",
    "from keras.callbacks import EarlyStopping\n",
    "\n",
    "\n",
    "filter_sizes = [1,2,3]\n",
    "num_filters = 128\n",
    "embed_shape = 300\n",
    "dropout = 0.1\n",
    "dense_neurons = 128\n",
    "\n",
    "#Entrada\n",
    "entrada = Input(shape=(max_len,), name=\"Texto\")\n",
    "x = Embedding(vocab_shape, embed_shape, weights=[embedding_matrix], trainable=False)(entrada)\n",
    "x = SpatialDropout1D(dropout)(x)\n",
    "\n",
    "\n",
    "# BRANCH 1\n",
    "x1 = Conv1D(num_filters , filter_sizes[0], activation=\"relu\", name=\"CONV1D1\")(x)\n",
    "x1 = GlobalMaxPooling1D()(x1)\n",
    "x1 = Dropout(dropout)(x1)\n",
    "\n",
    "# BRANCH 2\n",
    "x2 = Conv1D(num_filters , filter_sizes[1], activation=\"relu\", name=\"CONV1D2\")(x)\n",
    "x2 = GlobalMaxPooling1D()(x2)\n",
    "x2 = Dropout(dropout)(x2)\n",
    "\n",
    "# BRANCH 3\n",
    "x3 = Conv1D(num_filters , filter_sizes[2], activation=\"relu\", name=\"CONV1D3\")(x)\n",
    "x3 = GlobalMaxPooling1D()(x3)\n",
    "x3 = Dropout(dropout)(x3)\n",
    "\n",
    "\n",
    "#First concat\n",
    "c1 = Concatenate()([x1,x2,x3])  \n",
    "c1 = Dense(dense_neurons,name=\"DenseConcat128\", activation=\"relu\")(c1)\n",
    "c1 = Dropout(dropout)(c1)\n",
    "\n",
    "\n",
    "#Entrada2 (LIWC)\n",
    "entrada2 = Input(shape=(X_LIWC.shape[1],),name=\"LIWC\")\n",
    "xe2 = Dense(64, name=\"Dense64\")(entrada2)\n",
    "xe2 = Dropout(dropout)(xe2)\n",
    "\n",
    "#Second concat\n",
    "x = Concatenate()([c1,xe2])\n",
    "x = Dense(128, name=\"Dense128\")(x)\n",
    "x = BatchNormalization()(x)\n",
    "salida = Dense(16, activation=\"softmax\")(x)\n",
    "\n",
    "\n",
    "model = Model(inputs=[entrada,entrada2], outputs=salida)\n",
    "model.compile(loss='categorical_crossentropy', optimizer='adam', metrics=['accuracy'])\n",
    "\n",
    "callbacks = EarlyStopping(monitor='val_loss', patience = 1,verbose=1)\n",
    "\n",
    "model.summary()\n",
    "plot_model(model)"
   ]
  },
  {
   "cell_type": "code",
   "execution_count": 17,
   "metadata": {
    "ExecuteTime": {
     "end_time": "2020-08-25T15:39:45.248714Z",
     "start_time": "2020-08-25T15:34:53.091962Z"
    }
   },
   "outputs": [
    {
     "name": "stdout",
     "output_type": "stream",
     "text": [
      "Train on 4053 samples, validate on 1014 samples\n",
      "Epoch 1/1000\n",
      "4053/4053 [==============================] - 60s 15ms/step - loss: 3.1063 - accuracy: 0.0748 - val_loss: 2.9746 - val_accuracy: 0.0631\n",
      "Epoch 2/1000\n",
      "4053/4053 [==============================] - 56s 14ms/step - loss: 2.7428 - accuracy: 0.1113 - val_loss: 2.9735 - val_accuracy: 0.0671\n",
      "Epoch 3/1000\n",
      "4053/4053 [==============================] - 64s 16ms/step - loss: 2.6804 - accuracy: 0.1325 - val_loss: 2.9385 - val_accuracy: 0.0483\n",
      "Epoch 4/1000\n",
      "4053/4053 [==============================] - 56s 14ms/step - loss: 2.6474 - accuracy: 0.1515 - val_loss: 2.6446 - val_accuracy: 0.1667\n",
      "Epoch 5/1000\n",
      "4053/4053 [==============================] - 56s 14ms/step - loss: 2.6056 - accuracy: 0.1636 - val_loss: 2.6453 - val_accuracy: 0.1568\n",
      "Epoch 00005: early stopping\n"
     ]
    }
   ],
   "source": [
    "history = model.fit([X_seq,X_LIWC],Y,\n",
    "                    batch_size=100,epochs=1000,\n",
    "                    validation_split=0.2,\n",
    "                    callbacks = [callbacks],\n",
    "                    verbose=1, shuffle=True)"
   ]
  }
 ],
 "metadata": {
  "hide_input": false,
  "kernelspec": {
   "display_name": "Python 3",
   "language": "python",
   "name": "python3"
  },
  "language_info": {
   "codemirror_mode": {
    "name": "ipython",
    "version": 3
   },
   "file_extension": ".py",
   "mimetype": "text/x-python",
   "name": "python",
   "nbconvert_exporter": "python",
   "pygments_lexer": "ipython3",
   "version": "3.7.6"
  },
  "toc": {
   "base_numbering": 1,
   "nav_menu": {},
   "number_sections": true,
   "sideBar": true,
   "skip_h1_title": false,
   "title_cell": "Table of Contents",
   "title_sidebar": "Contents",
   "toc_cell": false,
   "toc_position": {},
   "toc_section_display": true,
   "toc_window_display": false
  },
  "varInspector": {
   "cols": {
    "lenName": 16,
    "lenType": 16,
    "lenVar": 40
   },
   "kernels_config": {
    "python": {
     "delete_cmd_postfix": "",
     "delete_cmd_prefix": "del ",
     "library": "var_list.py",
     "varRefreshCmd": "print(var_dic_list())"
    },
    "r": {
     "delete_cmd_postfix": ") ",
     "delete_cmd_prefix": "rm(",
     "library": "var_list.r",
     "varRefreshCmd": "cat(var_dic_list()) "
    }
   },
   "position": {
    "height": "466.426px",
    "left": "1384.08px",
    "right": "20px",
    "top": "120px",
    "width": "303.418px"
   },
   "types_to_exclude": [
    "module",
    "function",
    "builtin_function_or_method",
    "instance",
    "_Feature"
   ],
   "window_display": true
  }
 },
 "nbformat": 4,
 "nbformat_minor": 4
}
