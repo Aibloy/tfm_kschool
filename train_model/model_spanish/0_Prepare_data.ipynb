{
 "cells": [
  {
   "cell_type": "markdown",
   "metadata": {},
   "source": [
    "### Cargar y mapear usuarios:"
   ]
  },
  {
   "cell_type": "code",
   "execution_count": 50,
   "metadata": {
    "ExecuteTime": {
     "end_time": "2020-09-08T08:56:26.655946Z",
     "start_time": "2020-09-08T08:56:26.653594Z"
    }
   },
   "outputs": [],
   "source": [
    "import warnings\n",
    "warnings.filterwarnings(\"ignore\")"
   ]
  },
  {
   "cell_type": "code",
   "execution_count": 51,
   "metadata": {
    "ExecuteTime": {
     "end_time": "2020-09-08T08:56:35.941777Z",
     "start_time": "2020-09-08T08:56:28.351003Z"
    }
   },
   "outputs": [
    {
     "data": {
      "text/html": [
       "<div>\n",
       "<style scoped>\n",
       "    .dataframe tbody tr th:only-of-type {\n",
       "        vertical-align: middle;\n",
       "    }\n",
       "\n",
       "    .dataframe tbody tr th {\n",
       "        vertical-align: top;\n",
       "    }\n",
       "\n",
       "    .dataframe thead th {\n",
       "        text-align: right;\n",
       "    }\n",
       "</style>\n",
       "<table border=\"1\" class=\"dataframe\">\n",
       "  <thead>\n",
       "    <tr style=\"text-align: right;\">\n",
       "      <th></th>\n",
       "      <th>user_id</th>\n",
       "      <th>mbti</th>\n",
       "    </tr>\n",
       "  </thead>\n",
       "  <tbody>\n",
       "    <tr>\n",
       "      <th>0</th>\n",
       "      <td>54056853</td>\n",
       "      <td>ENTJ</td>\n",
       "    </tr>\n",
       "    <tr>\n",
       "      <th>1</th>\n",
       "      <td>2573243225</td>\n",
       "      <td>INFP</td>\n",
       "    </tr>\n",
       "    <tr>\n",
       "      <th>2</th>\n",
       "      <td>399751937</td>\n",
       "      <td>INTP</td>\n",
       "    </tr>\n",
       "    <tr>\n",
       "      <th>3</th>\n",
       "      <td>541982091</td>\n",
       "      <td>INFJ</td>\n",
       "    </tr>\n",
       "    <tr>\n",
       "      <th>4</th>\n",
       "      <td>70392126</td>\n",
       "      <td>ISTJ</td>\n",
       "    </tr>\n",
       "    <tr>\n",
       "      <th>...</th>\n",
       "      <td>...</td>\n",
       "      <td>...</td>\n",
       "    </tr>\n",
       "    <tr>\n",
       "      <th>10767</th>\n",
       "      <td>165848831</td>\n",
       "      <td>ENFP</td>\n",
       "    </tr>\n",
       "    <tr>\n",
       "      <th>10768</th>\n",
       "      <td>128377140</td>\n",
       "      <td>INFJ</td>\n",
       "    </tr>\n",
       "    <tr>\n",
       "      <th>10769</th>\n",
       "      <td>122450877</td>\n",
       "      <td>ESFJ</td>\n",
       "    </tr>\n",
       "    <tr>\n",
       "      <th>10770</th>\n",
       "      <td>248404858</td>\n",
       "      <td>ENTJ</td>\n",
       "    </tr>\n",
       "    <tr>\n",
       "      <th>10771</th>\n",
       "      <td>13720992</td>\n",
       "      <td>ISTJ</td>\n",
       "    </tr>\n",
       "  </tbody>\n",
       "</table>\n",
       "<p>10772 rows × 2 columns</p>\n",
       "</div>"
      ],
      "text/plain": [
       "          user_id  mbti\n",
       "0        54056853  ENTJ\n",
       "1      2573243225  INFP\n",
       "2       399751937  INTP\n",
       "3       541982091  INFJ\n",
       "4        70392126  ISTJ\n",
       "...           ...   ...\n",
       "10767   165848831  ENFP\n",
       "10768   128377140  INFJ\n",
       "10769   122450877  ESFJ\n",
       "10770   248404858  ENTJ\n",
       "10771    13720992  ISTJ\n",
       "\n",
       "[10772 rows x 2 columns]"
      ]
     },
     "execution_count": 51,
     "metadata": {},
     "output_type": "execute_result"
    }
   ],
   "source": [
    "import pandas as pd\n",
    "columnas = [\"user_id\",\"mbti\"]\n",
    "data = pd.read_json(\"../data/data_spanish/TwiSty-ES.json\",orient=\"index\")\n",
    "data = data[columnas].reset_index(drop=True)\n",
    "data"
   ]
  },
  {
   "cell_type": "code",
   "execution_count": 52,
   "metadata": {
    "ExecuteTime": {
     "end_time": "2020-09-08T08:56:56.532334Z",
     "start_time": "2020-09-08T08:56:35.960695Z"
    }
   },
   "outputs": [],
   "source": [
    "with open(\"../data/data_spanish/tweets.json\", \"r\") as f1:\n",
    "    corpus = json.load(f1)\n",
    "    f1.close()"
   ]
  },
  {
   "cell_type": "code",
   "execution_count": 53,
   "metadata": {
    "ExecuteTime": {
     "end_time": "2020-09-08T08:57:42.604894Z",
     "start_time": "2020-09-08T08:57:42.525107Z"
    }
   },
   "outputs": [],
   "source": [
    "# Juntar ID de usuarios y tipo con tweets guardados en corpus\n",
    "data[\"corpus\"] = data[\"user_id\"].apply(lambda x: corpus[str(x)])\n",
    "\n",
    "data[\"n_texts\"] = data[\"corpus\"].apply(lambda x: len(x))\n",
    "\n",
    "data = data[data[\"n_texts\"]!=0]\n",
    "\n",
    "del corpus "
   ]
  },
  {
   "cell_type": "code",
   "execution_count": 54,
   "metadata": {
    "ExecuteTime": {
     "end_time": "2020-09-08T08:57:58.516393Z",
     "start_time": "2020-09-08T08:57:42.646782Z"
    }
   },
   "outputs": [],
   "source": [
    "def count_words(x):\n",
    "    n = 0\n",
    "    for lista in x: \n",
    "        words_i = len(lista.split())\n",
    "        n += words_i\n",
    "    return n\n",
    "\n",
    "\n",
    "data[\"n_words\"] = data[\"corpus\"].apply(lambda x: count_words(x))"
   ]
  },
  {
   "cell_type": "code",
   "execution_count": 55,
   "metadata": {
    "ExecuteTime": {
     "end_time": "2020-09-08T08:57:58.593672Z",
     "start_time": "2020-09-08T08:57:58.559665Z"
    }
   },
   "outputs": [
    {
     "name": "stdout",
     "output_type": "stream",
     "text": [
      "(8900, 5)\n"
     ]
    },
    {
     "data": {
      "text/html": [
       "<div>\n",
       "<style scoped>\n",
       "    .dataframe tbody tr th:only-of-type {\n",
       "        vertical-align: middle;\n",
       "    }\n",
       "\n",
       "    .dataframe tbody tr th {\n",
       "        vertical-align: top;\n",
       "    }\n",
       "\n",
       "    .dataframe thead th {\n",
       "        text-align: right;\n",
       "    }\n",
       "</style>\n",
       "<table border=\"1\" class=\"dataframe\">\n",
       "  <thead>\n",
       "    <tr style=\"text-align: right;\">\n",
       "      <th></th>\n",
       "      <th>user_id</th>\n",
       "      <th>mbti</th>\n",
       "      <th>corpus</th>\n",
       "      <th>n_texts</th>\n",
       "      <th>n_words</th>\n",
       "    </tr>\n",
       "  </thead>\n",
       "  <tbody>\n",
       "    <tr>\n",
       "      <th>0</th>\n",
       "      <td>54056853</td>\n",
       "      <td>ENTJ</td>\n",
       "      <td>[@IvoCaracas Que mirada tan interesante la de ...</td>\n",
       "      <td>2120</td>\n",
       "      <td>16748</td>\n",
       "    </tr>\n",
       "    <tr>\n",
       "      <th>1</th>\n",
       "      <td>2573243225</td>\n",
       "      <td>INFP</td>\n",
       "      <td>[:(, ¿Algún día... podré ser bonita? :(, 😍😍😍😍😍...</td>\n",
       "      <td>1571</td>\n",
       "      <td>11279</td>\n",
       "    </tr>\n",
       "    <tr>\n",
       "      <th>3</th>\n",
       "      <td>541982091</td>\n",
       "      <td>INFJ</td>\n",
       "      <td>[8 o 9... y porque Iroh está con el que está, ...</td>\n",
       "      <td>1022</td>\n",
       "      <td>25013</td>\n",
       "    </tr>\n",
       "    <tr>\n",
       "      <th>4</th>\n",
       "      <td>70392126</td>\n",
       "      <td>ISTJ</td>\n",
       "      <td>[Cinco años sin participar de un día como este...</td>\n",
       "      <td>1636</td>\n",
       "      <td>25549</td>\n",
       "    </tr>\n",
       "    <tr>\n",
       "      <th>5</th>\n",
       "      <td>30972914</td>\n",
       "      <td>ENTP</td>\n",
       "      <td>[Acabo de terminar de ver Gilmore Girls por mi...</td>\n",
       "      <td>2125</td>\n",
       "      <td>23108</td>\n",
       "    </tr>\n",
       "  </tbody>\n",
       "</table>\n",
       "</div>"
      ],
      "text/plain": [
       "      user_id  mbti                                             corpus  \\\n",
       "0    54056853  ENTJ  [@IvoCaracas Que mirada tan interesante la de ...   \n",
       "1  2573243225  INFP  [:(, ¿Algún día... podré ser bonita? :(, 😍😍😍😍😍...   \n",
       "3   541982091  INFJ  [8 o 9... y porque Iroh está con el que está, ...   \n",
       "4    70392126  ISTJ  [Cinco años sin participar de un día como este...   \n",
       "5    30972914  ENTP  [Acabo de terminar de ver Gilmore Girls por mi...   \n",
       "\n",
       "   n_texts  n_words  \n",
       "0     2120    16748  \n",
       "1     1571    11279  \n",
       "3     1022    25013  \n",
       "4     1636    25549  \n",
       "5     2125    23108  "
      ]
     },
     "execution_count": 55,
     "metadata": {},
     "output_type": "execute_result"
    }
   ],
   "source": [
    "print(data.shape)\n",
    "data.head()"
   ]
  },
  {
   "cell_type": "code",
   "execution_count": 79,
   "metadata": {
    "ExecuteTime": {
     "end_time": "2020-08-25T09:35:58.428079Z",
     "start_time": "2020-08-25T09:35:56.342487Z"
    }
   },
   "outputs": [
    {
     "data": {
      "image/png": "[encoded data removed]",
      "text/plain": [
       "<Figure size 432x288 with 1 Axes>"
      ]
     },
     "metadata": {
      "needs_background": "light"
     },
     "output_type": "display_data"
    }
   ],
   "source": [
    "#Distribución de total de palabras por usuario:\n",
    "data[\"n_words\"].plot(kind=\"hist\",bins=1000);"
   ]
  },
  {
   "cell_type": "code",
   "execution_count": 21,
   "metadata": {
    "ExecuteTime": {
     "end_time": "2020-09-08T08:45:34.033400Z",
     "start_time": "2020-09-08T08:45:32.465763Z"
    }
   },
   "outputs": [
    {
     "data": {
      "text/plain": [
       "(7313,)"
      ]
     },
     "execution_count": 21,
     "metadata": {},
     "output_type": "execute_result"
    },
    {
     "data": {
      "image/png": "[encoded data removed]",
      "text/plain": [
       "<Figure size 432x288 with 1 Axes>"
      ]
     },
     "metadata": {
      "needs_background": "light"
     },
     "output_type": "display_data"
    }
   ],
   "source": [
    "a = data[\"n_texts\"]\n",
    "b = a[(a>500)]\n",
    "b.plot(kind=\"hist\", bins = 1000);\n",
    "b.shape"
   ]
  },
  {
   "cell_type": "code",
   "execution_count": 69,
   "metadata": {
    "ExecuteTime": {
     "end_time": "2020-08-25T09:33:38.395146Z",
     "start_time": "2020-08-25T09:33:35.867313Z"
    }
   },
   "outputs": [
    {
     "data": {
      "image/png": "[encoded data removed]",
      "text/plain": [
       "<Figure size 432x288 with 1 Axes>"
      ]
     },
     "metadata": {
      "needs_background": "light"
     },
     "output_type": "display_data"
    }
   ],
   "source": [
    "# Distribución de total de palabras medias por comentario: \n",
    "a = data[\"n_words\"]/data[\"n_texts\"]\n",
    "data[\"mean_words\"] = a\n",
    "a.plot(kind=\"hist\",bins=1000);\n",
    "del a "
   ]
  },
  {
   "cell_type": "markdown",
   "metadata": {},
   "source": [
    "### Filtrar usuarios para obtener datos lo mas homogeneos posibles: "
   ]
  },
  {
   "cell_type": "code",
   "execution_count": 120,
   "metadata": {
    "ExecuteTime": {
     "end_time": "2020-08-25T09:46:27.792536Z",
     "start_time": "2020-08-25T09:46:27.781960Z"
    }
   },
   "outputs": [],
   "source": [
    "a = data[(data[\"mean_words\"]>7) & (data[\"mean_words\"]<15)]\n",
    "b = a[(a[\"n_words\"]>10000)&(a[\"n_words\"]<30000)]\n",
    "new_data = b.copy()\n",
    "del a,b"
   ]
  },
  {
   "cell_type": "code",
   "execution_count": 121,
   "metadata": {
    "ExecuteTime": {
     "end_time": "2020-08-25T09:46:30.741359Z",
     "start_time": "2020-08-25T09:46:30.541044Z"
    }
   },
   "outputs": [
    {
     "data": {
      "image/png": "[encoded data removed]",
      "text/plain": [
       "<Figure size 432x288 with 1 Axes>"
      ]
     },
     "metadata": {
      "needs_background": "light"
     },
     "output_type": "display_data"
    }
   ],
   "source": [
    "#Distribución de total de palabras por usuario:\n",
    "new_data[\"n_words\"].plot(kind=\"hist\",bins=100);"
   ]
  },
  {
   "cell_type": "code",
   "execution_count": 122,
   "metadata": {
    "ExecuteTime": {
     "end_time": "2020-08-25T09:46:32.531644Z",
     "start_time": "2020-08-25T09:46:32.328128Z"
    }
   },
   "outputs": [
    {
     "data": {
      "image/png": "[encoded data removed]",
      "text/plain": [
       "<Figure size 432x288 with 1 Axes>"
      ]
     },
     "metadata": {
      "needs_background": "light"
     },
     "output_type": "display_data"
    }
   ],
   "source": [
    "#Distribución de total de palabras por usuario:\n",
    "new_data[\"mean_words\"].plot(kind=\"hist\",bins=100);"
   ]
  },
  {
   "cell_type": "code",
   "execution_count": 123,
   "metadata": {
    "ExecuteTime": {
     "end_time": "2020-08-25T09:46:40.035601Z",
     "start_time": "2020-08-25T09:46:40.031611Z"
    }
   },
   "outputs": [
    {
     "data": {
      "text/plain": [
       "(5067, 6)"
      ]
     },
     "execution_count": 123,
     "metadata": {},
     "output_type": "execute_result"
    }
   ],
   "source": [
    "new_data.shape"
   ]
  },
  {
   "cell_type": "markdown",
   "metadata": {},
   "source": [
    "De los 8 mil usuarios me quedaré con 5000 mil, obteniendo con ellos una distribución bastante mejor"
   ]
  },
  {
   "cell_type": "code",
   "execution_count": 159,
   "metadata": {
    "ExecuteTime": {
     "end_time": "2020-08-25T10:00:48.929505Z",
     "start_time": "2020-08-25T10:00:48.925516Z"
    }
   },
   "outputs": [],
   "source": [
    "data = new_data.reset_index(drop=True)"
   ]
  },
  {
   "cell_type": "markdown",
   "metadata": {},
   "source": [
    "### Juntar tweets"
   ]
  },
  {
   "cell_type": "code",
   "execution_count": 58,
   "metadata": {
    "ExecuteTime": {
     "end_time": "2020-09-08T09:02:35.442924Z",
     "start_time": "2020-09-08T09:02:35.424057Z"
    }
   },
   "outputs": [
    {
     "data": {
      "text/html": [
       "<div>\n",
       "<style scoped>\n",
       "    .dataframe tbody tr th:only-of-type {\n",
       "        vertical-align: middle;\n",
       "    }\n",
       "\n",
       "    .dataframe tbody tr th {\n",
       "        vertical-align: top;\n",
       "    }\n",
       "\n",
       "    .dataframe thead th {\n",
       "        text-align: right;\n",
       "    }\n",
       "</style>\n",
       "<table border=\"1\" class=\"dataframe\">\n",
       "  <thead>\n",
       "    <tr style=\"text-align: right;\">\n",
       "      <th></th>\n",
       "      <th>user_id</th>\n",
       "      <th>mbti</th>\n",
       "      <th>corpus</th>\n",
       "      <th>n_texts</th>\n",
       "      <th>n_words</th>\n",
       "    </tr>\n",
       "  </thead>\n",
       "  <tbody>\n",
       "    <tr>\n",
       "      <th>0</th>\n",
       "      <td>54056853</td>\n",
       "      <td>ENTJ</td>\n",
       "      <td>[@IvoCaracas Que mirada tan interesante la de ...</td>\n",
       "      <td>2120</td>\n",
       "      <td>16748</td>\n",
       "    </tr>\n",
       "    <tr>\n",
       "      <th>1</th>\n",
       "      <td>2573243225</td>\n",
       "      <td>INFP</td>\n",
       "      <td>[:(, ¿Algún día... podré ser bonita? :(, 😍😍😍😍😍...</td>\n",
       "      <td>1571</td>\n",
       "      <td>11279</td>\n",
       "    </tr>\n",
       "    <tr>\n",
       "      <th>3</th>\n",
       "      <td>541982091</td>\n",
       "      <td>INFJ</td>\n",
       "      <td>[8 o 9... y porque Iroh está con el que está, ...</td>\n",
       "      <td>1022</td>\n",
       "      <td>25013</td>\n",
       "    </tr>\n",
       "    <tr>\n",
       "      <th>4</th>\n",
       "      <td>70392126</td>\n",
       "      <td>ISTJ</td>\n",
       "      <td>[Cinco años sin participar de un día como este...</td>\n",
       "      <td>1636</td>\n",
       "      <td>25549</td>\n",
       "    </tr>\n",
       "    <tr>\n",
       "      <th>5</th>\n",
       "      <td>30972914</td>\n",
       "      <td>ENTP</td>\n",
       "      <td>[Acabo de terminar de ver Gilmore Girls por mi...</td>\n",
       "      <td>2125</td>\n",
       "      <td>23108</td>\n",
       "    </tr>\n",
       "  </tbody>\n",
       "</table>\n",
       "</div>"
      ],
      "text/plain": [
       "      user_id  mbti                                             corpus  \\\n",
       "0    54056853  ENTJ  [@IvoCaracas Que mirada tan interesante la de ...   \n",
       "1  2573243225  INFP  [:(, ¿Algún día... podré ser bonita? :(, 😍😍😍😍😍...   \n",
       "3   541982091  INFJ  [8 o 9... y porque Iroh está con el que está, ...   \n",
       "4    70392126  ISTJ  [Cinco años sin participar de un día como este...   \n",
       "5    30972914  ENTP  [Acabo de terminar de ver Gilmore Girls por mi...   \n",
       "\n",
       "   n_texts  n_words  \n",
       "0     2120    16748  \n",
       "1     1571    11279  \n",
       "3     1022    25013  \n",
       "4     1636    25549  \n",
       "5     2125    23108  "
      ]
     },
     "execution_count": 58,
     "metadata": {},
     "output_type": "execute_result"
    }
   ],
   "source": [
    "data.head()"
   ]
  },
  {
   "cell_type": "code",
   "execution_count": 59,
   "metadata": {
    "ExecuteTime": {
     "end_time": "2020-09-08T09:02:47.887167Z",
     "start_time": "2020-09-08T09:02:47.533615Z"
    }
   },
   "outputs": [],
   "source": [
    "data[\"texts\"] = data[\"corpus\"].apply(lambda x: x[:500])  # Quedarse solo los primeros 500 Tweets "
   ]
  },
  {
   "cell_type": "code",
   "execution_count": 60,
   "metadata": {
    "ExecuteTime": {
     "end_time": "2020-09-08T09:02:58.630803Z",
     "start_time": "2020-09-08T09:02:58.065737Z"
    }
   },
   "outputs": [],
   "source": [
    "data[\"texts\"] = data[\"texts\"].apply(lambda x: \" \".join(x))  #Juntar Tweets "
   ]
  },
  {
   "cell_type": "markdown",
   "metadata": {},
   "source": [
    "## Clean texts:"
   ]
  },
  {
   "cell_type": "markdown",
   "metadata": {},
   "source": [
    "### Eliminar enlaces y hashtags"
   ]
  },
  {
   "cell_type": "code",
   "execution_count": 61,
   "metadata": {
    "ExecuteTime": {
     "end_time": "2020-09-08T09:03:01.624890Z",
     "start_time": "2020-09-08T09:03:01.608931Z"
    }
   },
   "outputs": [
    {
     "data": {
      "text/html": [
       "<div>\n",
       "<style scoped>\n",
       "    .dataframe tbody tr th:only-of-type {\n",
       "        vertical-align: middle;\n",
       "    }\n",
       "\n",
       "    .dataframe tbody tr th {\n",
       "        vertical-align: top;\n",
       "    }\n",
       "\n",
       "    .dataframe thead th {\n",
       "        text-align: right;\n",
       "    }\n",
       "</style>\n",
       "<table border=\"1\" class=\"dataframe\">\n",
       "  <thead>\n",
       "    <tr style=\"text-align: right;\">\n",
       "      <th></th>\n",
       "      <th>user_id</th>\n",
       "      <th>mbti</th>\n",
       "      <th>corpus</th>\n",
       "      <th>n_texts</th>\n",
       "      <th>n_words</th>\n",
       "      <th>texts</th>\n",
       "    </tr>\n",
       "  </thead>\n",
       "  <tbody>\n",
       "    <tr>\n",
       "      <th>0</th>\n",
       "      <td>54056853</td>\n",
       "      <td>ENTJ</td>\n",
       "      <td>[@IvoCaracas Que mirada tan interesante la de ...</td>\n",
       "      <td>2120</td>\n",
       "      <td>16748</td>\n",
       "      <td>@IvoCaracas Que mirada tan interesante la de P...</td>\n",
       "    </tr>\n",
       "    <tr>\n",
       "      <th>1</th>\n",
       "      <td>2573243225</td>\n",
       "      <td>INFP</td>\n",
       "      <td>[:(, ¿Algún día... podré ser bonita? :(, 😍😍😍😍😍...</td>\n",
       "      <td>1571</td>\n",
       "      <td>11279</td>\n",
       "      <td>:( ¿Algún día... podré ser bonita? :( 😍😍😍😍😍😍😍😍...</td>\n",
       "    </tr>\n",
       "    <tr>\n",
       "      <th>3</th>\n",
       "      <td>541982091</td>\n",
       "      <td>INFJ</td>\n",
       "      <td>[8 o 9... y porque Iroh está con el que está, ...</td>\n",
       "      <td>1022</td>\n",
       "      <td>25013</td>\n",
       "      <td>8 o 9... y porque Iroh está con el que está, s...</td>\n",
       "    </tr>\n",
       "    <tr>\n",
       "      <th>4</th>\n",
       "      <td>70392126</td>\n",
       "      <td>ISTJ</td>\n",
       "      <td>[Cinco años sin participar de un día como este...</td>\n",
       "      <td>1636</td>\n",
       "      <td>25549</td>\n",
       "      <td>Cinco años sin participar de un día como este....</td>\n",
       "    </tr>\n",
       "    <tr>\n",
       "      <th>5</th>\n",
       "      <td>30972914</td>\n",
       "      <td>ENTP</td>\n",
       "      <td>[Acabo de terminar de ver Gilmore Girls por mi...</td>\n",
       "      <td>2125</td>\n",
       "      <td>23108</td>\n",
       "      <td>Acabo de terminar de ver Gilmore Girls por mil...</td>\n",
       "    </tr>\n",
       "  </tbody>\n",
       "</table>\n",
       "</div>"
      ],
      "text/plain": [
       "      user_id  mbti                                             corpus  \\\n",
       "0    54056853  ENTJ  [@IvoCaracas Que mirada tan interesante la de ...   \n",
       "1  2573243225  INFP  [:(, ¿Algún día... podré ser bonita? :(, 😍😍😍😍😍...   \n",
       "3   541982091  INFJ  [8 o 9... y porque Iroh está con el que está, ...   \n",
       "4    70392126  ISTJ  [Cinco años sin participar de un día como este...   \n",
       "5    30972914  ENTP  [Acabo de terminar de ver Gilmore Girls por mi...   \n",
       "\n",
       "   n_texts  n_words                                              texts  \n",
       "0     2120    16748  @IvoCaracas Que mirada tan interesante la de P...  \n",
       "1     1571    11279  :( ¿Algún día... podré ser bonita? :( 😍😍😍😍😍😍😍😍...  \n",
       "3     1022    25013  8 o 9... y porque Iroh está con el que está, s...  \n",
       "4     1636    25549  Cinco años sin participar de un día como este....  \n",
       "5     2125    23108  Acabo de terminar de ver Gilmore Girls por mil...  "
      ]
     },
     "execution_count": 61,
     "metadata": {},
     "output_type": "execute_result"
    }
   ],
   "source": [
    "data.head()"
   ]
  },
  {
   "cell_type": "code",
   "execution_count": 71,
   "metadata": {
    "ExecuteTime": {
     "end_time": "2020-09-08T09:08:29.685124Z",
     "start_time": "2020-09-08T09:08:21.926731Z"
    }
   },
   "outputs": [],
   "source": [
    "mbti = ['intj', 'enfp', 'entp', 'intp', 'esfp', 'infp', 'infj', 'istp', 'istj', 'entj','enfj', 'isfj', 'estj', 'estp', 'isfp', 'esfj']\n",
    "def remove_mbti(x):\n",
    "    x = str(x)\n",
    "    for p in mbti:\n",
    "        if p in x:\n",
    "            x = x.replace(p, \" \")\n",
    "    return x\n",
    "\n",
    "data[\"clean_text\"] = data[\"texts\"].apply(lambda x: remove_mbti(x.lower()))"
   ]
  },
  {
   "cell_type": "code",
   "execution_count": 87,
   "metadata": {
    "ExecuteTime": {
     "end_time": "2020-09-08T09:16:43.383794Z",
     "start_time": "2020-09-08T09:16:43.378786Z"
    }
   },
   "outputs": [],
   "source": [
    "import re \n",
    "\n",
    "def clean_text(x):\n",
    "\n",
    "    x = x.lower()\n",
    "\n",
    "    x = re.compile('htt\\S+').sub(' enlace ',x)\n",
    "    x = re.compile('@\\S+').sub(' mencion ',x)\n",
    "    x = re.compile('#\\S+').sub(' hashtag ',x)\n",
    "    \n",
    "    x = re.sub(r\"[^a-zA-Z.áéíóúñ]\", ' ', x)\n",
    "    x = re.compile('jaja\\S+').sub(' jaja ',x) \n",
    "    x = re.sub(r\" +\", ' ', x)\n",
    "    return x\n"
   ]
  },
  {
   "cell_type": "code",
   "execution_count": 88,
   "metadata": {
    "ExecuteTime": {
     "end_time": "2020-09-08T09:17:32.863270Z",
     "start_time": "2020-09-08T09:16:46.279019Z"
    }
   },
   "outputs": [],
   "source": [
    "data[\"clean_text\"] = data[\"texts\"].apply(clean_text)"
   ]
  },
  {
   "cell_type": "code",
   "execution_count": 89,
   "metadata": {
    "ExecuteTime": {
     "end_time": "2020-09-08T09:21:01.873754Z",
     "start_time": "2020-09-08T09:21:01.851795Z"
    }
   },
   "outputs": [
    {
     "data": {
      "text/html": [
       "<div>\n",
       "<style scoped>\n",
       "    .dataframe tbody tr th:only-of-type {\n",
       "        vertical-align: middle;\n",
       "    }\n",
       "\n",
       "    .dataframe tbody tr th {\n",
       "        vertical-align: top;\n",
       "    }\n",
       "\n",
       "    .dataframe thead th {\n",
       "        text-align: right;\n",
       "    }\n",
       "</style>\n",
       "<table border=\"1\" class=\"dataframe\">\n",
       "  <thead>\n",
       "    <tr style=\"text-align: right;\">\n",
       "      <th></th>\n",
       "      <th>user_id</th>\n",
       "      <th>mbti</th>\n",
       "      <th>corpus</th>\n",
       "      <th>n_texts</th>\n",
       "      <th>n_words</th>\n",
       "      <th>texts</th>\n",
       "      <th>clean_text</th>\n",
       "    </tr>\n",
       "  </thead>\n",
       "  <tbody>\n",
       "    <tr>\n",
       "      <th>0</th>\n",
       "      <td>54056853</td>\n",
       "      <td>ENTJ</td>\n",
       "      <td>[@IvoCaracas Que mirada tan interesante la de ...</td>\n",
       "      <td>2120</td>\n",
       "      <td>16748</td>\n",
       "      <td>@IvoCaracas Que mirada tan interesante la de P...</td>\n",
       "      <td>mencion que mirada tan interesante la de plut...</td>\n",
       "    </tr>\n",
       "    <tr>\n",
       "      <th>1</th>\n",
       "      <td>2573243225</td>\n",
       "      <td>INFP</td>\n",
       "      <td>[:(, ¿Algún día... podré ser bonita? :(, 😍😍😍😍😍...</td>\n",
       "      <td>1571</td>\n",
       "      <td>11279</td>\n",
       "      <td>:( ¿Algún día... podré ser bonita? :( 😍😍😍😍😍😍😍😍...</td>\n",
       "      <td>algún día... podré ser bonita enlace tiempo d...</td>\n",
       "    </tr>\n",
       "    <tr>\n",
       "      <th>3</th>\n",
       "      <td>541982091</td>\n",
       "      <td>INFJ</td>\n",
       "      <td>[8 o 9... y porque Iroh está con el que está, ...</td>\n",
       "      <td>1022</td>\n",
       "      <td>25013</td>\n",
       "      <td>8 o 9... y porque Iroh está con el que está, s...</td>\n",
       "      <td>o ... y porque iroh está con el que está sino...</td>\n",
       "    </tr>\n",
       "    <tr>\n",
       "      <th>4</th>\n",
       "      <td>70392126</td>\n",
       "      <td>ISTJ</td>\n",
       "      <td>[Cinco años sin participar de un día como este...</td>\n",
       "      <td>1636</td>\n",
       "      <td>25549</td>\n",
       "      <td>Cinco años sin participar de un día como este....</td>\n",
       "      <td>cinco años sin participar de un día como este....</td>\n",
       "    </tr>\n",
       "    <tr>\n",
       "      <th>5</th>\n",
       "      <td>30972914</td>\n",
       "      <td>ENTP</td>\n",
       "      <td>[Acabo de terminar de ver Gilmore Girls por mi...</td>\n",
       "      <td>2125</td>\n",
       "      <td>23108</td>\n",
       "      <td>Acabo de terminar de ver Gilmore Girls por mil...</td>\n",
       "      <td>acabo de terminar de ver gilmore girls por mil...</td>\n",
       "    </tr>\n",
       "  </tbody>\n",
       "</table>\n",
       "</div>"
      ],
      "text/plain": [
       "      user_id  mbti                                             corpus  \\\n",
       "0    54056853  ENTJ  [@IvoCaracas Que mirada tan interesante la de ...   \n",
       "1  2573243225  INFP  [:(, ¿Algún día... podré ser bonita? :(, 😍😍😍😍😍...   \n",
       "3   541982091  INFJ  [8 o 9... y porque Iroh está con el que está, ...   \n",
       "4    70392126  ISTJ  [Cinco años sin participar de un día como este...   \n",
       "5    30972914  ENTP  [Acabo de terminar de ver Gilmore Girls por mi...   \n",
       "\n",
       "   n_texts  n_words                                              texts  \\\n",
       "0     2120    16748  @IvoCaracas Que mirada tan interesante la de P...   \n",
       "1     1571    11279  :( ¿Algún día... podré ser bonita? :( 😍😍😍😍😍😍😍😍...   \n",
       "3     1022    25013  8 o 9... y porque Iroh está con el que está, s...   \n",
       "4     1636    25549  Cinco años sin participar de un día como este....   \n",
       "5     2125    23108  Acabo de terminar de ver Gilmore Girls por mil...   \n",
       "\n",
       "                                          clean_text  \n",
       "0   mencion que mirada tan interesante la de plut...  \n",
       "1   algún día... podré ser bonita enlace tiempo d...  \n",
       "3   o ... y porque iroh está con el que está sino...  \n",
       "4  cinco años sin participar de un día como este....  \n",
       "5  acabo de terminar de ver gilmore girls por mil...  "
      ]
     },
     "execution_count": 89,
     "metadata": {},
     "output_type": "execute_result"
    }
   ],
   "source": [
    "data.head()"
   ]
  },
  {
   "cell_type": "code",
   "execution_count": 90,
   "metadata": {
    "ExecuteTime": {
     "end_time": "2020-09-08T09:22:24.510766Z",
     "start_time": "2020-09-08T09:21:23.756240Z"
    }
   },
   "outputs": [],
   "source": [
    "data.to_csv(\"../data/data_spanish/data_spanish.csv\",index=False)"
   ]
  }
 ],
 "metadata": {
  "hide_input": false,
  "kernelspec": {
   "display_name": "Python 3",
   "language": "python",
   "name": "python3"
  },
  "language_info": {
   "codemirror_mode": {
    "name": "ipython",
    "version": 3
   },
   "file_extension": ".py",
   "mimetype": "text/x-python",
   "name": "python",
   "nbconvert_exporter": "python",
   "pygments_lexer": "ipython3",
   "version": "3.7.6"
  },
  "toc": {
   "base_numbering": 1,
   "nav_menu": {},
   "number_sections": true,
   "sideBar": true,
   "skip_h1_title": false,
   "title_cell": "Table of Contents",
   "title_sidebar": "Contents",
   "toc_cell": false,
   "toc_position": {},
   "toc_section_display": true,
   "toc_window_display": false
  },
  "varInspector": {
   "cols": {
    "lenName": 16,
    "lenType": 16,
    "lenVar": 40
   },
   "kernels_config": {
    "python": {
     "delete_cmd_postfix": "",
     "delete_cmd_prefix": "del ",
     "library": "var_list.py",
     "varRefreshCmd": "print(var_dic_list())"
    },
    "r": {
     "delete_cmd_postfix": ") ",
     "delete_cmd_prefix": "rm(",
     "library": "var_list.r",
     "varRefreshCmd": "cat(var_dic_list()) "
    }
   },
   "position": {
    "height": "377.5px",
    "left": "1396.96px",
    "right": "20px",
    "top": "-27.0078px",
    "width": "337.5px"
   },
   "types_to_exclude": [
    "module",
    "function",
    "builtin_function_or_method",
    "instance",
    "_Feature"
   ],
   "window_display": true
  }
 },
 "nbformat": 4,
 "nbformat_minor": 4
}
